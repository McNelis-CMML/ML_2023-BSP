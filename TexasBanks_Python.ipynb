{
 "cells": [
  {
   "cell_type": "markdown",
   "id": "3ce5ce82",
   "metadata": {},
   "source": [
    "$\\textbf{Introduction}$\n",
    "\n",
    "We cannot use linear models for problems of classification.  In such problems the dependent variable is a binary variable taking on the values 0 or 1.  Or a set of variables for several discrete outcomes, such as student ratings of teaching performance.  To get the dependent variable to fall between zero or one, or between a set of variables beween 1 and 5, as in most survey evaluation data, we need to use a squasher function on the set of exogenous variables or characteristics.  We thus move into nonlinear estimaiton.  We discuss Logit and Probit models first, then two methods from Machine Learning:  Random Forests and Neural Networks.\n",
    "\n",
    "\n",
    "$\\textbf{Logit and Probit Regression}$\n",
    "\n",
    "$\\textit{Logit Models}$\n",
    "\n",
    "Logit analysis assumes the following relation between probability $p_{i\\text{ }}$ of the binary dependent variable $y_{i}$, taking values zero or one, and the set of k explanatory variables $x_i$:\n",
    "\n",
    "Defining the logistic function L as a function of $x_{i}$ and the parameter set $\\beta$, it has the following form:\n",
    "\n",
    "$L_{i}= (x_{i},\\beta) = \\frac{1}{1+e^{-[\\Sigma x_{i}\\beta]}}$\n",
    "\n",
    "\n",
    "\n",
    "\n",
    "\n",
    "This is also called Logistic Regression.  The function is also called a Logsigmoid function.\n",
    "\n",
    "To estimate the parameters $\\beta$, we simply maximize the following  likelihood function\n",
    "$\\Lambda$ with respect to the parameter vector $\\beta\\underset{<\\beta>}$\n",
    "\n",
    "\n",
    "${Max}\\Lambda\t={\\displaystyle \\prod}\\left(L_{i}\\right)^{y_{i}}\\left(1-L_{i}\\right)^{1-y_{i}}\n",
    "\t={\\displaystyle \\prod}%\n",
    "\\left(\\frac{1}{1+e^{-[x_{i}\\beta]}}\\right)^{y_{i}}\\left(\\frac{e^{-[x_{i}\\beta]}}{1+e^{-[x_{i}\\beta]}}\\right)^{1-y_{i}}$\n",
    "\n",
    "where $y_{i\\text{ }}$ represents the observed discrete outcomes.\n",
    "\n",
    "For optimization, it is sometimes easier to optimize the sum of the log probability functions rather than the product of the probability functions :\n",
    "\n",
    "$\\ln(\\Lambda):\\underset{<\\beta>}{Max}\\ln(\\Lambda)=y_{i}\\ln(L_{i})+(1-y_{i})\\ln\\left(1-L_{i}\\right)$\n",
    "\n",
    "The k dimensional coefficient vector $\\beta$ does not represent a set of partial derivatives with respect to characteristics $x_{k}$.  The partial derivative comes from the following expression:\n",
    "\n",
    "$\\frac{\\partial L_{i}}{\\partial x_{i,k}}=\\frac{e^{x_{i}\\beta}}{\\left(1+e^{x_{i}\\beta}\\right)^{2}}\\beta_{k}$\n",
    "\n",
    "Or more simply:\n",
    "\n",
    "$\\frac{\\partial L_{i}}{\\partial x_{i,k}}= L_{i}(1-L_{i})\\beta_{k}$\n",
    "\n",
    "So it is easy to compute the partial derivatives.\n",
    "\n",
    "\n",
    "\n",
    "\n",
    "The partial derivatives are of particular interest if we wish to identify critical ”characteristics” which increase or decrease the likelihood of being in a particular state or category, such as representing a risk of default on a loan,  or surviving the Titanic.  In many cases, a risk-averse decision maker may take a more conservative approach.  For example, if the risk of having serious cancer exceeds .3, the physician may wish to diagnose the patient as being in a ”high risk” sstate, warranting further diagnosis.\n",
    "\n",
    "The usual way to evaluate this logistic model is to examine the percentage of correct predictions, both ”true” and ”false”, set at 1 and 0, on the basis of the expected value.  Setting the estimated $p_{i}$ at 0 or 1 depends of course on the choice of an appropriate \"threshold value\".  If the estimated probability or expected value $p_{i}$.is greater than .5, then $p_{i\\text{ }}$ is rounded to 1, and expected to take place.  Otherwise, it is not expected to occur.\n",
    "\n",
    "$\\textit{Probit Models}$ \n",
    "\n",
    "These models simply uses the cumulative Gaussian or Normal distribution rather than the logistic function for calculating the probability of being in one category or not:\n",
    "\n",
    "\n",
    "$p_{i}\t=\\mathbf{\\Phi}(x_{i}\\beta+\\beta_{0})\n",
    "\t=\\int_{-\\infty}^{x_{i}\\beta+\\beta_{0}}\\mathbf{\\phi}(t)dt$\n",
    "    \n",
    "where the symbol $\\mathbf{\\Phi}$ is simply the cumulative standard distribution, while the lower case symbol, $\\phi$, as before, represents the standard normal density function.   We maximize the same log-likelihood function.  \n",
    "\n",
    "The partial derivatives, however, come from the following expression:\n",
    "\n",
    "$\\frac{\\partial p_{i}}{\\partial x_{i,k}}=\\mathbf{\\phi}(x_{i}\\beta+\\beta_{0})\\beta_{k}$\n",
    "\n",
    "\n",
    "\n",
    "\n",
    "From the decisions of this analysis, one can construct a Confusion Matrix, based on the proportion of true and false positives, as shown in the $\\textit{Confusion Matrix}$:\n",
    "$$\n",
    "\\begin{aligned}\n",
    "     \\begin{array}{ccc}\n",
    "    \\hline \\hline \\textbf{Decision/State of the World} & \\textbf{TRUE} & \\textbf{FALSE}\\\\\n",
    "    \\hline \\textit{Accept} & \\text{Correct} &\\text{False Positive, Type II Error}-\\beta \\\\\n",
    "    \\hline \\textit{Reject} & \\text{False Negative, Type I Error}-\\alpha & \\text{Correct} \\\\\n",
    "    \\hline\n",
    "\\end{array}\n",
    "\\end{aligned}\n",
    "$$\n",
    "    \n",
    "  \n",
    "          \n",
    "\n",
    "\n",
    "\n",
    "\n",
    "\n",
    "\n",
    "\n",
    "\n",
    "Of course, the percentage of correct and incorrect decisions will change with the threshold values for classification. We can generate multiple Confusion Matrices for various thresholds for classification. But a more effective way is to examine the Receiver Operator Characteristic Curve (ROC), which plots the True Positive Rates against the False Positive Rates for alternative threshold values. The Area Under the Curve (AUC) is a measure of the ability of the classifier to distinguish between the classes. The greater the area under the curve, of course, the better the performance of the classifier. \n",
    "\n",
    "One of the advances of MLMs is to make use of Random Forests for classification. We will compare the out-of-sample performance of these methods with the classical methods in later chapters."
   ]
  },
  {
   "cell_type": "markdown",
   "id": "60a94de1",
   "metadata": {},
   "source": [
    "Texas Banking"
   ]
  },
  {
   "cell_type": "code",
   "execution_count": 4,
   "id": "7a79c98c",
   "metadata": {},
   "outputs": [],
   "source": [
    "import pandas as pd\n",
    "import numpy as np\n",
    "from matplotlib import pyplot as plt"
   ]
  },
  {
   "cell_type": "code",
   "execution_count": null,
   "id": "a1af4cda",
   "metadata": {},
   "outputs": [],
   "source": []
  },
  {
   "cell_type": "code",
   "execution_count": 34,
   "id": "0b2ecd8c",
   "metadata": {},
   "outputs": [
    {
     "name": "stdout",
     "output_type": "stream",
     "text": [
      "(12605, 23)\n"
     ]
    }
   ],
   "source": [
    "df = pd.read_excel('TexasBanks.xlsx')\n",
    "print(df.shape)"
   ]
  },
  {
   "cell_type": "code",
   "execution_count": 6,
   "id": "d9735135",
   "metadata": {},
   "outputs": [
    {
     "data": {
      "text/html": [
       "<div>\n",
       "<style scoped>\n",
       "    .dataframe tbody tr th:only-of-type {\n",
       "        vertical-align: middle;\n",
       "    }\n",
       "\n",
       "    .dataframe tbody tr th {\n",
       "        vertical-align: top;\n",
       "    }\n",
       "\n",
       "    .dataframe thead th {\n",
       "        text-align: right;\n",
       "    }\n",
       "</style>\n",
       "<table border=\"1\" class=\"dataframe\">\n",
       "  <thead>\n",
       "    <tr style=\"text-align: right;\">\n",
       "      <th></th>\n",
       "      <th>Charter</th>\n",
       "      <th>FRB</th>\n",
       "      <th>Caratio</th>\n",
       "      <th>Earatio</th>\n",
       "      <th>Dlratio</th>\n",
       "      <th>Mlratio</th>\n",
       "      <th>Agratio</th>\n",
       "      <th>Conratio</th>\n",
       "      <th>CreditCrat</th>\n",
       "      <th>InstallR</th>\n",
       "      <th>...</th>\n",
       "      <th>Intmargin</th>\n",
       "      <th>ExpAssets</th>\n",
       "      <th>Margins</th>\n",
       "      <th>PubDepR</th>\n",
       "      <th>IntBnk</th>\n",
       "      <th>Liquid</th>\n",
       "      <th>Usnpl</th>\n",
       "      <th>Usnpequity</th>\n",
       "      <th>LoansGDP</th>\n",
       "      <th>Intervention</th>\n",
       "    </tr>\n",
       "  </thead>\n",
       "  <tbody>\n",
       "    <tr>\n",
       "      <th>0</th>\n",
       "      <td>1</td>\n",
       "      <td>0</td>\n",
       "      <td>8.22</td>\n",
       "      <td>0.074276</td>\n",
       "      <td>1.322248</td>\n",
       "      <td>0.174835</td>\n",
       "      <td>0.012584</td>\n",
       "      <td>0.155840</td>\n",
       "      <td>0.0</td>\n",
       "      <td>0.0</td>\n",
       "      <td>...</td>\n",
       "      <td>4.64</td>\n",
       "      <td>4.07</td>\n",
       "      <td>10.39</td>\n",
       "      <td>8.70</td>\n",
       "      <td>0.07</td>\n",
       "      <td>70.61</td>\n",
       "      <td>4.29</td>\n",
       "      <td>47.05</td>\n",
       "      <td>2.09</td>\n",
       "      <td>0</td>\n",
       "    </tr>\n",
       "    <tr>\n",
       "      <th>1</th>\n",
       "      <td>0</td>\n",
       "      <td>1</td>\n",
       "      <td>7.08</td>\n",
       "      <td>0.062175</td>\n",
       "      <td>1.385727</td>\n",
       "      <td>0.143420</td>\n",
       "      <td>0.002276</td>\n",
       "      <td>0.204665</td>\n",
       "      <td>0.0</td>\n",
       "      <td>0.0</td>\n",
       "      <td>...</td>\n",
       "      <td>4.20</td>\n",
       "      <td>2.90</td>\n",
       "      <td>13.05</td>\n",
       "      <td>3.25</td>\n",
       "      <td>0.46</td>\n",
       "      <td>57.80</td>\n",
       "      <td>4.29</td>\n",
       "      <td>47.05</td>\n",
       "      <td>2.09</td>\n",
       "      <td>0</td>\n",
       "    </tr>\n",
       "    <tr>\n",
       "      <th>2</th>\n",
       "      <td>1</td>\n",
       "      <td>0</td>\n",
       "      <td>6.78</td>\n",
       "      <td>0.058591</td>\n",
       "      <td>1.466042</td>\n",
       "      <td>0.065576</td>\n",
       "      <td>0.001885</td>\n",
       "      <td>0.147131</td>\n",
       "      <td>0.0</td>\n",
       "      <td>0.0</td>\n",
       "      <td>...</td>\n",
       "      <td>3.61</td>\n",
       "      <td>3.44</td>\n",
       "      <td>9.47</td>\n",
       "      <td>34.85</td>\n",
       "      <td>0.23</td>\n",
       "      <td>60.18</td>\n",
       "      <td>4.29</td>\n",
       "      <td>47.05</td>\n",
       "      <td>2.09</td>\n",
       "      <td>0</td>\n",
       "    </tr>\n",
       "    <tr>\n",
       "      <th>3</th>\n",
       "      <td>1</td>\n",
       "      <td>0</td>\n",
       "      <td>8.97</td>\n",
       "      <td>0.085469</td>\n",
       "      <td>2.294528</td>\n",
       "      <td>0.042032</td>\n",
       "      <td>0.000000</td>\n",
       "      <td>0.333422</td>\n",
       "      <td>0.0</td>\n",
       "      <td>0.0</td>\n",
       "      <td>...</td>\n",
       "      <td>4.22</td>\n",
       "      <td>3.69</td>\n",
       "      <td>12.66</td>\n",
       "      <td>1.06</td>\n",
       "      <td>0.00</td>\n",
       "      <td>66.95</td>\n",
       "      <td>4.29</td>\n",
       "      <td>47.05</td>\n",
       "      <td>2.09</td>\n",
       "      <td>0</td>\n",
       "    </tr>\n",
       "    <tr>\n",
       "      <th>4</th>\n",
       "      <td>0</td>\n",
       "      <td>1</td>\n",
       "      <td>6.48</td>\n",
       "      <td>0.051700</td>\n",
       "      <td>1.223733</td>\n",
       "      <td>0.181685</td>\n",
       "      <td>0.000004</td>\n",
       "      <td>0.089576</td>\n",
       "      <td>0.0</td>\n",
       "      <td>0.0</td>\n",
       "      <td>...</td>\n",
       "      <td>4.72</td>\n",
       "      <td>3.24</td>\n",
       "      <td>12.39</td>\n",
       "      <td>20.06</td>\n",
       "      <td>14.93</td>\n",
       "      <td>59.00</td>\n",
       "      <td>4.29</td>\n",
       "      <td>47.05</td>\n",
       "      <td>2.09</td>\n",
       "      <td>1</td>\n",
       "    </tr>\n",
       "  </tbody>\n",
       "</table>\n",
       "<p>5 rows × 23 columns</p>\n",
       "</div>"
      ],
      "text/plain": [
       "   Charter  FRB  Caratio   Earatio   Dlratio   Mlratio   Agratio  Conratio  \\\n",
       "0        1    0     8.22  0.074276  1.322248  0.174835  0.012584  0.155840   \n",
       "1        0    1     7.08  0.062175  1.385727  0.143420  0.002276  0.204665   \n",
       "2        1    0     6.78  0.058591  1.466042  0.065576  0.001885  0.147131   \n",
       "3        1    0     8.97  0.085469  2.294528  0.042032  0.000000  0.333422   \n",
       "4        0    1     6.48  0.051700  1.223733  0.181685  0.000004  0.089576   \n",
       "\n",
       "   CreditCrat  InstallR  ...  Intmargin  ExpAssets  Margins  PubDepR  IntBnk  \\\n",
       "0         0.0       0.0  ...       4.64       4.07    10.39     8.70    0.07   \n",
       "1         0.0       0.0  ...       4.20       2.90    13.05     3.25    0.46   \n",
       "2         0.0       0.0  ...       3.61       3.44     9.47    34.85    0.23   \n",
       "3         0.0       0.0  ...       4.22       3.69    12.66     1.06    0.00   \n",
       "4         0.0       0.0  ...       4.72       3.24    12.39    20.06   14.93   \n",
       "\n",
       "   Liquid  Usnpl  Usnpequity  LoansGDP  Intervention  \n",
       "0   70.61   4.29       47.05      2.09             0  \n",
       "1   57.80   4.29       47.05      2.09             0  \n",
       "2   60.18   4.29       47.05      2.09             0  \n",
       "3   66.95   4.29       47.05      2.09             0  \n",
       "4   59.00   4.29       47.05      2.09             1  \n",
       "\n",
       "[5 rows x 23 columns]"
      ]
     },
     "execution_count": 6,
     "metadata": {},
     "output_type": "execute_result"
    }
   ],
   "source": [
    "#!pip install openpyxl\n",
    "df = pd.read_excel('TexasBanks.xlsx') \n",
    "                   \n",
    "\n",
    "df.head()"
   ]
  },
  {
   "cell_type": "code",
   "execution_count": null,
   "id": "cef81a14",
   "metadata": {},
   "outputs": [],
   "source": []
  },
  {
   "cell_type": "markdown",
   "id": "fb3ae5d3",
   "metadata": {},
   "source": [
    "$\\textit{Remove missing entries}$"
   ]
  },
  {
   "cell_type": "code",
   "execution_count": 7,
   "id": "112bc579",
   "metadata": {},
   "outputs": [
    {
     "name": "stdout",
     "output_type": "stream",
     "text": [
      "(12605, 23)\n",
      "(12605, 23)\n"
     ]
    }
   ],
   "source": [
    "\n",
    "df = df.replace({'?':np.nan})\n",
    "df = df.dropna()\n",
    "print(df.shape)"
   ]
  },
  {
   "cell_type": "code",
   "execution_count": 38,
   "id": "1c9fbd0c",
   "metadata": {},
   "outputs": [],
   "source": [
    "X = df.iloc[:,:-1]\n",
    "y = df.iloc[:,22]\n",
    "features = X.columns.tolist()\n",
    "\n",
    "X = np.array(X)\n",
    "y = np.array(y)\n",
    "X[:,0]= -X[:,0]\n",
    "\n",
    "\n"
   ]
  },
  {
   "cell_type": "code",
   "execution_count": 39,
   "id": "d99e76c4",
   "metadata": {},
   "outputs": [
    {
     "name": "stdout",
     "output_type": "stream",
     "text": [
      "(12605,)\n"
     ]
    }
   ],
   "source": [
    "print(y.shape)"
   ]
  },
  {
   "cell_type": "markdown",
   "id": "0e0078d3",
   "metadata": {},
   "source": [
    "$\\textit{Features}$\n",
    "\n",
    "We take the negative for class, so that first class (1) is $\\textit{higher}$ than the second and third classes of service\n"
   ]
  },
  {
   "cell_type": "code",
   "execution_count": 40,
   "id": "54b8dcb7",
   "metadata": {},
   "outputs": [
    {
     "name": "stdout",
     "output_type": "stream",
     "text": [
      "['Charter', 'FRB', 'Caratio', 'Earatio', 'Dlratio', 'Mlratio', 'Agratio', 'Conratio', 'CreditCrat', 'InstallR', 'NPL', 'Retasset', 'Retequity', 'Intmargin', 'ExpAssets', 'Margins', 'PubDepR', 'IntBnk', 'Liquid', 'Usnpl', 'Usnpequity', 'LoansGDP']\n"
     ]
    }
   ],
   "source": [
    "print(features)\n"
   ]
  },
  {
   "cell_type": "code",
   "execution_count": 41,
   "id": "2920893e",
   "metadata": {},
   "outputs": [],
   "source": [
    "from statsmodels.discrete.discrete_model import Probit\n",
    "from statsmodels.discrete.discrete_model import Logit"
   ]
  },
  {
   "cell_type": "code",
   "execution_count": 42,
   "id": "3fbec9b8",
   "metadata": {},
   "outputs": [
    {
     "data": {
      "text/html": [
       "<style>#sk-container-id-3 {color: black;background-color: white;}#sk-container-id-3 pre{padding: 0;}#sk-container-id-3 div.sk-toggleable {background-color: white;}#sk-container-id-3 label.sk-toggleable__label {cursor: pointer;display: block;width: 100%;margin-bottom: 0;padding: 0.3em;box-sizing: border-box;text-align: center;}#sk-container-id-3 label.sk-toggleable__label-arrow:before {content: \"▸\";float: left;margin-right: 0.25em;color: #696969;}#sk-container-id-3 label.sk-toggleable__label-arrow:hover:before {color: black;}#sk-container-id-3 div.sk-estimator:hover label.sk-toggleable__label-arrow:before {color: black;}#sk-container-id-3 div.sk-toggleable__content {max-height: 0;max-width: 0;overflow: hidden;text-align: left;background-color: #f0f8ff;}#sk-container-id-3 div.sk-toggleable__content pre {margin: 0.2em;color: black;border-radius: 0.25em;background-color: #f0f8ff;}#sk-container-id-3 input.sk-toggleable__control:checked~div.sk-toggleable__content {max-height: 200px;max-width: 100%;overflow: auto;}#sk-container-id-3 input.sk-toggleable__control:checked~label.sk-toggleable__label-arrow:before {content: \"▾\";}#sk-container-id-3 div.sk-estimator input.sk-toggleable__control:checked~label.sk-toggleable__label {background-color: #d4ebff;}#sk-container-id-3 div.sk-label input.sk-toggleable__control:checked~label.sk-toggleable__label {background-color: #d4ebff;}#sk-container-id-3 input.sk-hidden--visually {border: 0;clip: rect(1px 1px 1px 1px);clip: rect(1px, 1px, 1px, 1px);height: 1px;margin: -1px;overflow: hidden;padding: 0;position: absolute;width: 1px;}#sk-container-id-3 div.sk-estimator {font-family: monospace;background-color: #f0f8ff;border: 1px dotted black;border-radius: 0.25em;box-sizing: border-box;margin-bottom: 0.5em;}#sk-container-id-3 div.sk-estimator:hover {background-color: #d4ebff;}#sk-container-id-3 div.sk-parallel-item::after {content: \"\";width: 100%;border-bottom: 1px solid gray;flex-grow: 1;}#sk-container-id-3 div.sk-label:hover label.sk-toggleable__label {background-color: #d4ebff;}#sk-container-id-3 div.sk-serial::before {content: \"\";position: absolute;border-left: 1px solid gray;box-sizing: border-box;top: 0;bottom: 0;left: 50%;z-index: 0;}#sk-container-id-3 div.sk-serial {display: flex;flex-direction: column;align-items: center;background-color: white;padding-right: 0.2em;padding-left: 0.2em;position: relative;}#sk-container-id-3 div.sk-item {position: relative;z-index: 1;}#sk-container-id-3 div.sk-parallel {display: flex;align-items: stretch;justify-content: center;background-color: white;position: relative;}#sk-container-id-3 div.sk-item::before, #sk-container-id-3 div.sk-parallel-item::before {content: \"\";position: absolute;border-left: 1px solid gray;box-sizing: border-box;top: 0;bottom: 0;left: 50%;z-index: -1;}#sk-container-id-3 div.sk-parallel-item {display: flex;flex-direction: column;z-index: 1;position: relative;background-color: white;}#sk-container-id-3 div.sk-parallel-item:first-child::after {align-self: flex-end;width: 50%;}#sk-container-id-3 div.sk-parallel-item:last-child::after {align-self: flex-start;width: 50%;}#sk-container-id-3 div.sk-parallel-item:only-child::after {width: 0;}#sk-container-id-3 div.sk-dashed-wrapped {border: 1px dashed gray;margin: 0 0.4em 0.5em 0.4em;box-sizing: border-box;padding-bottom: 0.4em;background-color: white;}#sk-container-id-3 div.sk-label label {font-family: monospace;font-weight: bold;display: inline-block;line-height: 1.2em;}#sk-container-id-3 div.sk-label-container {text-align: center;}#sk-container-id-3 div.sk-container {/* jupyter's `normalize.less` sets `[hidden] { display: none; }` but bootstrap.min.css set `[hidden] { display: none !important; }` so we also need the `!important` here to be able to override the default hidden behavior on the sphinx rendered scikit-learn.org. See: https://github.com/scikit-learn/scikit-learn/issues/21755 */display: inline-block !important;position: relative;}#sk-container-id-3 div.sk-text-repr-fallback {display: none;}</style><div id=\"sk-container-id-3\" class=\"sk-top-container\"><div class=\"sk-text-repr-fallback\"><pre>LinearDiscriminantAnalysis()</pre><b>In a Jupyter environment, please rerun this cell to show the HTML representation or trust the notebook. <br />On GitHub, the HTML representation is unable to render, please try loading this page with nbviewer.org.</b></div><div class=\"sk-container\" hidden><div class=\"sk-item\"><div class=\"sk-estimator sk-toggleable\"><input class=\"sk-toggleable__control sk-hidden--visually\" id=\"sk-estimator-id-3\" type=\"checkbox\" checked><label for=\"sk-estimator-id-3\" class=\"sk-toggleable__label sk-toggleable__label-arrow\">LinearDiscriminantAnalysis</label><div class=\"sk-toggleable__content\"><pre>LinearDiscriminantAnalysis()</pre></div></div></div></div></div>"
      ],
      "text/plain": [
       "LinearDiscriminantAnalysis()"
      ]
     },
     "execution_count": 42,
     "metadata": {},
     "output_type": "execute_result"
    }
   ],
   "source": [
    "from sklearn.discriminant_analysis import LinearDiscriminantAnalysis\n",
    "\n",
    "# Generate some example data\n",
    "\n",
    "# Create the LDA model\n",
    "model = LinearDiscriminantAnalysis()\n",
    "\n",
    "# Fit the model\n",
    "model.fit(X, y)\n",
    "\n",
    "# Predict the class of a new observation\n"
   ]
  },
  {
   "cell_type": "code",
   "execution_count": 43,
   "id": "058997a9",
   "metadata": {},
   "outputs": [
    {
     "name": "stdout",
     "output_type": "stream",
     "text": [
      "(12605,)\n"
     ]
    }
   ],
   "source": [
    "print(y.shape)"
   ]
  },
  {
   "cell_type": "code",
   "execution_count": 44,
   "id": "0d2e72bf",
   "metadata": {},
   "outputs": [
    {
     "name": "stdout",
     "output_type": "stream",
     "text": [
      "Optimization terminated successfully.\n",
      "         Current function value: 0.305093\n",
      "         Iterations 8\n",
      "                          Probit Regression Results                           \n",
      "==============================================================================\n",
      "Dep. Variable:                      y   No. Observations:                12605\n",
      "Model:                         Probit   Df Residuals:                    12583\n",
      "Method:                           MLE   Df Model:                           21\n",
      "Date:                Thu, 23 Mar 2023   Pseudo R-squ.:                  0.3257\n",
      "Time:                        09:14:00   Log-Likelihood:                -3845.7\n",
      "converged:                       True   LL-Null:                       -5703.7\n",
      "Covariance Type:            nonrobust   LLR p-value:                     0.000\n",
      "==============================================================================\n",
      "                 coef    std err          z      P>|z|      [0.025      0.975]\n",
      "------------------------------------------------------------------------------\n",
      "x1             0.2828      0.084      3.376      0.001       0.119       0.447\n",
      "x2             0.0983      0.084      1.166      0.243      -0.067       0.263\n",
      "x3            -0.2050      0.023     -8.932      0.000      -0.250      -0.160\n",
      "x4             0.2015      2.234      0.090      0.928      -4.178       4.581\n",
      "x5            -0.5490      0.030    -18.003      0.000      -0.609      -0.489\n",
      "x6            -0.1804      0.164     -1.099      0.272      -0.502       0.141\n",
      "x7             0.8276      0.222      3.736      0.000       0.393       1.262\n",
      "x8             0.8710      0.203      4.296      0.000       0.474       1.268\n",
      "x9            -8.3936      1.567     -5.358      0.000     -11.464      -5.323\n",
      "x10            1.0134      0.193      5.238      0.000       0.634       1.393\n",
      "x11           -0.0036      0.006     -0.580      0.562      -0.016       0.008\n",
      "x12           -0.0307      0.046     -0.674      0.500      -0.120       0.059\n",
      "x13          6.62e-06   4.26e-05      0.155      0.876   -7.68e-05    9.01e-05\n",
      "x14           -0.2645      0.026    -10.064      0.000      -0.316      -0.213\n",
      "x15            0.0262      0.019      1.356      0.175      -0.012       0.064\n",
      "x16           -0.0053      0.004     -1.357      0.175      -0.013       0.002\n",
      "x17            0.0077      0.001      8.291      0.000       0.006       0.010\n",
      "x18            0.0064      0.002      3.630      0.000       0.003       0.010\n",
      "x19            0.0112      0.001      8.392      0.000       0.009       0.014\n",
      "x20            0.0907      0.023      3.913      0.000       0.045       0.136\n",
      "x21           -0.0027      0.001     -2.181      0.029      -0.005      -0.000\n",
      "x22            0.7452      0.050     14.818      0.000       0.647       0.844\n",
      "==============================================================================\n",
      "Optimization terminated successfully.\n",
      "         Current function value: 0.304980\n",
      "         Iterations 8\n",
      "                           Logit Regression Results                           \n",
      "==============================================================================\n",
      "Dep. Variable:                      y   No. Observations:                12605\n",
      "Model:                          Logit   Df Residuals:                    12583\n",
      "Method:                           MLE   Df Model:                           21\n",
      "Date:                Thu, 23 Mar 2023   Pseudo R-squ.:                  0.3260\n",
      "Time:                        09:14:00   Log-Likelihood:                -3844.3\n",
      "converged:                       True   LL-Null:                       -5703.7\n",
      "Covariance Type:            nonrobust   LLR p-value:                     0.000\n",
      "==============================================================================\n",
      "                 coef    std err          z      P>|z|      [0.025      0.975]\n",
      "------------------------------------------------------------------------------\n",
      "x1             0.5328      0.158      3.375      0.001       0.223       0.842\n",
      "x2             0.1852      0.159      1.162      0.245      -0.127       0.498\n",
      "x3            -0.4466      0.044    -10.085      0.000      -0.533      -0.360\n",
      "x4             5.2224      4.149      1.259      0.208      -2.909      13.354\n",
      "x5            -1.0372      0.058    -17.983      0.000      -1.150      -0.924\n",
      "x6            -0.1029      0.291     -0.353      0.724      -0.674       0.468\n",
      "x7             1.8626      0.406      4.591      0.000       1.067       2.658\n",
      "x8             1.7664      0.349      5.061      0.000       1.082       2.451\n",
      "x9           -16.0037      3.138     -5.099      0.000     -22.155      -9.853\n",
      "x10            1.8645      0.332      5.622      0.000       1.214       2.514\n",
      "x11            0.0032      0.011      0.286      0.775      -0.018       0.025\n",
      "x12            0.0516      0.090      0.575      0.565      -0.124       0.227\n",
      "x13          3.37e-06   7.95e-05      0.042      0.966      -0.000       0.000\n",
      "x14           -0.4642      0.048     -9.576      0.000      -0.559      -0.369\n",
      "x15            0.0660      0.035      1.882      0.060      -0.003       0.135\n",
      "x16           -0.0179      0.008     -2.278      0.023      -0.033      -0.002\n",
      "x17            0.0146      0.002      8.775      0.000       0.011       0.018\n",
      "x18            0.0116      0.003      3.652      0.000       0.005       0.018\n",
      "x19            0.0220      0.002      9.076      0.000       0.017       0.027\n",
      "x20            0.1783      0.041      4.340      0.000       0.098       0.259\n",
      "x21           -0.0057      0.002     -2.603      0.009      -0.010      -0.001\n",
      "x22            1.3490      0.090     14.918      0.000       1.172       1.526\n",
      "==============================================================================\n"
     ]
    }
   ],
   "source": [
    "model = Probit(y, X)\n",
    "probit_model = model.fit()\n",
    "print(probit_model.summary())\n",
    "model1 = Logit(y, X)\n",
    "logit_model = model1.fit()\n",
    "print(logit_model.summary())\n"
   ]
  },
  {
   "cell_type": "code",
   "execution_count": 45,
   "id": "3120583c",
   "metadata": {},
   "outputs": [
    {
     "name": "stdout",
     "output_type": "stream",
     "text": [
      "       Probit Marginal Effects       \n",
      "=====================================\n",
      "Dep. Variable:                      y\n",
      "Method:                          dydx\n",
      "At:                           overall\n",
      "==============================================================================\n",
      "                dy/dx    std err          z      P>|z|      [0.025      0.975]\n",
      "------------------------------------------------------------------------------\n",
      "x1             0.0481      0.014      3.379      0.001       0.020       0.076\n",
      "x2             0.0167      0.014      1.167      0.243      -0.011       0.045\n",
      "x3            -0.0348      0.004     -8.974      0.000      -0.042      -0.027\n",
      "x4             0.0343      0.380      0.090      0.928      -0.710       0.779\n",
      "x5            -0.0933      0.005    -18.578      0.000      -0.103      -0.083\n",
      "x6            -0.0307      0.028     -1.099      0.272      -0.085       0.024\n",
      "x7             0.1407      0.038      3.739      0.000       0.067       0.214\n",
      "x8             0.1480      0.034      4.300      0.000       0.081       0.216\n",
      "x9            -1.4266      0.266     -5.373      0.000      -1.947      -0.906\n",
      "x10            0.1722      0.033      5.256      0.000       0.108       0.236\n",
      "x11           -0.0006      0.001     -0.580      0.562      -0.003       0.001\n",
      "x12           -0.0052      0.008     -0.674      0.500      -0.020       0.010\n",
      "x13         1.125e-06   7.24e-06      0.156      0.876   -1.31e-05    1.53e-05\n",
      "x14           -0.0450      0.004    -10.185      0.000      -0.054      -0.036\n",
      "x15            0.0045      0.003      1.356      0.175      -0.002       0.011\n",
      "x16           -0.0009      0.001     -1.357      0.175      -0.002       0.000\n",
      "x17            0.0013      0.000      8.348      0.000       0.001       0.002\n",
      "x18            0.0011      0.000      3.636      0.000       0.001       0.002\n",
      "x19            0.0019      0.000      8.432      0.000       0.001       0.002\n",
      "x20            0.0154      0.004      3.917      0.000       0.008       0.023\n",
      "x21           -0.0005      0.000     -2.182      0.029      -0.001   -4.67e-05\n",
      "x22            0.1267      0.008     15.203      0.000       0.110       0.143\n",
      "==============================================================================\n"
     ]
    }
   ],
   "source": [
    "mfx = probit_model.get_margeff()\n",
    "print(mfx.summary())\n"
   ]
  },
  {
   "cell_type": "code",
   "execution_count": 46,
   "id": "0102e131",
   "metadata": {},
   "outputs": [],
   "source": [
    "from sklearn.linear_model import LogisticRegression\n",
    "from sklearn.metrics import classification_report, confusion_matrix"
   ]
  },
  {
   "cell_type": "code",
   "execution_count": 47,
   "id": "ef7caa15",
   "metadata": {},
   "outputs": [],
   "source": [
    "model = LogisticRegression(solver='liblinear', random_state=0)"
   ]
  },
  {
   "cell_type": "code",
   "execution_count": 48,
   "id": "fc1cb724",
   "metadata": {},
   "outputs": [
    {
     "name": "stdout",
     "output_type": "stream",
     "text": [
      "(12605,)\n"
     ]
    }
   ],
   "source": [
    "print(y.shape)"
   ]
  },
  {
   "cell_type": "code",
   "execution_count": 49,
   "id": "6bd50c0f",
   "metadata": {},
   "outputs": [
    {
     "data": {
      "text/html": [
       "<style>#sk-container-id-4 {color: black;background-color: white;}#sk-container-id-4 pre{padding: 0;}#sk-container-id-4 div.sk-toggleable {background-color: white;}#sk-container-id-4 label.sk-toggleable__label {cursor: pointer;display: block;width: 100%;margin-bottom: 0;padding: 0.3em;box-sizing: border-box;text-align: center;}#sk-container-id-4 label.sk-toggleable__label-arrow:before {content: \"▸\";float: left;margin-right: 0.25em;color: #696969;}#sk-container-id-4 label.sk-toggleable__label-arrow:hover:before {color: black;}#sk-container-id-4 div.sk-estimator:hover label.sk-toggleable__label-arrow:before {color: black;}#sk-container-id-4 div.sk-toggleable__content {max-height: 0;max-width: 0;overflow: hidden;text-align: left;background-color: #f0f8ff;}#sk-container-id-4 div.sk-toggleable__content pre {margin: 0.2em;color: black;border-radius: 0.25em;background-color: #f0f8ff;}#sk-container-id-4 input.sk-toggleable__control:checked~div.sk-toggleable__content {max-height: 200px;max-width: 100%;overflow: auto;}#sk-container-id-4 input.sk-toggleable__control:checked~label.sk-toggleable__label-arrow:before {content: \"▾\";}#sk-container-id-4 div.sk-estimator input.sk-toggleable__control:checked~label.sk-toggleable__label {background-color: #d4ebff;}#sk-container-id-4 div.sk-label input.sk-toggleable__control:checked~label.sk-toggleable__label {background-color: #d4ebff;}#sk-container-id-4 input.sk-hidden--visually {border: 0;clip: rect(1px 1px 1px 1px);clip: rect(1px, 1px, 1px, 1px);height: 1px;margin: -1px;overflow: hidden;padding: 0;position: absolute;width: 1px;}#sk-container-id-4 div.sk-estimator {font-family: monospace;background-color: #f0f8ff;border: 1px dotted black;border-radius: 0.25em;box-sizing: border-box;margin-bottom: 0.5em;}#sk-container-id-4 div.sk-estimator:hover {background-color: #d4ebff;}#sk-container-id-4 div.sk-parallel-item::after {content: \"\";width: 100%;border-bottom: 1px solid gray;flex-grow: 1;}#sk-container-id-4 div.sk-label:hover label.sk-toggleable__label {background-color: #d4ebff;}#sk-container-id-4 div.sk-serial::before {content: \"\";position: absolute;border-left: 1px solid gray;box-sizing: border-box;top: 0;bottom: 0;left: 50%;z-index: 0;}#sk-container-id-4 div.sk-serial {display: flex;flex-direction: column;align-items: center;background-color: white;padding-right: 0.2em;padding-left: 0.2em;position: relative;}#sk-container-id-4 div.sk-item {position: relative;z-index: 1;}#sk-container-id-4 div.sk-parallel {display: flex;align-items: stretch;justify-content: center;background-color: white;position: relative;}#sk-container-id-4 div.sk-item::before, #sk-container-id-4 div.sk-parallel-item::before {content: \"\";position: absolute;border-left: 1px solid gray;box-sizing: border-box;top: 0;bottom: 0;left: 50%;z-index: -1;}#sk-container-id-4 div.sk-parallel-item {display: flex;flex-direction: column;z-index: 1;position: relative;background-color: white;}#sk-container-id-4 div.sk-parallel-item:first-child::after {align-self: flex-end;width: 50%;}#sk-container-id-4 div.sk-parallel-item:last-child::after {align-self: flex-start;width: 50%;}#sk-container-id-4 div.sk-parallel-item:only-child::after {width: 0;}#sk-container-id-4 div.sk-dashed-wrapped {border: 1px dashed gray;margin: 0 0.4em 0.5em 0.4em;box-sizing: border-box;padding-bottom: 0.4em;background-color: white;}#sk-container-id-4 div.sk-label label {font-family: monospace;font-weight: bold;display: inline-block;line-height: 1.2em;}#sk-container-id-4 div.sk-label-container {text-align: center;}#sk-container-id-4 div.sk-container {/* jupyter's `normalize.less` sets `[hidden] { display: none; }` but bootstrap.min.css set `[hidden] { display: none !important; }` so we also need the `!important` here to be able to override the default hidden behavior on the sphinx rendered scikit-learn.org. See: https://github.com/scikit-learn/scikit-learn/issues/21755 */display: inline-block !important;position: relative;}#sk-container-id-4 div.sk-text-repr-fallback {display: none;}</style><div id=\"sk-container-id-4\" class=\"sk-top-container\"><div class=\"sk-text-repr-fallback\"><pre>LogisticRegression(random_state=0, solver=&#x27;liblinear&#x27;)</pre><b>In a Jupyter environment, please rerun this cell to show the HTML representation or trust the notebook. <br />On GitHub, the HTML representation is unable to render, please try loading this page with nbviewer.org.</b></div><div class=\"sk-container\" hidden><div class=\"sk-item\"><div class=\"sk-estimator sk-toggleable\"><input class=\"sk-toggleable__control sk-hidden--visually\" id=\"sk-estimator-id-4\" type=\"checkbox\" checked><label for=\"sk-estimator-id-4\" class=\"sk-toggleable__label sk-toggleable__label-arrow\">LogisticRegression</label><div class=\"sk-toggleable__content\"><pre>LogisticRegression(random_state=0, solver=&#x27;liblinear&#x27;)</pre></div></div></div></div></div>"
      ],
      "text/plain": [
       "LogisticRegression(random_state=0, solver='liblinear')"
      ]
     },
     "execution_count": 49,
     "metadata": {},
     "output_type": "execute_result"
    }
   ],
   "source": [
    "model.fit(X, y)\n"
   ]
  },
  {
   "cell_type": "code",
   "execution_count": 50,
   "id": "d9195e56",
   "metadata": {},
   "outputs": [
    {
     "data": {
      "text/plain": [
       "[[0.3672022684310019, 0.034703022213747735],\n",
       " [0.6327977315689981, 0.9652969777862522]]"
      ]
     },
     "execution_count": 50,
     "metadata": {},
     "output_type": "execute_result"
    }
   ],
   "source": [
    "CM = confusion_matrix(y, model.predict(X))\n",
    "tp = CM[1,1]\n",
    "fn = CM[1,0]\n",
    "tn = CM[0,0]\n",
    "fp = CM[0,1]\n",
    "CM1 = [[tp/(tp+fn), fp/(tn+fp) ],\n",
    "      [fn/(tp+fn), tn/(tn+fp) ]]\n",
    "\n",
    "Survival = np.sum(y)/len(y)\n",
    "Survival\n",
    "CM1\n"
   ]
  },
  {
   "cell_type": "code",
   "execution_count": 51,
   "id": "a0919e32",
   "metadata": {},
   "outputs": [
    {
     "name": "stdout",
     "output_type": "stream",
     "text": [
      "Optimization terminated successfully.\n",
      "         Current function value: 0.304980\n",
      "         Iterations 8\n"
     ]
    },
    {
     "data": {
      "text/html": [
       "<table class=\"simpletable\">\n",
       "<caption>Logit Regression Results</caption>\n",
       "<tr>\n",
       "  <th>Dep. Variable:</th>           <td>y</td>        <th>  No. Observations:  </th>  <td> 12605</td> \n",
       "</tr>\n",
       "<tr>\n",
       "  <th>Model:</th>                 <td>Logit</td>      <th>  Df Residuals:      </th>  <td> 12583</td> \n",
       "</tr>\n",
       "<tr>\n",
       "  <th>Method:</th>                 <td>MLE</td>       <th>  Df Model:          </th>  <td>    21</td> \n",
       "</tr>\n",
       "<tr>\n",
       "  <th>Date:</th>            <td>Thu, 23 Mar 2023</td> <th>  Pseudo R-squ.:     </th>  <td>0.3260</td> \n",
       "</tr>\n",
       "<tr>\n",
       "  <th>Time:</th>                <td>09:14:17</td>     <th>  Log-Likelihood:    </th> <td> -3844.3</td>\n",
       "</tr>\n",
       "<tr>\n",
       "  <th>converged:</th>             <td>True</td>       <th>  LL-Null:           </th> <td> -5703.7</td>\n",
       "</tr>\n",
       "<tr>\n",
       "  <th>Covariance Type:</th>     <td>nonrobust</td>    <th>  LLR p-value:       </th>  <td> 0.000</td> \n",
       "</tr>\n",
       "</table>\n",
       "<table class=\"simpletable\">\n",
       "<tr>\n",
       "   <td></td>      <th>coef</th>     <th>std err</th>      <th>z</th>      <th>P>|z|</th>  <th>[0.025</th>    <th>0.975]</th>  \n",
       "</tr>\n",
       "<tr>\n",
       "  <th>x1</th>  <td>    0.5328</td> <td>    0.158</td> <td>    3.375</td> <td> 0.001</td> <td>    0.223</td> <td>    0.842</td>\n",
       "</tr>\n",
       "<tr>\n",
       "  <th>x2</th>  <td>    0.1852</td> <td>    0.159</td> <td>    1.162</td> <td> 0.245</td> <td>   -0.127</td> <td>    0.498</td>\n",
       "</tr>\n",
       "<tr>\n",
       "  <th>x3</th>  <td>   -0.4466</td> <td>    0.044</td> <td>  -10.085</td> <td> 0.000</td> <td>   -0.533</td> <td>   -0.360</td>\n",
       "</tr>\n",
       "<tr>\n",
       "  <th>x4</th>  <td>    5.2224</td> <td>    4.149</td> <td>    1.259</td> <td> 0.208</td> <td>   -2.909</td> <td>   13.354</td>\n",
       "</tr>\n",
       "<tr>\n",
       "  <th>x5</th>  <td>   -1.0372</td> <td>    0.058</td> <td>  -17.983</td> <td> 0.000</td> <td>   -1.150</td> <td>   -0.924</td>\n",
       "</tr>\n",
       "<tr>\n",
       "  <th>x6</th>  <td>   -0.1029</td> <td>    0.291</td> <td>   -0.353</td> <td> 0.724</td> <td>   -0.674</td> <td>    0.468</td>\n",
       "</tr>\n",
       "<tr>\n",
       "  <th>x7</th>  <td>    1.8626</td> <td>    0.406</td> <td>    4.591</td> <td> 0.000</td> <td>    1.067</td> <td>    2.658</td>\n",
       "</tr>\n",
       "<tr>\n",
       "  <th>x8</th>  <td>    1.7664</td> <td>    0.349</td> <td>    5.061</td> <td> 0.000</td> <td>    1.082</td> <td>    2.451</td>\n",
       "</tr>\n",
       "<tr>\n",
       "  <th>x9</th>  <td>  -16.0037</td> <td>    3.138</td> <td>   -5.099</td> <td> 0.000</td> <td>  -22.155</td> <td>   -9.853</td>\n",
       "</tr>\n",
       "<tr>\n",
       "  <th>x10</th> <td>    1.8645</td> <td>    0.332</td> <td>    5.622</td> <td> 0.000</td> <td>    1.214</td> <td>    2.514</td>\n",
       "</tr>\n",
       "<tr>\n",
       "  <th>x11</th> <td>    0.0032</td> <td>    0.011</td> <td>    0.286</td> <td> 0.775</td> <td>   -0.018</td> <td>    0.025</td>\n",
       "</tr>\n",
       "<tr>\n",
       "  <th>x12</th> <td>    0.0516</td> <td>    0.090</td> <td>    0.575</td> <td> 0.565</td> <td>   -0.124</td> <td>    0.227</td>\n",
       "</tr>\n",
       "<tr>\n",
       "  <th>x13</th> <td>  3.37e-06</td> <td> 7.95e-05</td> <td>    0.042</td> <td> 0.966</td> <td>   -0.000</td> <td>    0.000</td>\n",
       "</tr>\n",
       "<tr>\n",
       "  <th>x14</th> <td>   -0.4642</td> <td>    0.048</td> <td>   -9.576</td> <td> 0.000</td> <td>   -0.559</td> <td>   -0.369</td>\n",
       "</tr>\n",
       "<tr>\n",
       "  <th>x15</th> <td>    0.0660</td> <td>    0.035</td> <td>    1.882</td> <td> 0.060</td> <td>   -0.003</td> <td>    0.135</td>\n",
       "</tr>\n",
       "<tr>\n",
       "  <th>x16</th> <td>   -0.0179</td> <td>    0.008</td> <td>   -2.278</td> <td> 0.023</td> <td>   -0.033</td> <td>   -0.002</td>\n",
       "</tr>\n",
       "<tr>\n",
       "  <th>x17</th> <td>    0.0146</td> <td>    0.002</td> <td>    8.775</td> <td> 0.000</td> <td>    0.011</td> <td>    0.018</td>\n",
       "</tr>\n",
       "<tr>\n",
       "  <th>x18</th> <td>    0.0116</td> <td>    0.003</td> <td>    3.652</td> <td> 0.000</td> <td>    0.005</td> <td>    0.018</td>\n",
       "</tr>\n",
       "<tr>\n",
       "  <th>x19</th> <td>    0.0220</td> <td>    0.002</td> <td>    9.076</td> <td> 0.000</td> <td>    0.017</td> <td>    0.027</td>\n",
       "</tr>\n",
       "<tr>\n",
       "  <th>x20</th> <td>    0.1783</td> <td>    0.041</td> <td>    4.340</td> <td> 0.000</td> <td>    0.098</td> <td>    0.259</td>\n",
       "</tr>\n",
       "<tr>\n",
       "  <th>x21</th> <td>   -0.0057</td> <td>    0.002</td> <td>   -2.603</td> <td> 0.009</td> <td>   -0.010</td> <td>   -0.001</td>\n",
       "</tr>\n",
       "<tr>\n",
       "  <th>x22</th> <td>    1.3490</td> <td>    0.090</td> <td>   14.918</td> <td> 0.000</td> <td>    1.172</td> <td>    1.526</td>\n",
       "</tr>\n",
       "</table>"
      ],
      "text/plain": [
       "<class 'statsmodels.iolib.summary.Summary'>\n",
       "\"\"\"\n",
       "                           Logit Regression Results                           \n",
       "==============================================================================\n",
       "Dep. Variable:                      y   No. Observations:                12605\n",
       "Model:                          Logit   Df Residuals:                    12583\n",
       "Method:                           MLE   Df Model:                           21\n",
       "Date:                Thu, 23 Mar 2023   Pseudo R-squ.:                  0.3260\n",
       "Time:                        09:14:17   Log-Likelihood:                -3844.3\n",
       "converged:                       True   LL-Null:                       -5703.7\n",
       "Covariance Type:            nonrobust   LLR p-value:                     0.000\n",
       "==============================================================================\n",
       "                 coef    std err          z      P>|z|      [0.025      0.975]\n",
       "------------------------------------------------------------------------------\n",
       "x1             0.5328      0.158      3.375      0.001       0.223       0.842\n",
       "x2             0.1852      0.159      1.162      0.245      -0.127       0.498\n",
       "x3            -0.4466      0.044    -10.085      0.000      -0.533      -0.360\n",
       "x4             5.2224      4.149      1.259      0.208      -2.909      13.354\n",
       "x5            -1.0372      0.058    -17.983      0.000      -1.150      -0.924\n",
       "x6            -0.1029      0.291     -0.353      0.724      -0.674       0.468\n",
       "x7             1.8626      0.406      4.591      0.000       1.067       2.658\n",
       "x8             1.7664      0.349      5.061      0.000       1.082       2.451\n",
       "x9           -16.0037      3.138     -5.099      0.000     -22.155      -9.853\n",
       "x10            1.8645      0.332      5.622      0.000       1.214       2.514\n",
       "x11            0.0032      0.011      0.286      0.775      -0.018       0.025\n",
       "x12            0.0516      0.090      0.575      0.565      -0.124       0.227\n",
       "x13          3.37e-06   7.95e-05      0.042      0.966      -0.000       0.000\n",
       "x14           -0.4642      0.048     -9.576      0.000      -0.559      -0.369\n",
       "x15            0.0660      0.035      1.882      0.060      -0.003       0.135\n",
       "x16           -0.0179      0.008     -2.278      0.023      -0.033      -0.002\n",
       "x17            0.0146      0.002      8.775      0.000       0.011       0.018\n",
       "x18            0.0116      0.003      3.652      0.000       0.005       0.018\n",
       "x19            0.0220      0.002      9.076      0.000       0.017       0.027\n",
       "x20            0.1783      0.041      4.340      0.000       0.098       0.259\n",
       "x21           -0.0057      0.002     -2.603      0.009      -0.010      -0.001\n",
       "x22            1.3490      0.090     14.918      0.000       1.172       1.526\n",
       "==============================================================================\n",
       "\"\"\""
      ]
     },
     "execution_count": 51,
     "metadata": {},
     "output_type": "execute_result"
    }
   ],
   "source": [
    "import statsmodels.api as sm\n",
    "model1 = sm.Logit(y, X)\n",
    "result = model1.fit(method='newton')\n",
    "result.summary()"
   ]
  },
  {
   "cell_type": "markdown",
   "id": "7e4d242a",
   "metadata": {},
   "source": [
    "$\\textbf{Decision Trees and Random Forests}$"
   ]
  },
  {
   "cell_type": "code",
   "execution_count": 52,
   "id": "e45f0842",
   "metadata": {},
   "outputs": [
    {
     "data": {
      "text/plain": [
       "{'ccp_alpha': 0.0,\n",
       " 'class_weight': None,\n",
       " 'criterion': 'gini',\n",
       " 'max_depth': 3,\n",
       " 'max_features': None,\n",
       " 'max_leaf_nodes': None,\n",
       " 'min_impurity_decrease': 0.0,\n",
       " 'min_samples_leaf': 1,\n",
       " 'min_samples_split': 2,\n",
       " 'min_weight_fraction_leaf': 0.0,\n",
       " 'random_state': None,\n",
       " 'splitter': 'best'}"
      ]
     },
     "execution_count": 52,
     "metadata": {},
     "output_type": "execute_result"
    },
    {
     "data": {
      "image/png": "[encoded data removed]",
      "text/plain": [
       "<Figure size 432x288 with 1 Axes>"
      ]
     },
     "metadata": {
      "needs_background": "light"
     },
     "output_type": "display_data"
    }
   ],
   "source": [
    "from sklearn import tree\n",
    "from sklearn.metrics import confusion_matrix\n",
    "from sklearn.model_selection import GridSearchCV\n",
    "parameters = {'max_depth':range(3,20)}\n",
    "Mdls = GridSearchCV(tree.DecisionTreeClassifier(),parameters, n_jobs=4)\n",
    "Mdls = Mdls.fit(X, y)\n",
    "Mdl = Mdls.best_estimator_\n",
    "imp = Mdl.feature_importances_\n",
    "\n",
    "\n",
    "I = np.arange(imp.shape[0])\n",
    "plt.bar(I,imp)\n",
    "plt.xticks(I,features);\n",
    "best_param = Mdl.get_params()\n",
    "best_param"
   ]
  },
  {
   "cell_type": "markdown",
   "id": "bdd803f3",
   "metadata": {},
   "source": [
    "The CA ratio is very important"
   ]
  },
  {
   "cell_type": "code",
   "execution_count": 53,
   "id": "4e38b11f",
   "metadata": {},
   "outputs": [
    {
     "data": {
      "text/plain": [
       "0.8477588258627529"
      ]
     },
     "execution_count": 53,
     "metadata": {},
     "output_type": "execute_result"
    }
   ],
   "source": [
    "\n",
    "pred = Mdl.predict(X)\n",
    "accuracy = np.mean(pred==y)\n",
    "accuracy"
   ]
  },
  {
   "cell_type": "markdown",
   "id": "c38381dc",
   "metadata": {},
   "source": [
    "Lets look at the Confusion Matrix:  the matrix of true and false decisions We see that it is quite accurate for the full sample."
   ]
  },
  {
   "cell_type": "code",
   "execution_count": 54,
   "id": "3a8f3db4",
   "metadata": {},
   "outputs": [
    {
     "data": {
      "text/plain": [
       "[[0.7612732095490716, 0.14957474648348054],\n",
       " [0.23872679045092837, 0.8504252535165194]]"
      ]
     },
     "execution_count": 54,
     "metadata": {},
     "output_type": "execute_result"
    }
   ],
   "source": [
    "tn, fp, fn, tp = np.ravel(confusion_matrix(pred,y))\n",
    "CM = [[tp/(tp+fn), fp/(tn+fp) ],\n",
    "      [fn/(tp+fn), tn/(tn+fp) ]]\n",
    "CM"
   ]
  },
  {
   "cell_type": "code",
   "execution_count": 55,
   "id": "95b48989",
   "metadata": {},
   "outputs": [
    {
     "data": {
      "text/plain": [
       "array([[0.85042525, 0.14957475],\n",
       "       [0.23872679, 0.76127321]])"
      ]
     },
     "execution_count": 55,
     "metadata": {},
     "output_type": "execute_result"
    }
   ],
   "source": [
    "confusion_matrix(pred,y, normalize='true')"
   ]
  },
  {
   "cell_type": "markdown",
   "id": "8068f41f",
   "metadata": {},
   "source": [
    "Lets do a repeat set of draws for in an out of sample tests."
   ]
  },
  {
   "cell_type": "code",
   "execution_count": 56,
   "id": "647c94c9",
   "metadata": {},
   "outputs": [],
   "source": [
    "from sklearn.model_selection import train_test_split\n",
    "from sklearn.metrics import accuracy_score \n",
    "\n",
    "nexp=500\n",
    "test_size = 1- 500/y.shape[0]\n",
    "\n",
    "false_positives = []\n",
    "false_negatives = []\n",
    "accuracies = []\n",
    "clf = tree.DecisionTreeClassifier(**best_param,  )\n",
    "for experiment in (range(nexp)):\n",
    "    X_train, X_test, y_train, y_test = train_test_split(\n",
    "        X, y, test_size=test_size)\n",
    "    clf.fit(X_train, y_train)\n",
    "    pred = clf.predict(X_test)\n",
    "    CM = confusion_matrix(y_test, pred, normalize='true')\n",
    "    \n",
    "    false_positives.append(CM[0,1])# it was actually negative class (0-th row in the CM), and falsely predicted positve(1-th column)\n",
    "    false_negatives.append(CM[1,0])\n",
    "    accuracies.append(accuracy_score(y_test, pred))\n",
    "    "
   ]
  },
  {
   "cell_type": "code",
   "execution_count": 57,
   "id": "31b04f4b",
   "metadata": {},
   "outputs": [
    {
     "data": {
      "image/png": "[encoded data removed]",
      "text/plain": [
       "<Figure size 720x648 with 2 Axes>"
      ]
     },
     "metadata": {
      "needs_background": "light"
     },
     "output_type": "display_data"
    }
   ],
   "source": [
    "fig, axs = plt.subplots(2, figsize=(10, 9))\n",
    "fig.suptitle('Vertically stacked subplots')\n",
    "axs[0].hist(false_positives)\n",
    "axs[0].set_title('Out-of-Sample False positives')\n",
    "axs[0].grid(True)\n",
    "\n",
    "axs[1].hist(false_negatives)\n",
    "axs[1].set_title('Out-of-Sample False negatives')\n",
    "axs[1].grid(True)"
   ]
  },
  {
   "cell_type": "code",
   "execution_count": 59,
   "id": "7f3ed994",
   "metadata": {},
   "outputs": [
    {
     "data": {
      "text/plain": [
       "(array([  5.,   8.,  14.,  10.,  16.,  37.,  67., 123., 161.,  59.]),\n",
       " array([0.78075176, 0.7877406 , 0.79472945, 0.8017183 , 0.80870715,\n",
       "        0.81569599, 0.82268484, 0.82967369, 0.83666254, 0.84365138,\n",
       "        0.85064023]),\n",
       " <BarContainer object of 10 artists>)"
      ]
     },
     "execution_count": 59,
     "metadata": {},
     "output_type": "execute_result"
    },
    {
     "data": {
      "image/png": "[encoded data removed]",
      "text/plain": [
       "<Figure size 432x288 with 1 Axes>"
      ]
     },
     "metadata": {
      "needs_background": "light"
     },
     "output_type": "display_data"
    }
   ],
   "source": [
    "plt.hist(accuracies)"
   ]
  },
  {
   "cell_type": "markdown",
   "id": "ca02d825",
   "metadata": {},
   "source": [
    "We see the out of sample predictive accuracy stats, very different."
   ]
  },
  {
   "cell_type": "markdown",
   "id": "255f3169",
   "metadata": {},
   "source": [
    "$\\textbf{Neural Network Classification}$\n",
    "\n",
    "Now lets look at the same data with neural net prediction.\n",
    "We load in the data and then set up a patternnet neural neet with 31 neurons.\n",
    "We put in options not to show the intermediate training data in windows."
   ]
  },
  {
   "cell_type": "code",
   "execution_count": 60,
   "id": "74c9ae25",
   "metadata": {},
   "outputs": [],
   "source": [
    "import sklearn \n",
    "X = sklearn.preprocessing.minmax_scale(X, feature_range=(0, 1), axis=0, copy=True)"
   ]
  },
  {
   "cell_type": "code",
   "execution_count": 61,
   "id": "8c6f35db",
   "metadata": {},
   "outputs": [
    {
     "data": {
      "text/plain": [
       "0.8697342324474415"
      ]
     },
     "execution_count": 61,
     "metadata": {},
     "output_type": "execute_result"
    }
   ],
   "source": [
    "from sklearn.neural_network import MLPClassifier\n",
    "clf = MLPClassifier(random_state=1, hidden_layer_sizes=(7), max_iter=1000).fit(X, y)\n",
    "clf.fit(X,y)\n",
    "\n",
    "pred = clf.predict(X) # note, 1 is positive class\n",
    "accuracy = accuracy_score(y,pred)\n",
    "\n",
    "CM = confusion_matrix(y, pred, normalize='true')\n",
    "true_positive = CM[1,1]\n",
    "true_negative = CM[0,0]\n",
    "false_positive = CM[0,1]\n",
    "false_negative = CM[1,0]\n",
    "\n",
    "accuracy"
   ]
  },
  {
   "cell_type": "markdown",
   "id": "1331b067",
   "metadata": {},
   "source": [
    "We have  an 80 percent accuracy rate, not bad."
   ]
  },
  {
   "cell_type": "markdown",
   "id": "d5aead3c",
   "metadata": {},
   "source": [
    "Lets simulate the model around the median to get the relative importance."
   ]
  },
  {
   "cell_type": "code",
   "execution_count": 62,
   "id": "00e75ef5",
   "metadata": {},
   "outputs": [
    {
     "data": {
      "text/plain": [
       "(1, 2)"
      ]
     },
     "execution_count": 62,
     "metadata": {},
     "output_type": "execute_result"
    }
   ],
   "source": [
    "X_median = np.median(X, axis=0).reshape((1,-1)) # (1,D)\n",
    "proba_median = clf.predict_proba(X_median)\n",
    "proba_median.shape"
   ]
  },
  {
   "cell_type": "code",
   "execution_count": 63,
   "id": "b8d48357",
   "metadata": {},
   "outputs": [
    {
     "data": {
      "text/plain": [
       "array([[0.96654723, 0.03345277]])"
      ]
     },
     "execution_count": 63,
     "metadata": {},
     "output_type": "execute_result"
    }
   ],
   "source": [
    "proba_median"
   ]
  },
  {
   "cell_type": "code",
   "execution_count": 64,
   "id": "b7f3a468",
   "metadata": {},
   "outputs": [
    {
     "data": {
      "image/png": "[encoded data removed]",
      "text/plain": [
       "<Figure size 720x360 with 1 Axes>"
      ]
     },
     "metadata": {
      "needs_background": "light"
     },
     "output_type": "display_data"
    }
   ],
   "source": [
    "D = X.shape[1]\n",
    "importance = []\n",
    "for i in range(D):\n",
    "    #print(x_median_i_perturbed)\n",
    "    x_median_i_perturbed = X_median.copy()\n",
    "    x_median_i_perturbed[0,i]+=0.00001\n",
    "    \n",
    "    proba_median_perturbed = clf.predict_proba(x_median_i_perturbed)\n",
    "    imp = abs(proba_median_perturbed[:,1] - proba_median[:,1])/0.00001 \n",
    "    importance.append(imp)\n",
    "importance = np.array(importance).reshape(-1)\n",
    "    \n",
    "feature_indices = np.arange(len(importance))\n",
    "\n",
    "plt.figure(figsize=(10, 5))\n",
    "plt.bar(feature_indices,importance)\n",
    "plt.xticks(feature_indices, df.columns[:-1], rotation='vertical')\n",
    "plt.ylabel('Feature Importance')\n",
    "plt.grid(True)"
   ]
  },
  {
   "cell_type": "markdown",
   "id": "387317e6",
   "metadata": {},
   "source": [
    "We see gender and class are important"
   ]
  },
  {
   "cell_type": "markdown",
   "id": "b666c773",
   "metadata": {},
   "source": [
    "\n",
    "Now let's look at out of sample performance of the network."
   ]
  },
  {
   "cell_type": "code",
   "execution_count": null,
   "id": "43c5d4ae",
   "metadata": {},
   "outputs": [
    {
     "name": "stderr",
     "output_type": "stream",
     "text": [
      "C:\\Users\\mcnel\\.julia\\conda\\3\\lib\\site-packages\\sklearn\\neural_network\\_multilayer_perceptron.py:686: ConvergenceWarning: Stochastic Optimizer: Maximum iterations (1000) reached and the optimization hasn't converged yet.\n",
      "  warnings.warn(\n"
     ]
    }
   ],
   "source": [
    "K = 500\n",
    "test_size = 1-K/y.shape[0]\n",
    "\n",
    "false_positives = []\n",
    "false_negatives = []\n",
    "accuracies = []\n",
    "\n",
    "for j in range(100):\n",
    "    \n",
    "    X_train, X_test, y_train, y_test = train_test_split(\n",
    "        X, y, test_size=test_size)\n",
    "    clf = MLPClassifier(random_state=1, hidden_layer_sizes=(7), max_iter=1000).fit(X, y)\n",
    "    clf.fit(X_train, y_train)\n",
    "    pred = clf.predict(X_test)\n",
    "    CM = confusion_matrix(y_test, pred, normalize='true')\n",
    "    \n",
    "    false_positives.append(CM[0,1])# it was actually negative class (0-th row in the CM), and falsely predicted positve(1-th column)\n",
    "    false_negatives.append(CM[1,0])\n",
    "    accuracies.append(accuracy_score(y_test, pred))\n",
    "    \n",
    "    "
   ]
  },
  {
   "cell_type": "code",
   "execution_count": null,
   "id": "590b7766",
   "metadata": {},
   "outputs": [],
   "source": [
    "fig, axs = plt.subplots(2, figsize=(10, 9))\n",
    "fig.suptitle('Vertically stacked subplots')\n",
    "axs[0].hist(false_positives)\n",
    "axs[0].set_title('Out-of-Sample False positives')\n",
    "axs[0].grid(True)\n",
    "\n",
    "axs[1].hist(false_negatives)\n",
    "axs[1].set_title('Out-of-Sample False negatives')\n",
    "axs[1].grid(True)"
   ]
  },
  {
   "cell_type": "code",
   "execution_count": null,
   "id": "9a9bf316",
   "metadata": {},
   "outputs": [],
   "source": [
    "plt.hist(accuracies)"
   ]
  },
  {
   "cell_type": "code",
   "execution_count": null,
   "id": "a6339af0",
   "metadata": {},
   "outputs": [],
   "source": []
  },
  {
   "cell_type": "code",
   "execution_count": null,
   "id": "22bda794",
   "metadata": {},
   "outputs": [],
   "source": []
  }
 ],
 "metadata": {
  "kernelspec": {
   "display_name": "Python 3 (ipykernel)",
   "language": "python",
   "name": "python3"
  },
  "language_info": {
   "codemirror_mode": {
    "name": "ipython",
    "version": 3
   },
   "file_extension": ".py",
   "mimetype": "text/x-python",
   "name": "python",
   "nbconvert_exporter": "python",
   "pygments_lexer": "ipython3",
   "version": "3.9.7"
  }
 },
 "nbformat": 4,
 "nbformat_minor": 5
}
