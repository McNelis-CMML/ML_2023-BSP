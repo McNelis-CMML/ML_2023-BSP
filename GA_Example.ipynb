{
 "cells": [
  {
   "cell_type": "code",
   "execution_count": 2,
   "id": "d41a6f17",
   "metadata": {},
   "outputs": [],
   "source": [
    "import numpy as np\n",
    "\n",
    "# Define the objective function to minimize\n",
    "def myfunction(x):\n",
    "    x1, x2, x3, x4 = x\n",
    "    return .5* x1**2 + .5* x2**2 + .5* x3**2  + .5* x4**2 - 5 *x1 - 10*x2 - 15*x3 - 20 * x4\n",
    "\n"
   ]
  },
  {
   "cell_type": "code",
   "execution_count": 3,
   "id": "d89fbe8f",
   "metadata": {},
   "outputs": [
    {
     "name": "stdout",
     "output_type": "stream",
     "text": [
      "[ 5.00000304  9.99999268 15.00003284 20.00003424]\n"
     ]
    }
   ],
   "source": [
    "import numpy as np\n",
    "import pandas as pd\n",
    "from scipy.optimize import minimize\n",
    "import random\n",
    "\n",
    "initial_guess =  np.ones(4) * 10000\n",
    "\n",
    "\n",
    "# Perform parameter estimation using MLE\n",
    "result = minimize(myfunction, initial_guess, method='Nelder-Mead', options={'maxiter': 500})\n",
    "\n",
    "# Extract estimated parameters\n",
    "print(result.x)"
   ]
  },
  {
   "cell_type": "code",
   "execution_count": null,
   "id": "ff596e94",
   "metadata": {},
   "outputs": [],
   "source": []
  },
  {
   "cell_type": "code",
   "execution_count": null,
   "id": "4e716c34",
   "metadata": {},
   "outputs": [],
   "source": []
  }
 ],
 "metadata": {
  "kernelspec": {
   "display_name": "Python 3 (ipykernel)",
   "language": "python",
   "name": "python3"
  },
  "language_info": {
   "codemirror_mode": {
    "name": "ipython",
    "version": 3
   },
   "file_extension": ".py",
   "mimetype": "text/x-python",
   "name": "python",
   "nbconvert_exporter": "python",
   "pygments_lexer": "ipython3",
   "version": "3.9.7"
  }
 },
 "nbformat": 4,
 "nbformat_minor": 5
}
