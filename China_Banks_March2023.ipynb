{
 "cells": [
  {
   "cell_type": "markdown",
   "metadata": {},
   "source": [
    "$\\textbf{Introduction}$\n",
    "\n",
    "In this segment we will use LASSO with Cross Validation methods to estimate a large-scale VARX model with data on Chinese banks. The goal is to show how we can replicate the results discussed in the asychronous presentation.  \n",
    "\n",
    "Again, the Elastic Net estimaiton proceeds as the solution to the penalized estimation:\n",
    "\n",
    "\n",
    "$\\beta_{Enet}=\\stackrel{Min}{\\beta}\\left\\{ \\sum_{t=1}^{T}\\left(y_{t}-\\sum_{i}\\beta_{i}x_{it}\\right)^{2}+\\lambda\\sum_{i=1}^{k}\\left[\\left(\\alpha|\\beta_{i}|\\right)+(1-\\alpha)\\beta_{i}^{2}\\right]\\right\\}$\n",
    "\n",
    "The parameters  $\\alpha$ and $\\lambda$ are $\\textit{hyper-parameters}$.   With $\\alpha=1$ the problem is to minimize the sume of absolute values of the estimate coefficients, and with $\\alpha=0$ the problem is to minimize the sum of squares of the estimated programs.  The former is called LASSO estimation, while the latter is called Ridge regression.   Elastic net estimation implies a value of $\\alpha$ between 0 and 1.   We will set the hyperparameter $\\alpha=.5$.\n",
    "\n",
    "The problem is to find the right value of $\\lambda$ for minimizing the penalized sum-of-squared errors.   We do so by the Cross Validation method.\n",
    "\n",
    "• In this approach, we select a grid of values for $\\lambda$, between $\\lambda=0$, and $\\lambda^{*}$, the minimum $\\lambda$ which sets all of the coefficients $\\beta_{i}=0$.\n",
    "\n",
    "• We then select a set of out-of-sample Mean Squared Error measures, based on holding out 20% of the sample for each specified $\\lambda$ over the grid. \n",
    "\n",
    "• We thus select the optimal $\\lambda$ as the one which minimizes the average out-of-sample mean squared error, based on five sets of hold-outs of 20% of the data. \n",
    "\n",
    "• We note that the coefficients $\\left\\{ \\beta_{i}\\right\\}$  are based on the full in-sample elastic-net estimation with the pre-specified tuning parameter, $\\alpha$, \n",
    "\n",
    "• We obtain the final optimal value of $\\lambda$ from the cross-validation method. "
   ]
  },
  {
   "cell_type": "markdown",
   "metadata": {},
   "source": [
    "$\\textbf{Chinese Banking Data and EPU Indices}$\n",
    "\n",
    "Following the discussion of the VARX model, we have 17 series consisting of daily Range Volatility measures on 16 Chinese banks as well as the offshore CNH market based in Hong Kong.\n",
    "\n",
    "We first load in the data for the Chinse banks (and Exchange Rate) as well as for the Conrols (the EPU indices)"
   ]
  },
  {
   "cell_type": "code",
   "execution_count": 1,
   "metadata": {},
   "outputs": [
    {
     "name": "stdout",
     "output_type": "stream",
     "text": [
      "Requirement already satisfied: matplotlib in c:\\users\\mcnel\\.julia\\conda\\3\\lib\\site-packages (3.7.1)\n",
      "Requirement already satisfied: contourpy>=1.0.1 in c:\\users\\mcnel\\.julia\\conda\\3\\lib\\site-packages (from matplotlib) (1.0.7)\n",
      "Requirement already satisfied: python-dateutil>=2.7 in c:\\users\\mcnel\\.julia\\conda\\3\\lib\\site-packages (from matplotlib) (2.8.2)\n",
      "Requirement already satisfied: packaging>=20.0 in c:\\users\\mcnel\\.julia\\conda\\3\\lib\\site-packages (from matplotlib) (21.3)\n",
      "Requirement already satisfied: pyparsing>=2.3.1 in c:\\users\\mcnel\\.julia\\conda\\3\\lib\\site-packages (from matplotlib) (3.0.4)\n",
      "Requirement already satisfied: kiwisolver>=1.0.1 in c:\\users\\mcnel\\.julia\\conda\\3\\lib\\site-packages (from matplotlib) (1.4.4)\n",
      "Requirement already satisfied: pillow>=6.2.0 in c:\\users\\mcnel\\.julia\\conda\\3\\lib\\site-packages (from matplotlib) (9.4.0)\n",
      "Requirement already satisfied: cycler>=0.10 in c:\\users\\mcnel\\.julia\\conda\\3\\lib\\site-packages (from matplotlib) (0.11.0)\n",
      "Requirement already satisfied: importlib-resources>=3.2.0 in c:\\users\\mcnel\\.julia\\conda\\3\\lib\\site-packages (from matplotlib) (5.12.0)\n",
      "Requirement already satisfied: numpy>=1.20 in c:\\users\\mcnel\\.julia\\conda\\3\\lib\\site-packages (from matplotlib) (1.22.1)\n",
      "Requirement already satisfied: fonttools>=4.22.0 in c:\\users\\mcnel\\.julia\\conda\\3\\lib\\site-packages (from matplotlib) (4.39.0)\n",
      "Requirement already satisfied: zipp>=3.1.0 in c:\\users\\mcnel\\.julia\\conda\\3\\lib\\site-packages (from importlib-resources>=3.2.0->matplotlib) (3.7.0)\n",
      "Requirement already satisfied: six>=1.5 in c:\\users\\mcnel\\.julia\\conda\\3\\lib\\site-packages (from python-dateutil>=2.7->matplotlib) (1.16.0)\n",
      "Requirement already satisfied: arch in c:\\users\\mcnel\\.julia\\conda\\3\\lib\\site-packages (5.3.1)\n",
      "Requirement already satisfied: property-cached>=1.6.4 in c:\\users\\mcnel\\.julia\\conda\\3\\lib\\site-packages (from arch) (1.6.4)\n",
      "Requirement already satisfied: numpy>=1.17 in c:\\users\\mcnel\\.julia\\conda\\3\\lib\\site-packages (from arch) (1.22.1)\n",
      "Requirement already satisfied: scipy>=1.3 in c:\\users\\mcnel\\.julia\\conda\\3\\lib\\site-packages (from arch) (1.7.3)\n",
      "Requirement already satisfied: statsmodels>=0.11 in c:\\users\\mcnel\\.julia\\conda\\3\\lib\\site-packages (from arch) (0.13.5)\n",
      "Requirement already satisfied: pandas>=1.0 in c:\\users\\mcnel\\.julia\\conda\\3\\lib\\site-packages (from arch) (1.5.2)\n",
      "Requirement already satisfied: python-dateutil>=2.8.1 in c:\\users\\mcnel\\.julia\\conda\\3\\lib\\site-packages (from pandas>=1.0->arch) (2.8.2)\n",
      "Requirement already satisfied: pytz>=2020.1 in c:\\users\\mcnel\\.julia\\conda\\3\\lib\\site-packages (from pandas>=1.0->arch) (2022.7)\n",
      "Requirement already satisfied: six>=1.5 in c:\\users\\mcnel\\.julia\\conda\\3\\lib\\site-packages (from python-dateutil>=2.8.1->pandas>=1.0->arch) (1.16.0)\n",
      "Requirement already satisfied: patsy>=0.5.2 in c:\\users\\mcnel\\.julia\\conda\\3\\lib\\site-packages (from statsmodels>=0.11->arch) (0.5.3)\n",
      "Requirement already satisfied: packaging>=21.3 in c:\\users\\mcnel\\.julia\\conda\\3\\lib\\site-packages (from statsmodels>=0.11->arch) (21.3)\n",
      "Requirement already satisfied: pyparsing!=3.0.5,>=2.0.2 in c:\\users\\mcnel\\.julia\\conda\\3\\lib\\site-packages (from packaging>=21.3->statsmodels>=0.11->arch) (3.0.4)\n"
     ]
    }
   ],
   "source": [
    "!pip install matplotlib\n",
    "!pip install arch\n",
    "import pandas as pd\n",
    "import numpy as np\n",
    "import statsmodels.api as sm\n",
    "from statsmodels.tsa.stattools import grangercausalitytests\n",
    "import statsmodels\n",
    "import arch\n",
    "import matplotlib.pyplot as plt\n",
    "from sklearn.linear_model import ElasticNetCV"
   ]
  },
  {
   "cell_type": "code",
   "execution_count": 2,
   "metadata": {},
   "outputs": [],
   "source": [
    "TAB = pd.read_excel('China_All_Data.xls')\n",
    "date1=TAB.loc[2:,1].reset_index(drop=True)\n",
    "date2=date1.iloc[1:]\n",
    "Controls = TAB.loc[3:,2:17].reset_index(drop=True).ffill()\n",
    "SpotSpread = TAB.loc[2:,35:36].reset_index(drop=True).ffill()\n",
    "SharePrice = TAB.loc[2:,37:].reset_index(drop=True).ffill()\n",
    "(rshare, cshare) = SharePrice.shape\n",
    "\n",
    "SharePrice = SharePrice.iloc[1:,:].reset_index(drop=True)\n",
    "index1 = np.arange(0,cshare,4)\n",
    "OpenPrice = SharePrice.iloc[:,index1]\n",
    "index2 = np.arange(1,cshare,4)\n",
    "HighPrice = SharePrice.iloc[:,index2]\n",
    "index3 = np.arange(2,cshare,4)\n",
    "LowPrice = SharePrice.iloc[:,index3]\n",
    "index4 = np.arange(3,cshare,4)\n",
    "ClosePrice = SharePrice.iloc[:,index4]\n",
    "\n",
    "def rangefun(Data):\n",
    "    data = np.log(Data);\n",
    "    open = data.iloc[:,0];\n",
    "    high =  data.iloc[:,1];\n",
    "    low = data.iloc[:,2];\n",
    "    close = data.iloc[:,3];\n",
    "    rangevol =  .511*(high-low)**2-.019*((close-open)* (high+low-2*open)-2*(high-open)*(low-open))-.383*(close-open)**2\n",
    "    return rangevol\n",
    "\n",
    "(rRange, cRange) = ClosePrice.shape\n",
    "RangeVol=np.zeros((rRange,cRange))\n",
    "for i in range(cRange):\n",
    "    Data=  pd.DataFrame([OpenPrice.iloc[:,i],HighPrice.iloc[:,i],LowPrice.iloc[:,i],ClosePrice.iloc[:,i]]).transpose()\n",
    "    RangeVol[:,i] = rangefun(Data)"
   ]
  },
  {
   "cell_type": "markdown",
   "metadata": {},
   "source": [
    "We normalize the RangeVol and Controls to values between 0 and 1.  This is also known as a $\\textit{Squasher Function}$."
   ]
  },
  {
   "cell_type": "code",
   "execution_count": 3,
   "metadata": {},
   "outputs": [],
   "source": [
    "RangeVol1 = (RangeVol-RangeVol.min(0))/(RangeVol.max(axis=0)-RangeVol.min(0))\n",
    "Controls1 = (Controls-Controls.min(0))/(Controls.max(axis=0)-Controls.min(0))\n",
    "#plt.plot(date2,np.median(RangeVol1,1));"
   ]
  },
  {
   "cell_type": "markdown",
   "metadata": {},
   "source": [
    "We now estimate the VAR model with the 5 lags for 17 series, with the Conrols."
   ]
  },
  {
   "cell_type": "code",
   "execution_count": null,
   "metadata": {},
   "outputs": [],
   "source": []
  },
  {
   "cell_type": "code",
   "execution_count": 5,
   "metadata": {},
   "outputs": [],
   "source": [
    "numlags = 10\n",
    "y = RangeVol1[numlags:]\n",
    "x = Controls1[numlags:]\n",
    "horizon = 20\n",
    "\n",
    "Mdl = statsmodels.tsa.vector_ar.var_model.VAR(y,x)\n",
    "EstMdl = Mdl.fit(maxlags=numlags)\n",
    "Decomp1 = EstMdl.fevd(horizon).decomp[:,horizon-1,:]\n",
    "Decomp2 = Decomp1 - np.diag(np.diag(Decomp1))\n",
    "Decomp2 = Decomp2.T\n",
    "Outward = Decomp2.sum(0)\n",
    "Inward =  Decomp2.sum(1)\n",
    "Net = Outward - Inward\n"
   ]
  },
  {
   "cell_type": "markdown",
   "metadata": {},
   "source": [
    "We now do the Forecast Error Variance Decompostion for a horizon of 20."
   ]
  },
  {
   "cell_type": "code",
   "execution_count": 6,
   "metadata": {},
   "outputs": [
    {
     "data": {
      "image/png": "[encoded data removed]",
      "text/plain": [
       "<Figure size 432x288 with 2 Axes>"
      ]
     },
     "metadata": {
      "needs_background": "light"
     },
     "output_type": "display_data"
    }
   ],
   "source": [
    "Decomp1 = EstMdl.fevd(horizon).decomp[:,horizon-1,:]\n",
    "Decomp2 = Decomp1 - np.diag(np.diag(Decomp1))\n",
    "Decomp2 = Decomp2.T\n",
    "Outward = Decomp2.sum(0)\n",
    "Inward =  Decomp2.sum(1)\n",
    "Net = Outward - Inward\n",
    "\n",
    "names =['PAB', 'BONB', 'SPDB', 'HX', 'CMBB', 'ComBC', 'BONJ', 'IBC', 'BOB', 'ABC']\n",
    "names1 = ['BOCOMM', 'ICBC', 'CEB', 'CCB', 'BOC', 'CITIC', 'CNH']\n",
    "\n",
    "fig,(ax1,ax2)=plt.subplots(2,1)\n",
    "ax1.bar(names,Net[:10])\n",
    "ax2.bar(names1,Net[10:])\n",
    "plt.tight_layout()"
   ]
  },
  {
   "cell_type": "markdown",
   "metadata": {},
   "source": [
    "For the Full Sample, we see that PAB and BONB have the largest outward effects for transmitting volatility."
   ]
  },
  {
   "cell_type": "markdown",
   "metadata": {},
   "source": [
    "There are 2166 observations in the model. Lets estimate the model and do the FEVD for the last 200 observations\n",
    "\n",
    "Now let's look at the Esimation with Elastic Net (Combination of LASSO and Ridge Regression). There are two many parameters in the model. 17 state variables with 5 lags plus the constant terms and the Conrols for each of the 17 state variables."
   ]
  },
  {
   "cell_type": "code",
   "execution_count": 7,
   "metadata": {},
   "outputs": [],
   "source": [
    "def mlag(x,n=1,init=0):\n",
    "    (nobs, nvar)=x.shape\n",
    "    xlag=np.ones((nobs, nvar*n))*init\n",
    "    for i in range(n):\n",
    "        xlag[(i+1):,(i*nvar):((i+1)*nvar)]=np.roll(x,i+1,axis=0)[(i+1):]\n",
    "    return xlag"
   ]
  },
  {
   "cell_type": "code",
   "execution_count": 8,
   "metadata": {},
   "outputs": [],
   "source": [
    "xx=mlag(RangeVol1,numlags)\n",
    "xxx=np.hstack([xx[numlags:],x])"
   ]
  },
  {
   "cell_type": "code",
   "execution_count": 9,
   "metadata": {},
   "outputs": [
    {
     "name": "stdout",
     "output_type": "stream",
     "text": [
      "Requirement already satisfied: sklearn in c:\\users\\mcnel\\.julia\\conda\\3\\lib\\site-packages (0.0.post1)\n"
     ]
    }
   ],
   "source": [
    "!pip install sklearn\n",
    "from sklearn.linear_model import ElasticNetCV\n",
    "nfolds = 5\n",
    "# l1_ratio = ratio\n",
    "BETA=np.zeros((cRange*numlags+Controls1.shape[1],cRange))\n",
    "for i in range(cRange):\n",
    "    BETA[:,i]=ElasticNetCV(cv=nfolds,max_iter=2000, l1_ratio = .5).fit(xxx,y[:,i]).coef_"
   ]
  },
  {
   "cell_type": "code",
   "execution_count": 10,
   "metadata": {},
   "outputs": [
    {
     "data": {
      "text/plain": [
       "array([[ 0.10485292, -0.        ,  0.        , ..., -0.        ,\n",
       "         0.        , -0.        ],\n",
       "       [ 0.06935689,  0.20045137,  0.05442759, ...,  0.0884534 ,\n",
       "         0.05202998, -0.        ],\n",
       "       [-0.        , -0.        ,  0.09482458, ..., -0.        ,\n",
       "        -0.        , -0.        ],\n",
       "       ...,\n",
       "       [-0.01337728,  0.        , -0.        , ...,  0.        ,\n",
       "        -0.02661955, -0.0012841 ],\n",
       "       [ 0.        ,  0.        ,  0.00405479, ...,  0.00296259,\n",
       "         0.        ,  0.        ],\n",
       "       [ 0.00222564,  0.00325448,  0.01525369, ...,  0.        ,\n",
       "         0.0100746 ,  0.00979634]])"
      ]
     },
     "execution_count": 10,
     "metadata": {},
     "output_type": "execute_result"
    }
   ],
   "source": [
    "BETA"
   ]
  },
  {
   "cell_type": "code",
   "execution_count": 11,
   "metadata": {},
   "outputs": [],
   "source": [
    "yhat_elasnet = np.dot(xxx,BETA)\n",
    "ERROR = y - yhat_elasnet"
   ]
  },
  {
   "cell_type": "code",
   "execution_count": null,
   "metadata": {},
   "outputs": [],
   "source": []
  },
  {
   "cell_type": "code",
   "execution_count": 12,
   "metadata": {},
   "outputs": [],
   "source": [
    "sigma=np.dot(ERROR.T,ERROR)\n",
    "variance=np.diag(sigma)"
   ]
  },
  {
   "cell_type": "code",
   "execution_count": 13,
   "metadata": {},
   "outputs": [],
   "source": [
    "def calA(phi,h):\n",
    "    A=[np.identity(cRange),phi[0]*np.identity(cRange)]\n",
    "    for i in range(2,h+1):\n",
    "        index=min(i,len(phi))\n",
    "        ai=sum([m*n for m,n in zip(A[-index:],phi[:index])])\n",
    "        A.append(ai)\n",
    "    return A\n",
    "            "
   ]
  },
  {
   "cell_type": "code",
   "execution_count": 14,
   "metadata": {},
   "outputs": [],
   "source": [
    "phi=BETA[:cRange*numlags,:]\n",
    "A=calA(phi,horizon)"
   ]
  },
  {
   "cell_type": "code",
   "execution_count": 15,
   "metadata": {},
   "outputs": [],
   "source": [
    "VD=np.zeros((cRange,cRange))\n",
    "for i in range(cRange):\n",
    "    for j in range(cRange):\n",
    "        VD[i,j]=1/variance[i]*sum([(np.dot(A[l],sigma)[i,j])**2 for l in range(len(A))])/sum([(np.dot(A[l],np.dot(sigma,A[l].T))[i,i]) for l in range(len(A))])\n",
    "VD=VD/VD.sum(1).reshape(-1,1)"
   ]
  },
  {
   "cell_type": "code",
   "execution_count": 16,
   "metadata": {},
   "outputs": [
    {
     "data": {
      "text/plain": [
       "0.8984548700678187"
      ]
     },
     "execution_count": 16,
     "metadata": {},
     "output_type": "execute_result"
    }
   ],
   "source": [
    "VD1=VD-np.diag(np.diag(VD))\n",
    "Spillover1=VD1.sum()/VD.sum()\n",
    "Spillover1"
   ]
  },
  {
   "cell_type": "code",
   "execution_count": 17,
   "metadata": {},
   "outputs": [],
   "source": [
    "Outward1=VD1.sum(0)\n",
    "Inward1=VD1.sum(1)\n",
    "Net1 = Outward1 - Inward1"
   ]
  },
  {
   "cell_type": "code",
   "execution_count": 18,
   "metadata": {},
   "outputs": [
    {
     "data": {
      "image/png": "[encoded data removed]",
      "text/plain": [
       "<Figure size 432x288 with 2 Axes>"
      ]
     },
     "metadata": {
      "needs_background": "light"
     },
     "output_type": "display_data"
    }
   ],
   "source": [
    "fig1,(ax11,ax12)=plt.subplots(2,1)\n",
    "ax11.bar(names,Net1[:10])\n",
    "ax12.bar(names1,Net1[10:])\n",
    "plt.tight_layout()"
   ]
  },
  {
   "cell_type": "code",
   "execution_count": 27,
   "metadata": {},
   "outputs": [
    {
     "data": {
      "text/plain": [
       "(186, 17)"
      ]
     },
     "execution_count": 27,
     "metadata": {},
     "output_type": "execute_result"
    }
   ],
   "source": [
    "BETA.shape"
   ]
  },
  {
   "cell_type": "code",
   "execution_count": 28,
   "metadata": {},
   "outputs": [
    {
     "data": {
      "text/plain": [
       "3162"
      ]
     },
     "execution_count": 28,
     "metadata": {},
     "output_type": "execute_result"
    }
   ],
   "source": [
    "#Number of elements in BETA\n",
    "BETA.size"
   ]
  },
  {
   "cell_type": "code",
   "execution_count": 29,
   "metadata": {},
   "outputs": [
    {
     "data": {
      "text/plain": [
       "990"
      ]
     },
     "execution_count": 29,
     "metadata": {},
     "output_type": "execute_result"
    }
   ],
   "source": [
    "#Number of non-zero elements in the elasticnet BETA\n",
    "np.count_nonzero(BETA)"
   ]
  },
  {
   "cell_type": "code",
   "execution_count": null,
   "metadata": {},
   "outputs": [],
   "source": []
  }
 ],
 "metadata": {
  "kernelspec": {
   "display_name": "Python 3 (ipykernel)",
   "language": "python",
   "name": "python3"
  },
  "language_info": {
   "codemirror_mode": {
    "name": "ipython",
    "version": 3
   },
   "file_extension": ".py",
   "mimetype": "text/x-python",
   "name": "python",
   "nbconvert_exporter": "python",
   "pygments_lexer": "ipython3",
   "version": "3.9.7"
  }
 },
 "nbformat": 4,
 "nbformat_minor": 2
}
