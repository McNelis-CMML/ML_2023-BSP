{
  "nbformat": 4,
  "nbformat_minor": 0,
  "metadata": {
    "colab": {
      "provenance": []
    },
    "kernelspec": {
      "name": "python3",
      "display_name": "Python 3"
    },
    "language_info": {
      "name": "python"
    }
  },
  "cells": [
    {
      "cell_type": "code",
      "execution_count": 1,
      "metadata": {
        "id": "GoKJLPf4oiLH"
      },
      "outputs": [],
      "source": [
        "import numpy as np\n",
        "import pandas as pd\n",
        "import pandas_datareader.data as web"
      ]
    },
    {
      "cell_type": "markdown",
      "source": [],
      "metadata": {
        "id": "F0t2uNFYovsQ"
      }
    },
    {
      "cell_type": "code",
      "source": [
        "#start = '2000-07-01'\n",
        "#end = '2023-03-10'\n",
        "\n",
        "import pandas as pd\n",
        "\n",
        "TAB1  = pd.read_excel('peso dollar rate.xlsx')\n",
        "# Convert daily data to weekly data, taking the last observation of each week\n",
        "TAB2 = TAB1.set_index('Date').resample('W').last().reset_index()\n",
        "TAB3 = pd.read_excel('EMEAP_Daily FX.xlsx')\n",
        "TAB4 = TAB3.set_index('Date').resample('W').last().reset_index()\n",
        "Names = TAB4.columns.tolist()\n",
        "Names1 = Names[1:]\n",
        "print(Names1)\n",
        "print(TAB4)\n",
        "date1= TAB4['Date']\n",
        "date2=date1.iloc[1:]\n",
        "ExRate= TAB4.loc[:, 'Date':].iloc[:, 1:]\n",
        "rr,cc = ExRate.shape\n",
        "\n",
        "\n"
      ],
      "metadata": {
        "id": "UZRl_YeeoyAV",
        "colab": {
          "base_uri": "https://localhost:8080/",
          "height": 398
        },
        "outputId": "b2dd9f66-810e-4cd5-d8d8-0cbb51c742f5"
      },
      "execution_count": 2,
      "outputs": [
        {
          "output_type": "error",
          "ename": "FileNotFoundError",
          "evalue": "ignored",
          "traceback": [
            "\u001b[0;31m---------------------------------------------------------------------------\u001b[0m",
            "\u001b[0;31mFileNotFoundError\u001b[0m                         Traceback (most recent call last)",
            "\u001b[0;32m<ipython-input-2-0c868e687bef>\u001b[0m in \u001b[0;36m<module>\u001b[0;34m\u001b[0m\n\u001b[1;32m      4\u001b[0m \u001b[0;32mimport\u001b[0m \u001b[0mpandas\u001b[0m \u001b[0;32mas\u001b[0m \u001b[0mpd\u001b[0m\u001b[0;34m\u001b[0m\u001b[0;34m\u001b[0m\u001b[0m\n\u001b[1;32m      5\u001b[0m \u001b[0;34m\u001b[0m\u001b[0m\n\u001b[0;32m----> 6\u001b[0;31m \u001b[0mTAB1\u001b[0m  \u001b[0;34m=\u001b[0m \u001b[0mpd\u001b[0m\u001b[0;34m.\u001b[0m\u001b[0mread_excel\u001b[0m\u001b[0;34m(\u001b[0m\u001b[0;34m'peso dollar rate.xlsx'\u001b[0m\u001b[0;34m)\u001b[0m\u001b[0;34m\u001b[0m\u001b[0;34m\u001b[0m\u001b[0m\n\u001b[0m\u001b[1;32m      7\u001b[0m \u001b[0;31m# Convert daily data to weekly data, taking the last observation of each week\u001b[0m\u001b[0;34m\u001b[0m\u001b[0;34m\u001b[0m\u001b[0m\n\u001b[1;32m      8\u001b[0m \u001b[0mTAB2\u001b[0m \u001b[0;34m=\u001b[0m \u001b[0mTAB1\u001b[0m\u001b[0;34m.\u001b[0m\u001b[0mset_index\u001b[0m\u001b[0;34m(\u001b[0m\u001b[0;34m'Date'\u001b[0m\u001b[0;34m)\u001b[0m\u001b[0;34m.\u001b[0m\u001b[0mresample\u001b[0m\u001b[0;34m(\u001b[0m\u001b[0;34m'W'\u001b[0m\u001b[0;34m)\u001b[0m\u001b[0;34m.\u001b[0m\u001b[0mlast\u001b[0m\u001b[0;34m(\u001b[0m\u001b[0;34m)\u001b[0m\u001b[0;34m.\u001b[0m\u001b[0mreset_index\u001b[0m\u001b[0;34m(\u001b[0m\u001b[0;34m)\u001b[0m\u001b[0;34m\u001b[0m\u001b[0;34m\u001b[0m\u001b[0m\n",
            "\u001b[0;32m/usr/local/lib/python3.9/dist-packages/pandas/util/_decorators.py\u001b[0m in \u001b[0;36mwrapper\u001b[0;34m(*args, **kwargs)\u001b[0m\n\u001b[1;32m    309\u001b[0m                     \u001b[0mstacklevel\u001b[0m\u001b[0;34m=\u001b[0m\u001b[0mstacklevel\u001b[0m\u001b[0;34m,\u001b[0m\u001b[0;34m\u001b[0m\u001b[0;34m\u001b[0m\u001b[0m\n\u001b[1;32m    310\u001b[0m                 )\n\u001b[0;32m--> 311\u001b[0;31m             \u001b[0;32mreturn\u001b[0m \u001b[0mfunc\u001b[0m\u001b[0;34m(\u001b[0m\u001b[0;34m*\u001b[0m\u001b[0margs\u001b[0m\u001b[0;34m,\u001b[0m \u001b[0;34m**\u001b[0m\u001b[0mkwargs\u001b[0m\u001b[0;34m)\u001b[0m\u001b[0;34m\u001b[0m\u001b[0;34m\u001b[0m\u001b[0m\n\u001b[0m\u001b[1;32m    312\u001b[0m \u001b[0;34m\u001b[0m\u001b[0m\n\u001b[1;32m    313\u001b[0m         \u001b[0;32mreturn\u001b[0m \u001b[0mwrapper\u001b[0m\u001b[0;34m\u001b[0m\u001b[0;34m\u001b[0m\u001b[0m\n",
            "\u001b[0;32m/usr/local/lib/python3.9/dist-packages/pandas/io/excel/_base.py\u001b[0m in \u001b[0;36mread_excel\u001b[0;34m(io, sheet_name, header, names, index_col, usecols, squeeze, dtype, engine, converters, true_values, false_values, skiprows, nrows, na_values, keep_default_na, na_filter, verbose, parse_dates, date_parser, thousands, decimal, comment, skipfooter, convert_float, mangle_dupe_cols, storage_options)\u001b[0m\n\u001b[1;32m    455\u001b[0m     \u001b[0;32mif\u001b[0m \u001b[0;32mnot\u001b[0m \u001b[0misinstance\u001b[0m\u001b[0;34m(\u001b[0m\u001b[0mio\u001b[0m\u001b[0;34m,\u001b[0m \u001b[0mExcelFile\u001b[0m\u001b[0;34m)\u001b[0m\u001b[0;34m:\u001b[0m\u001b[0;34m\u001b[0m\u001b[0;34m\u001b[0m\u001b[0m\n\u001b[1;32m    456\u001b[0m         \u001b[0mshould_close\u001b[0m \u001b[0;34m=\u001b[0m \u001b[0;32mTrue\u001b[0m\u001b[0;34m\u001b[0m\u001b[0;34m\u001b[0m\u001b[0m\n\u001b[0;32m--> 457\u001b[0;31m         \u001b[0mio\u001b[0m \u001b[0;34m=\u001b[0m \u001b[0mExcelFile\u001b[0m\u001b[0;34m(\u001b[0m\u001b[0mio\u001b[0m\u001b[0;34m,\u001b[0m \u001b[0mstorage_options\u001b[0m\u001b[0;34m=\u001b[0m\u001b[0mstorage_options\u001b[0m\u001b[0;34m,\u001b[0m \u001b[0mengine\u001b[0m\u001b[0;34m=\u001b[0m\u001b[0mengine\u001b[0m\u001b[0;34m)\u001b[0m\u001b[0;34m\u001b[0m\u001b[0;34m\u001b[0m\u001b[0m\n\u001b[0m\u001b[1;32m    458\u001b[0m     \u001b[0;32melif\u001b[0m \u001b[0mengine\u001b[0m \u001b[0;32mand\u001b[0m \u001b[0mengine\u001b[0m \u001b[0;34m!=\u001b[0m \u001b[0mio\u001b[0m\u001b[0;34m.\u001b[0m\u001b[0mengine\u001b[0m\u001b[0;34m:\u001b[0m\u001b[0;34m\u001b[0m\u001b[0;34m\u001b[0m\u001b[0m\n\u001b[1;32m    459\u001b[0m         raise ValueError(\n",
            "\u001b[0;32m/usr/local/lib/python3.9/dist-packages/pandas/io/excel/_base.py\u001b[0m in \u001b[0;36m__init__\u001b[0;34m(self, path_or_buffer, engine, storage_options)\u001b[0m\n\u001b[1;32m   1374\u001b[0m                 \u001b[0mext\u001b[0m \u001b[0;34m=\u001b[0m \u001b[0;34m\"xls\"\u001b[0m\u001b[0;34m\u001b[0m\u001b[0;34m\u001b[0m\u001b[0m\n\u001b[1;32m   1375\u001b[0m             \u001b[0;32melse\u001b[0m\u001b[0;34m:\u001b[0m\u001b[0;34m\u001b[0m\u001b[0;34m\u001b[0m\u001b[0m\n\u001b[0;32m-> 1376\u001b[0;31m                 ext = inspect_excel_format(\n\u001b[0m\u001b[1;32m   1377\u001b[0m                     \u001b[0mcontent_or_path\u001b[0m\u001b[0;34m=\u001b[0m\u001b[0mpath_or_buffer\u001b[0m\u001b[0;34m,\u001b[0m \u001b[0mstorage_options\u001b[0m\u001b[0;34m=\u001b[0m\u001b[0mstorage_options\u001b[0m\u001b[0;34m\u001b[0m\u001b[0;34m\u001b[0m\u001b[0m\n\u001b[1;32m   1378\u001b[0m                 )\n",
            "\u001b[0;32m/usr/local/lib/python3.9/dist-packages/pandas/io/excel/_base.py\u001b[0m in \u001b[0;36minspect_excel_format\u001b[0;34m(content_or_path, storage_options)\u001b[0m\n\u001b[1;32m   1248\u001b[0m         \u001b[0mcontent_or_path\u001b[0m \u001b[0;34m=\u001b[0m \u001b[0mBytesIO\u001b[0m\u001b[0;34m(\u001b[0m\u001b[0mcontent_or_path\u001b[0m\u001b[0;34m)\u001b[0m\u001b[0;34m\u001b[0m\u001b[0;34m\u001b[0m\u001b[0m\n\u001b[1;32m   1249\u001b[0m \u001b[0;34m\u001b[0m\u001b[0m\n\u001b[0;32m-> 1250\u001b[0;31m     with get_handle(\n\u001b[0m\u001b[1;32m   1251\u001b[0m         \u001b[0mcontent_or_path\u001b[0m\u001b[0;34m,\u001b[0m \u001b[0;34m\"rb\"\u001b[0m\u001b[0;34m,\u001b[0m \u001b[0mstorage_options\u001b[0m\u001b[0;34m=\u001b[0m\u001b[0mstorage_options\u001b[0m\u001b[0;34m,\u001b[0m \u001b[0mis_text\u001b[0m\u001b[0;34m=\u001b[0m\u001b[0;32mFalse\u001b[0m\u001b[0;34m\u001b[0m\u001b[0;34m\u001b[0m\u001b[0m\n\u001b[1;32m   1252\u001b[0m     ) as handle:\n",
            "\u001b[0;32m/usr/local/lib/python3.9/dist-packages/pandas/io/common.py\u001b[0m in \u001b[0;36mget_handle\u001b[0;34m(path_or_buf, mode, encoding, compression, memory_map, is_text, errors, storage_options)\u001b[0m\n\u001b[1;32m    793\u001b[0m         \u001b[0;32melse\u001b[0m\u001b[0;34m:\u001b[0m\u001b[0;34m\u001b[0m\u001b[0;34m\u001b[0m\u001b[0m\n\u001b[1;32m    794\u001b[0m             \u001b[0;31m# Binary mode\u001b[0m\u001b[0;34m\u001b[0m\u001b[0;34m\u001b[0m\u001b[0m\n\u001b[0;32m--> 795\u001b[0;31m             \u001b[0mhandle\u001b[0m \u001b[0;34m=\u001b[0m \u001b[0mopen\u001b[0m\u001b[0;34m(\u001b[0m\u001b[0mhandle\u001b[0m\u001b[0;34m,\u001b[0m \u001b[0mioargs\u001b[0m\u001b[0;34m.\u001b[0m\u001b[0mmode\u001b[0m\u001b[0;34m)\u001b[0m\u001b[0;34m\u001b[0m\u001b[0;34m\u001b[0m\u001b[0m\n\u001b[0m\u001b[1;32m    796\u001b[0m         \u001b[0mhandles\u001b[0m\u001b[0;34m.\u001b[0m\u001b[0mappend\u001b[0m\u001b[0;34m(\u001b[0m\u001b[0mhandle\u001b[0m\u001b[0;34m)\u001b[0m\u001b[0;34m\u001b[0m\u001b[0;34m\u001b[0m\u001b[0m\n\u001b[1;32m    797\u001b[0m \u001b[0;34m\u001b[0m\u001b[0m\n",
            "\u001b[0;31mFileNotFoundError\u001b[0m: [Errno 2] No such file or directory: 'peso dollar rate.xlsx'"
          ]
        }
      ]
    },
    {
      "cell_type": "code",
      "source": [
        "ExRate = np.array(ExRate)\n",
        "import pandas as pd\n",
        "import numpy as np\n",
        "\n",
        "\n",
        "\n",
        "\n"
      ],
      "metadata": {
        "id": "SnUY1Vfv0BpQ"
      },
      "execution_count": null,
      "outputs": []
    },
    {
      "cell_type": "code",
      "source": [
        "import numpy as np\n",
        "ExRatediff = np.diff(np.log(ExRate).T).T\n",
        "plt.plot(date2, ExRatediff)\n",
        "rr, cc = ExRatediff.shape\n",
        "print(rr,cc)"
      ],
      "metadata": {
        "colab": {
          "base_uri": "https://localhost:8080/",
          "height": 282
        },
        "id": "kixISuSzp4C-",
        "outputId": "4eb17a6f-5e82-4521-e43c-3953de85421b"
      },
      "execution_count": null,
      "outputs": [
        {
          "output_type": "stream",
          "name": "stdout",
          "text": [
            "1193 11\n"
          ]
        },
        {
          "output_type": "display_data",
          "data": {
            "text/plain": [
              "<Figure size 432x288 with 1 Axes>"
            ],
            "image/png": "[encoded data removed]"
          },
          "metadata": {
            "needs_background": "light"
          }
        }
      ]
    },
    {
      "cell_type": "code",
      "source": [
        "plt.hist(ExRatediff[:,5], 200)\n"
      ],
      "metadata": {
        "id": "1f50LwPvrqu_",
        "colab": {
          "base_uri": "https://localhost:8080/",
          "height": 1000
        },
        "outputId": "8c31a237-da87-491e-ccac-d7d127d471e9"
      },
      "execution_count": null,
      "outputs": [
        {
          "output_type": "execute_result",
          "data": {
            "text/plain": [
              "(array([ 1.,  0.,  0.,  0.,  0.,  0.,  0.,  0.,  0.,  0.,  0.,  0.,  0.,\n",
              "         0.,  0.,  0.,  0.,  0.,  0.,  0.,  0.,  0.,  0.,  0.,  0.,  0.,\n",
              "         2.,  0.,  0.,  0.,  0.,  0.,  0.,  0.,  0.,  0.,  0.,  0.,  1.,\n",
              "         0.,  0.,  0.,  0.,  0.,  0.,  0.,  0.,  0.,  0.,  0.,  0.,  0.,\n",
              "         0.,  1.,  0.,  0.,  3.,  0.,  1.,  0.,  0.,  0.,  0.,  0.,  0.,\n",
              "         1.,  0.,  0.,  1.,  0.,  0.,  0.,  0.,  0.,  2.,  5.,  1.,  2.,\n",
              "         2.,  2.,  1.,  0.,  3.,  4.,  4.,  3.,  6., 17., 11.,  5., 15.,\n",
              "        13., 11., 21., 10., 16., 33., 28., 29., 30., 37., 25., 44., 46.,\n",
              "        40., 47., 54., 47., 37., 37., 36., 48., 32., 39., 32., 26., 30.,\n",
              "        35., 18., 24., 22.,  7., 16., 16., 15., 10., 12.,  8.,  9., 10.,\n",
              "         4.,  6.,  5.,  8.,  4.,  2.,  0.,  3.,  2.,  0.,  1.,  0.,  0.,\n",
              "         1.,  0.,  1.,  0.,  0.,  1.,  0.,  0.,  0.,  1.,  1.,  1.,  0.,\n",
              "         0.,  0.,  0.,  0.,  0.,  0.,  0.,  0.,  0.,  1.,  0.,  0.,  0.,\n",
              "         1.,  0.,  1.,  0.,  0.,  0.,  1.,  0.,  0.,  1.,  0.,  0.,  1.,\n",
              "         0.,  0.,  0.,  1.,  0.,  0.,  0.,  0.,  0.,  0.,  0.,  0.,  0.,\n",
              "         0.,  0.,  0.,  0.,  1.]),\n",
              " array([-0.09668291, -0.09578573, -0.09488855, -0.09399136, -0.09309418,\n",
              "        -0.092197  , -0.09129982, -0.09040263, -0.08950545, -0.08860827,\n",
              "        -0.08771109, -0.0868139 , -0.08591672, -0.08501954, -0.08412236,\n",
              "        -0.08322517, -0.08232799, -0.08143081, -0.08053362, -0.07963644,\n",
              "        -0.07873926, -0.07784208, -0.07694489, -0.07604771, -0.07515053,\n",
              "        -0.07425335, -0.07335616, -0.07245898, -0.0715618 , -0.07066462,\n",
              "        -0.06976743, -0.06887025, -0.06797307, -0.06707589, -0.0661787 ,\n",
              "        -0.06528152, -0.06438434, -0.06348716, -0.06258997, -0.06169279,\n",
              "        -0.06079561, -0.05989842, -0.05900124, -0.05810406, -0.05720688,\n",
              "        -0.05630969, -0.05541251, -0.05451533, -0.05361815, -0.05272096,\n",
              "        -0.05182378, -0.0509266 , -0.05002942, -0.04913223, -0.04823505,\n",
              "        -0.04733787, -0.04644069, -0.0455435 , -0.04464632, -0.04374914,\n",
              "        -0.04285196, -0.04195477, -0.04105759, -0.04016041, -0.03926322,\n",
              "        -0.03836604, -0.03746886, -0.03657168, -0.03567449, -0.03477731,\n",
              "        -0.03388013, -0.03298295, -0.03208576, -0.03118858, -0.0302914 ,\n",
              "        -0.02939422, -0.02849703, -0.02759985, -0.02670267, -0.02580549,\n",
              "        -0.0249083 , -0.02401112, -0.02311394, -0.02221676, -0.02131957,\n",
              "        -0.02042239, -0.01952521, -0.01862802, -0.01773084, -0.01683366,\n",
              "        -0.01593648, -0.01503929, -0.01414211, -0.01324493, -0.01234775,\n",
              "        -0.01145056, -0.01055338, -0.0096562 , -0.00875902, -0.00786183,\n",
              "        -0.00696465, -0.00606747, -0.00517029, -0.0042731 , -0.00337592,\n",
              "        -0.00247874, -0.00158156, -0.00068437,  0.00021281,  0.00110999,\n",
              "         0.00200718,  0.00290436,  0.00380154,  0.00469872,  0.00559591,\n",
              "         0.00649309,  0.00739027,  0.00828745,  0.00918464,  0.01008182,\n",
              "         0.010979  ,  0.01187618,  0.01277337,  0.01367055,  0.01456773,\n",
              "         0.01546491,  0.0163621 ,  0.01725928,  0.01815646,  0.01905364,\n",
              "         0.01995083,  0.02084801,  0.02174519,  0.02264238,  0.02353956,\n",
              "         0.02443674,  0.02533392,  0.02623111,  0.02712829,  0.02802547,\n",
              "         0.02892265,  0.02981984,  0.03071702,  0.0316142 ,  0.03251138,\n",
              "         0.03340857,  0.03430575,  0.03520293,  0.03610011,  0.0369973 ,\n",
              "         0.03789448,  0.03879166,  0.03968884,  0.04058603,  0.04148321,\n",
              "         0.04238039,  0.04327758,  0.04417476,  0.04507194,  0.04596912,\n",
              "         0.04686631,  0.04776349,  0.04866067,  0.04955785,  0.05045504,\n",
              "         0.05135222,  0.0522494 ,  0.05314658,  0.05404377,  0.05494095,\n",
              "         0.05583813,  0.05673531,  0.0576325 ,  0.05852968,  0.05942686,\n",
              "         0.06032404,  0.06122123,  0.06211841,  0.06301559,  0.06391278,\n",
              "         0.06480996,  0.06570714,  0.06660432,  0.06750151,  0.06839869,\n",
              "         0.06929587,  0.07019305,  0.07109024,  0.07198742,  0.0728846 ,\n",
              "         0.07378178,  0.07467897,  0.07557615,  0.07647333,  0.07737051,\n",
              "         0.0782677 ,  0.07916488,  0.08006206,  0.08095924,  0.08185643,\n",
              "         0.08275361]),\n",
              " <BarContainer object of 200 artists>)"
            ]
          },
          "metadata": {},
          "execution_count": 201
        },
        {
          "output_type": "display_data",
          "data": {
            "text/plain": [
              "<Figure size 432x288 with 1 Axes>"
            ],
            "image/png": "[encoded data removed]"
          },
          "metadata": {
            "needs_background": "light"
          }
        }
      ]
    },
    {
      "cell_type": "code",
      "source": [
        "import pandas as pd\n",
        "ExRatediff = pd.DataFrame(ExRatediff)\n",
        "\n",
        "\n",
        "ExRatediff.replace([np.inf, -np.inf], np.nan)\n",
        "# Drop rows with NaN\n",
        "ExRatediff.dropna"
      ],
      "metadata": {
        "id": "PLCD3ubVr0fb",
        "colab": {
          "base_uri": "https://localhost:8080/"
        },
        "outputId": "83477491-d717-48bb-9e9f-0c86e14c4198"
      },
      "execution_count": null,
      "outputs": [
        {
          "output_type": "execute_result",
          "data": {
            "text/plain": [
              "<bound method DataFrame.dropna of             0         1         2         3         4         5         6   \\\n",
              "0     0.016357  0.000036  0.000141 -0.005879  0.005019 -0.017551  0.000000   \n",
              "1    -0.004215 -0.000024  0.000051  0.029328 -0.010349  0.008721  0.000132   \n",
              "2    -0.042999 -0.000169  0.000154  0.018907  0.022180 -0.003171 -0.000132   \n",
              "3     0.004713  0.000085  0.000039  0.011704  0.000560  0.004944  0.000000   \n",
              "4    -0.011825  0.000000  0.000141 -0.030611  0.015092 -0.007170  0.000000   \n",
              "...        ...       ...       ...       ...       ...       ...       ...   \n",
              "1188  0.028623  0.005283 -0.000064  0.013524 -0.006884  0.007807  0.007180   \n",
              "1189  0.005004  0.003010 -0.000115 -0.005195 -0.000339 -0.012964 -0.002895   \n",
              "1190  0.009161 -0.009323  0.000140  0.011889 -0.006662 -0.001795  0.004856   \n",
              "1191  0.035379 -0.012295 -0.001696 -0.015625 -0.054738 -0.073303 -0.026896   \n",
              "1192  0.002384  0.002575 -0.001763  0.012443  0.007321  0.016097 -0.014339   \n",
              "\n",
              "            7         8         9         10  \n",
              "0     0.007316  0.005187  0.008093  0.005086  \n",
              "1    -0.018978  0.000246  0.003100 -0.006294  \n",
              "2    -0.038869 -0.003331  0.018284  0.010822  \n",
              "3     0.009105  0.001482 -0.010576 -0.001995  \n",
              "4    -0.011139 -0.002100  0.000354 -0.003334  \n",
              "...        ...       ...       ...       ...  \n",
              "1188  0.033068 -0.003075 -0.007602  0.007534  \n",
              "1189  0.010210 -0.013431 -0.003114 -0.012457  \n",
              "1190  0.020957  0.010039 -0.002768 -0.008746  \n",
              "1191  0.028751 -0.022483 -0.025265 -0.043999  \n",
              "1192  0.012859 -0.000227  0.000073 -0.005327  \n",
              "\n",
              "[1193 rows x 11 columns]>"
            ]
          },
          "metadata": {},
          "execution_count": 202
        }
      ]
    },
    {
      "cell_type": "code",
      "source": [
        "print(np.isnan(ExRatediff).any())\n",
        "print(np.isinf(ExRatediff).any())\n",
        "ExRatediff = ExRatediff[~np.isnan(ExRatediff)]\n",
        "ExRatediff = ExRatediff[~np.isinf(ExRatediff)]"
      ],
      "metadata": {
        "colab": {
          "base_uri": "https://localhost:8080/"
        },
        "id": "_kfTgQQBr7Ol",
        "outputId": "ec6538d9-6203-45c7-c01f-0e2af6bd0723"
      },
      "execution_count": null,
      "outputs": [
        {
          "output_type": "stream",
          "name": "stdout",
          "text": [
            "0     False\n",
            "1     False\n",
            "2     False\n",
            "3     False\n",
            "4     False\n",
            "5     False\n",
            "6     False\n",
            "7     False\n",
            "8     False\n",
            "9     False\n",
            "10    False\n",
            "dtype: bool\n",
            "0     False\n",
            "1     False\n",
            "2     False\n",
            "3     False\n",
            "4     False\n",
            "5     False\n",
            "6     False\n",
            "7     False\n",
            "8     False\n",
            "9     False\n",
            "10    False\n",
            "dtype: bool\n"
          ]
        }
      ]
    },
    {
      "cell_type": "code",
      "source": [
        "import numpy as np\n",
        "from scipy import stats\n",
        "\n",
        "# assuming ExRatediff is a numpy array with shape (n, cc)\n",
        "n, cc = ExRatediff.shape\n",
        "ExRatediff = np.array(ExRatediff)\n",
        "kde_values = np.zeros((n, cc))\n",
        "Xe = np.zeros((100, cc))\n",
        "Fe = np.zeros((100, cc))\n",
        "\n",
        "for i in range(cc):\n",
        "    kde = stats.gaussian_kde(ExRatediff[:, i])\n",
        "    kde_values[:, i] = kde.evaluate(ExRatediff[:, i])\n",
        "    Xe[:, i] = np.linspace(np.min(ExRatediff[:, i]), np.max(ExRatediff[:, i]), 100)\n",
        "    Fe[:, i] = kde.evaluate(Xe[:, i])\n"
      ],
      "metadata": {
        "id": "3EAGSxI7NtLR"
      },
      "execution_count": null,
      "outputs": []
    },
    {
      "cell_type": "code",
      "source": [
        "from pandas.core.generic import validate_fillna_kwargs\n",
        "# !pip install arch\n",
        "ExRatediff1  = np.delete(ExRatediff, [1, 2], axis=1)\n",
        "Names2 = np.delete(Names1,[1,2], axis = 0)\n",
        "from arch import arch_model\n",
        "rr, cc = ExRatediff1.shape \n",
        "v = np.zeros((rr,cc))\n",
        "PARAMS = np.zeros((6,cc))\n",
        "mean_model = 'ARX'\n",
        "vol_model = 'GARCH'\n",
        "\n",
        "for i in range (0,cc):\n",
        "  r = ExRatediff1[:,i] \n",
        "  model = arch_model(r, mean=mean_model, lags=1, vol=vol_model, o=1,p=1, q=1)\n",
        "  res = model.fit(update_freq=10)\n",
        "  cond_vol = res.conditional_volatility\n",
        "  v[:,i] = cond_vol\n",
        "  PARAMS[:,i] = res.params\n",
        "\n",
        "\n",
        "v = v[1:,:]\n",
        "date3 = date2[1:]\n",
        "plt.plot(date3,v)\n",
        "\n",
        "\n",
        "\n",
        "\n",
        "\n",
        "# Print the conditional volatility\n"
      ],
      "metadata": {
        "colab": {
          "base_uri": "https://localhost:8080/",
          "height": 1000
        },
        "id": "jfDv-r3vsS-T",
        "outputId": "d595dc54-93df-484f-fd79-544f17294836"
      },
      "execution_count": null,
      "outputs": [
        {
          "output_type": "stream",
          "name": "stderr",
          "text": [
            "/usr/local/lib/python3.9/dist-packages/arch/univariate/base.py:309: DataScaleWarning: y is poorly scaled, which may affect convergence of the optimizer when\n",
            "estimating the model parameters. The scale of y is 0.0003024. Parameter\n",
            "estimation work better when this value is between 1 and 1000. The recommended\n",
            "rescaling is 100 * y.\n",
            "\n",
            "This warning can be disabled by either rescaling y before initializing the\n",
            "model or by setting rescale=False.\n",
            "\n",
            "  warnings.warn(\n"
          ]
        },
        {
          "output_type": "stream",
          "name": "stdout",
          "text": [
            "Iteration:     10,   Func. Count:    139,   Neg. LLF: 466157127496361.9\n",
            "Optimization terminated successfully    (Exit mode 0)\n",
            "            Current function value: -3266.1675928812574\n",
            "            Iterations: 15\n",
            "            Function evaluations: 187\n",
            "            Gradient evaluations: 13\n"
          ]
        },
        {
          "output_type": "stream",
          "name": "stderr",
          "text": [
            "/usr/local/lib/python3.9/dist-packages/arch/univariate/base.py:309: DataScaleWarning: y is poorly scaled, which may affect convergence of the optimizer when\n",
            "estimating the model parameters. The scale of y is 0.0001728. Parameter\n",
            "estimation work better when this value is between 1 and 1000. The recommended\n",
            "rescaling is 100 * y.\n",
            "\n",
            "This warning can be disabled by either rescaling y before initializing the\n",
            "model or by setting rescale=False.\n",
            "\n",
            "  warnings.warn(\n",
            "/usr/local/lib/python3.9/dist-packages/arch/univariate/base.py:309: DataScaleWarning: y is poorly scaled, which may affect convergence of the optimizer when\n",
            "estimating the model parameters. The scale of y is 0.0001805. Parameter\n",
            "estimation work better when this value is between 1 and 1000. The recommended\n",
            "rescaling is 100 * y.\n",
            "\n",
            "This warning can be disabled by either rescaling y before initializing the\n",
            "model or by setting rescale=False.\n",
            "\n",
            "  warnings.warn(\n"
          ]
        },
        {
          "output_type": "stream",
          "name": "stdout",
          "text": [
            "Optimization terminated successfully    (Exit mode 0)\n",
            "            Current function value: -3754.0693818621585\n",
            "            Iterations: 9\n",
            "            Function evaluations: 70\n",
            "            Gradient evaluations: 5\n",
            "Optimization terminated successfully    (Exit mode 0)\n",
            "            Current function value: -3489.8684229050077\n",
            "            Iterations: 7\n",
            "            Function evaluations: 32\n",
            "            Gradient evaluations: 3\n"
          ]
        },
        {
          "output_type": "stream",
          "name": "stderr",
          "text": [
            "/usr/local/lib/python3.9/dist-packages/arch/univariate/base.py:309: DataScaleWarning: y is poorly scaled, which may affect convergence of the optimizer when\n",
            "estimating the model parameters. The scale of y is 0.0001665. Parameter\n",
            "estimation work better when this value is between 1 and 1000. The recommended\n",
            "rescaling is 100 * y.\n",
            "\n",
            "This warning can be disabled by either rescaling y before initializing the\n",
            "model or by setting rescale=False.\n",
            "\n",
            "  warnings.warn(\n",
            "/usr/local/lib/python3.9/dist-packages/arch/univariate/base.py:309: DataScaleWarning: y is poorly scaled, which may affect convergence of the optimizer when\n",
            "estimating the model parameters. The scale of y is 6.06e-05. Parameter\n",
            "estimation work better when this value is between 1 and 1000. The recommended\n",
            "rescaling is 100 * y.\n",
            "\n",
            "This warning can be disabled by either rescaling y before initializing the\n",
            "model or by setting rescale=False.\n",
            "\n",
            "  warnings.warn(\n",
            "/usr/local/lib/python3.9/dist-packages/arch/univariate/base.py:753: ConvergenceWarning: The optimizer returned code 4. The message is:\n",
            "Inequality constraints incompatible\n",
            "See scipy.optimize.fmin_slsqp for code meaning.\n",
            "\n",
            "  warnings.warn(\n"
          ]
        },
        {
          "output_type": "stream",
          "name": "stdout",
          "text": [
            "Iteration:     10,   Func. Count:    142,   Neg. LLF: -3685.9254993926115\n",
            "Optimization terminated successfully    (Exit mode 0)\n",
            "            Current function value: -3685.925499428682\n",
            "            Iterations: 14\n",
            "            Function evaluations: 142\n",
            "            Gradient evaluations: 10\n",
            "Inequality constraints incompatible    (Exit mode 4)\n",
            "            Current function value: -4554.350305598942\n",
            "            Iterations: 1\n",
            "            Function evaluations: 7\n",
            "            Gradient evaluations: 1\n"
          ]
        },
        {
          "output_type": "stream",
          "name": "stderr",
          "text": [
            "/usr/local/lib/python3.9/dist-packages/arch/univariate/base.py:309: DataScaleWarning: y is poorly scaled, which may affect convergence of the optimizer when\n",
            "estimating the model parameters. The scale of y is 0.0003146. Parameter\n",
            "estimation work better when this value is between 1 and 1000. The recommended\n",
            "rescaling is 100 * y.\n",
            "\n",
            "This warning can be disabled by either rescaling y before initializing the\n",
            "model or by setting rescale=False.\n",
            "\n",
            "  warnings.warn(\n",
            "/usr/local/lib/python3.9/dist-packages/arch/univariate/base.py:309: DataScaleWarning: y is poorly scaled, which may affect convergence of the optimizer when\n",
            "estimating the model parameters. The scale of y is 6.013e-05. Parameter\n",
            "estimation work better when this value is between 1 and 1000. The recommended\n",
            "rescaling is 100 * y.\n",
            "\n",
            "This warning can be disabled by either rescaling y before initializing the\n",
            "model or by setting rescale=False.\n",
            "\n",
            "  warnings.warn(\n"
          ]
        },
        {
          "output_type": "stream",
          "name": "stdout",
          "text": [
            "Iteration:     10,   Func. Count:    126,   Neg. LLF: -3179.9187962434976\n",
            "Optimization terminated successfully    (Exit mode 0)\n",
            "            Current function value: -3179.918796411812\n",
            "            Iterations: 14\n",
            "            Function evaluations: 126\n",
            "            Gradient evaluations: 10\n",
            "Iteration:     10,   Func. Count:    148,   Neg. LLF: -4185.882329272594\n",
            "Optimization terminated successfully    (Exit mode 0)\n",
            "            Current function value: -4185.88233011856\n",
            "            Iterations: 14\n",
            "            Function evaluations: 148\n",
            "            Gradient evaluations: 10\n",
            "Optimization terminated successfully    (Exit mode 0)\n",
            "            Current function value: -4294.869730186758\n",
            "            Iterations: 6\n",
            "            Function evaluations: 22\n",
            "            Gradient evaluations: 2\n",
            "Iteration:     10,   Func. Count:    151,   Neg. LLF: 2.53418451168605e+21\n",
            "Optimization terminated successfully    (Exit mode 0)\n",
            "            Current function value: -4154.694110778531\n",
            "            Iterations: 16\n",
            "            Function evaluations: 184\n",
            "            Gradient evaluations: 12\n"
          ]
        },
        {
          "output_type": "stream",
          "name": "stderr",
          "text": [
            "/usr/local/lib/python3.9/dist-packages/arch/univariate/base.py:309: DataScaleWarning: y is poorly scaled, which may affect convergence of the optimizer when\n",
            "estimating the model parameters. The scale of y is 4.864e-05. Parameter\n",
            "estimation work better when this value is between 1 and 1000. The recommended\n",
            "rescaling is 100 * y.\n",
            "\n",
            "This warning can be disabled by either rescaling y before initializing the\n",
            "model or by setting rescale=False.\n",
            "\n",
            "  warnings.warn(\n",
            "/usr/local/lib/python3.9/dist-packages/arch/univariate/base.py:309: DataScaleWarning: y is poorly scaled, which may affect convergence of the optimizer when\n",
            "estimating the model parameters. The scale of y is 6.279e-05. Parameter\n",
            "estimation work better when this value is between 1 and 1000. The recommended\n",
            "rescaling is 100 * y.\n",
            "\n",
            "This warning can be disabled by either rescaling y before initializing the\n",
            "model or by setting rescale=False.\n",
            "\n",
            "  warnings.warn(\n"
          ]
        },
        {
          "output_type": "execute_result",
          "data": {
            "text/plain": [
              "[<matplotlib.lines.Line2D at 0x7f85aab99310>,\n",
              " <matplotlib.lines.Line2D at 0x7f85aac4aa00>,\n",
              " <matplotlib.lines.Line2D at 0x7f85aab751c0>,\n",
              " <matplotlib.lines.Line2D at 0x7f85aab753a0>,\n",
              " <matplotlib.lines.Line2D at 0x7f85aab754c0>,\n",
              " <matplotlib.lines.Line2D at 0x7f85aab755e0>,\n",
              " <matplotlib.lines.Line2D at 0x7f85aab75700>,\n",
              " <matplotlib.lines.Line2D at 0x7f85aab75820>,\n",
              " <matplotlib.lines.Line2D at 0x7f85aab75940>]"
            ]
          },
          "metadata": {},
          "execution_count": 326
        },
        {
          "output_type": "display_data",
          "data": {
            "text/plain": [
              "<Figure size 432x288 with 1 Axes>"
            ],
            "image/png": "[encoded data removed]"
          },
          "metadata": {
            "needs_background": "light"
          }
        }
      ]
    },
    {
      "cell_type": "code",
      "source": [
        "PARAMS = pd.DataFrame(PARAMS)\n",
        "PARAMS = pd.DataFrame(PARAMS)\n",
        "NamesList = Names3.reset_index(drop=True).T \n",
        "COEFFICIENT = pd.concat([NamesList, PARAMS], axis=0, ignore_index=True).reset_index(drop=True)\n",
        "print(COEFFICIENT)\n"
      ],
      "metadata": {
        "colab": {
          "base_uri": "https://localhost:8080/"
        },
        "id": "uCNlSc8UaeF-",
        "outputId": "94de3798-c295-440d-ea27-ce97b9fdb77c"
      },
      "execution_count": null,
      "outputs": [
        {
          "output_type": "stream",
          "name": "stdout",
          "text": [
            "           0          1         2         3         4           5  \\\n",
            "0  Australia  Indonesia     Japan     Korea  Malaysia  NewZealand   \n",
            "1  -0.000343   0.000312  0.000297 -0.000232  0.000145   -0.000039   \n",
            "2  -0.034542   0.130999 -0.045527  0.061759  0.047043   -0.017309   \n",
            "3    0.00003   0.000003  0.000004  0.000003  0.000001    0.000032   \n",
            "4   0.099997        0.2  0.050112  0.100003       0.2    0.099994   \n",
            "5   0.099996       0.01   0.00988  0.009996      0.05    0.049997   \n",
            "6   0.749978      0.775  0.924891  0.874998     0.755    0.774953   \n",
            "\n",
            "             6          7         8  \n",
            "0  Phillipines  Singapore  Thailand  \n",
            "1     0.000098  -0.000252 -0.000459  \n",
            "2     0.023634    0.03261   0.03986  \n",
            "3     0.000001   0.000005  0.000006  \n",
            "4     0.050014        0.1       0.2  \n",
            "5     0.009985       0.01      0.01  \n",
            "6     0.924986      0.795     0.695  \n"
          ]
        }
      ]
    },
    {
      "cell_type": "code",
      "source": [
        "Mu = np.mean(v,0)\n",
        "Sigma= np.std(v,0)\n",
        "Max = np.max(v,0)\n",
        "Min = np.min(v,0)\n",
        "Stats = np.vstack((Mu,Sigma,Max,Min))\n",
        "Stats1 = pd.DataFrame(Stats)\n",
        "NamesList = Names3.reset_index(drop=True).T \n",
        "TableStats = pd.concat([NamesList, Stats1], axis=0, ignore_index=True).reset_index(drop=True)\n",
        "#TableStats = pd.concat([NamesList, Stats1], axis=0, ignore_index=True).reset_index(drop=True)\n",
        "\n",
        "TableStats1 = TableStats.reset_index(drop=True)\n",
        "print(TableStats1)\n",
        "\n",
        "\n",
        "\n",
        "\n"
      ],
      "metadata": {
        "colab": {
          "base_uri": "https://localhost:8080/"
        },
        "outputId": "8b17155f-4978-4681-c18a-e773468591e2",
        "id": "VujLgA5HeKl8"
      },
      "execution_count": null,
      "outputs": [
        {
          "output_type": "stream",
          "name": "stdout",
          "text": [
            "           0          1         2         3         4           5  \\\n",
            "0  Australia  Indonesia     Japan     Korea  Malaysia  NewZealand   \n",
            "1   0.016549   0.010996   0.01319  0.011561  0.006453    0.017326   \n",
            "2   0.006049     0.0073  0.002696  0.005349   0.00427    0.004296   \n",
            "3   0.089897   0.055823  0.024989   0.04647  0.038588    0.052603   \n",
            "4   0.011453   0.004224  0.008339  0.006211  0.001114    0.012723   \n",
            "\n",
            "             6          7         8  \n",
            "0  Phillipines  Singapore  Thailand  \n",
            "1     0.007456   0.006808  0.007494  \n",
            "2     0.002036   0.001446  0.002437  \n",
            "3     0.017875   0.016317  0.030562  \n",
            "4     0.004556   0.005028  0.004646  \n"
          ]
        }
      ]
    },
    {
      "cell_type": "code",
      "source": [
        "Mu = np.mean(v,0)\n",
        "Sigma= np.std(v,0)\n",
        "Max = np.max(v,0)\n",
        "Min = np.min(v,0)\n",
        "Stats = np.vstack((Mu,Sigma,Max,Min))\n",
        "Stats1 = pd.DataFrame(Stats)\n",
        "NamesList = Names3.reset_index(drop=True).T \n",
        "TableStats = pd.concat([NamesList, Stats1], axis=0, ignore_index=True).reset_index(drop=True)\n",
        "#TableStats = pd.concat([NamesList, Stats1], axis=0, ignore_index=True).reset_index(drop=True)\n",
        "\n",
        "TableStats1 = TableStats.reset_index(drop=True)\n",
        "print(TableStats1)\n",
        "\n",
        "\n",
        "\n",
        "\n"
      ],
      "metadata": {
        "colab": {
          "base_uri": "https://localhost:8080/"
        },
        "outputId": "8b17155f-4978-4681-c18a-e773468591e2",
        "id": "H2893WTzeIK_"
      },
      "execution_count": null,
      "outputs": [
        {
          "output_type": "stream",
          "name": "stdout",
          "text": [
            "           0          1         2         3         4           5  \\\n",
            "0  Australia  Indonesia     Japan     Korea  Malaysia  NewZealand   \n",
            "1   0.016549   0.010996   0.01319  0.011561  0.006453    0.017326   \n",
            "2   0.006049     0.0073  0.002696  0.005349   0.00427    0.004296   \n",
            "3   0.089897   0.055823  0.024989   0.04647  0.038588    0.052603   \n",
            "4   0.011453   0.004224  0.008339  0.006211  0.001114    0.012723   \n",
            "\n",
            "             6          7         8  \n",
            "0  Phillipines  Singapore  Thailand  \n",
            "1     0.007456   0.006808  0.007494  \n",
            "2     0.002036   0.001446  0.002437  \n",
            "3     0.017875   0.016317  0.030562  \n",
            "4     0.004556   0.005028  0.004646  \n"
          ]
        }
      ]
    },
    {
      "cell_type": "code",
      "source": [
        "Mu = np.mean(v,0)\n",
        "Sigma= np.std(v,0)\n",
        "Max = np.max(v,0)\n",
        "Min = np.min(v,0)\n",
        "Stats = np.vstack((Mu,Sigma,Max,Min))\n",
        "Stats1 = pd.DataFrame(Stats)\n",
        "NamesList = Names3.reset_index(drop=True).T \n",
        "TableStats = pd.concat([NamesList, Stats1], axis=0, ignore_index=True).reset_index(drop=True)\n",
        "#TableStats = pd.concat([NamesList, Stats1], axis=0, ignore_index=True).reset_index(drop=True)\n",
        "\n",
        "TableStats1 = TableStats.reset_index(drop=True)\n",
        "print(TableStats1)\n",
        "\n",
        "\n",
        "\n",
        "\n"
      ],
      "metadata": {
        "colab": {
          "base_uri": "https://localhost:8080/"
        },
        "id": "72H6Ppocw4FX",
        "outputId": "8b17155f-4978-4681-c18a-e773468591e2"
      },
      "execution_count": null,
      "outputs": [
        {
          "output_type": "stream",
          "name": "stdout",
          "text": [
            "           0          1         2         3         4           5  \\\n",
            "0  Australia  Indonesia     Japan     Korea  Malaysia  NewZealand   \n",
            "1   0.016549   0.010996   0.01319  0.011561  0.006453    0.017326   \n",
            "2   0.006049     0.0073  0.002696  0.005349   0.00427    0.004296   \n",
            "3   0.089897   0.055823  0.024989   0.04647  0.038588    0.052603   \n",
            "4   0.011453   0.004224  0.008339  0.006211  0.001114    0.012723   \n",
            "\n",
            "             6          7         8  \n",
            "0  Phillipines  Singapore  Thailand  \n",
            "1     0.007456   0.006808  0.007494  \n",
            "2     0.002036   0.001446  0.002437  \n",
            "3     0.017875   0.016317  0.030562  \n",
            "4     0.004556   0.005028  0.004646  \n"
          ]
        }
      ]
    },
    {
      "cell_type": "code",
      "source": [
        "#import arch\n",
        "Mdl1=arch.arch_model(1000*r,vol='GARCH', p=1,q=1).fit()\n",
        "v=Mdl1.forecast(start = 0, method='simulation').variance/1e6\n",
        "Mdl1.summary()"
      ],
      "metadata": {
        "colab": {
          "base_uri": "https://localhost:8080/",
          "height": 843
        },
        "id": "4bn1aQgFVf7Q",
        "outputId": "ebc3d080-6351-43f6-9bbe-43eb4e60af32"
      },
      "execution_count": null,
      "outputs": [
        {
          "output_type": "stream",
          "name": "stdout",
          "text": [
            "Iteration:      1,   Func. Count:      6,   Neg. LLF: 8846.24713305387\n",
            "Iteration:      2,   Func. Count:     13,   Neg. LLF: 4756.587376869924\n",
            "Iteration:      3,   Func. Count:     19,   Neg. LLF: 5079.849839077448\n",
            "Iteration:      4,   Func. Count:     26,   Neg. LLF: 4821.328972042362\n",
            "Iteration:      5,   Func. Count:     33,   Neg. LLF: 4747.440867908401\n",
            "Iteration:      6,   Func. Count:     39,   Neg. LLF: 4747.2550672860825\n",
            "Iteration:      7,   Func. Count:     44,   Neg. LLF: 4747.254359762258\n",
            "Iteration:      8,   Func. Count:     49,   Neg. LLF: 4747.254356412866\n",
            "Iteration:      9,   Func. Count:     53,   Neg. LLF: 4747.254356412249\n",
            "Optimization terminated successfully    (Exit mode 0)\n",
            "            Current function value: 4747.254356412866\n",
            "            Iterations: 9\n",
            "            Function evaluations: 53\n",
            "            Gradient evaluations: 9\n"
          ]
        },
        {
          "output_type": "stream",
          "name": "stderr",
          "text": [
            "/usr/local/lib/python3.9/dist-packages/arch/__future__/_utility.py:11: FutureWarning: \n",
            "The default for reindex is True. After September 2021 this will change to\n",
            "False. Set reindex to True or False to silence this message. Alternatively,\n",
            "you can use the import comment\n",
            "\n",
            "from arch.__future__ import reindexing\n",
            "\n",
            "to globally set reindex to True and silence this warning.\n",
            "\n",
            "  warnings.warn(\n"
          ]
        },
        {
          "output_type": "execute_result",
          "data": {
            "text/plain": [
              "<class 'statsmodels.iolib.summary.Summary'>\n",
              "\"\"\"\n",
              "                     Constant Mean - GARCH Model Results                      \n",
              "==============================================================================\n",
              "Dep. Variable:                      y   R-squared:                       0.000\n",
              "Mean Model:             Constant Mean   Adj. R-squared:                  0.000\n",
              "Vol Model:                      GARCH   Log-Likelihood:               -4747.25\n",
              "Distribution:                  Normal   AIC:                           9502.51\n",
              "Method:            Maximum Likelihood   BIC:                           9522.85\n",
              "                                        No. Observations:                 1193\n",
              "Date:                Thu, Mar 16 2023   Df Residuals:                     1192\n",
              "Time:                        07:54:08   Df Model:                            1\n",
              "                               Mean Model                               \n",
              "========================================================================\n",
              "                 coef    std err          t      P>|t|  95.0% Conf. Int.\n",
              "------------------------------------------------------------------------\n",
              "mu             0.3280      0.362      0.906      0.365 [ -0.381,  1.037]\n",
              "                             Volatility Model                             \n",
              "==========================================================================\n",
              "                 coef    std err          t      P>|t|    95.0% Conf. Int.\n",
              "--------------------------------------------------------------------------\n",
              "omega          5.6056      3.341      1.678  9.341e-02   [ -0.943, 12.154]\n",
              "alpha[1]       0.0835  2.840e-02      2.941  3.275e-03 [2.786e-02,  0.139]\n",
              "beta[1]        0.8881  4.054e-02     21.910 2.076e-106   [  0.809,  0.968]\n",
              "==========================================================================\n",
              "\n",
              "Covariance estimator: robust\n",
              "\"\"\""
            ],
            "text/html": [
              "<table class=\"simpletable\">\n",
              "<caption>Constant Mean - GARCH Model Results</caption>\n",
              "<tr>\n",
              "  <th>Dep. Variable:</th>          <td>y</td>         <th>  R-squared:         </th>  <td>   0.000</td> \n",
              "</tr>\n",
              "<tr>\n",
              "  <th>Mean Model:</th>       <td>Constant Mean</td>   <th>  Adj. R-squared:    </th>  <td>   0.000</td> \n",
              "</tr>\n",
              "<tr>\n",
              "  <th>Vol Model:</th>            <td>GARCH</td>       <th>  Log-Likelihood:    </th> <td>  -4747.25</td>\n",
              "</tr>\n",
              "<tr>\n",
              "  <th>Distribution:</th>        <td>Normal</td>       <th>  AIC:               </th> <td>   9502.51</td>\n",
              "</tr>\n",
              "<tr>\n",
              "  <th>Method:</th>        <td>Maximum Likelihood</td> <th>  BIC:               </th> <td>   9522.85</td>\n",
              "</tr>\n",
              "<tr>\n",
              "  <th></th>                        <td></td>          <th>  No. Observations:  </th>    <td>1193</td>   \n",
              "</tr>\n",
              "<tr>\n",
              "  <th>Date:</th>           <td>Thu, Mar 16 2023</td>  <th>  Df Residuals:      </th>    <td>1192</td>   \n",
              "</tr>\n",
              "<tr>\n",
              "  <th>Time:</th>               <td>07:54:08</td>      <th>  Df Model:          </th>      <td>1</td>    \n",
              "</tr>\n",
              "</table>\n",
              "<table class=\"simpletable\">\n",
              "<caption>Mean Model</caption>\n",
              "<tr>\n",
              "   <td></td>     <th>coef</th>     <th>std err</th>      <th>t</th>       <th>P>|t|</th>   <th>95.0% Conf. Int.</th> \n",
              "</tr>\n",
              "<tr>\n",
              "  <th>mu</th> <td>    0.3280</td> <td>    0.362</td> <td>    0.906</td> <td>    0.365</td> <td>[ -0.381,  1.037]</td>\n",
              "</tr>\n",
              "</table>\n",
              "<table class=\"simpletable\">\n",
              "<caption>Volatility Model</caption>\n",
              "<tr>\n",
              "      <td></td>        <th>coef</th>     <th>std err</th>      <th>t</th>        <th>P>|t|</th>    <th>95.0% Conf. Int.</th>  \n",
              "</tr>\n",
              "<tr>\n",
              "  <th>omega</th>    <td>    5.6056</td> <td>    3.341</td> <td>    1.678</td>  <td>9.341e-02</td>  <td>[ -0.943, 12.154]</td> \n",
              "</tr>\n",
              "<tr>\n",
              "  <th>alpha[1]</th> <td>    0.0835</td> <td>2.840e-02</td> <td>    2.941</td>  <td>3.275e-03</td> <td>[2.786e-02,  0.139]</td>\n",
              "</tr>\n",
              "<tr>\n",
              "  <th>beta[1]</th>  <td>    0.8881</td> <td>4.054e-02</td> <td>   21.910</td> <td>2.076e-106</td>  <td>[  0.809,  0.968]</td> \n",
              "</tr>\n",
              "</table><br/><br/>Covariance estimator: robust"
            ]
          },
          "metadata": {},
          "execution_count": 190
        }
      ]
    },
    {
      "cell_type": "code",
      "source": [
        "Mdl2=arch.arch_model(100*r,vol='EGARCH', p=1,o=1,q=1, lags=1, rescale=False).fit()\n",
        "v2=Mdl2.forecast(start = 0, method='simulation').variance/1e6\n",
        "Mdl2.summary()"
      ],
      "metadata": {
        "colab": {
          "base_uri": "https://localhost:8080/",
          "height": 1000
        },
        "id": "3cJahi8-Xisz",
        "outputId": "b343e9ee-c642-4036-f7c9-e2b630ba323e"
      },
      "execution_count": null,
      "outputs": [
        {
          "output_type": "stream",
          "name": "stdout",
          "text": [
            "Iteration:      1,   Func. Count:      7,   Neg. LLF: 1465315215.5128775\n",
            "Iteration:      2,   Func. Count:     19,   Neg. LLF: 3598500.324797894\n",
            "Iteration:      3,   Func. Count:     32,   Neg. LLF: 12477.668992283045\n",
            "Iteration:      4,   Func. Count:     44,   Neg. LLF: 6720252297.193189\n",
            "Iteration:      5,   Func. Count:     51,   Neg. LLF: 4622275.815824016\n",
            "Iteration:      6,   Func. Count:     58,   Neg. LLF: 1911078768.4212053\n",
            "Iteration:      7,   Func. Count:     66,   Neg. LLF: 1695214738.2191348\n",
            "Iteration:      8,   Func. Count:     73,   Neg. LLF: 1664441070.5640647\n",
            "Iteration:      9,   Func. Count:     80,   Neg. LLF: 12632.140072019858\n",
            "Iteration:     10,   Func. Count:     89,   Neg. LLF: 2183416.816964255\n",
            "Iteration:     11,   Func. Count:     96,   Neg. LLF: 6690.231202573156\n",
            "Iteration:     12,   Func. Count:    103,   Neg. LLF: 1648029305.2207022\n",
            "Iteration:     13,   Func. Count:    110,   Neg. LLF: 293293813475.8072\n",
            "Iteration:     14,   Func. Count:    120,   Neg. LLF: 5617.300715796067\n",
            "Iteration:     15,   Func. Count:    127,   Neg. LLF: 5496.924195627414\n",
            "Iteration:     16,   Func. Count:    134,   Neg. LLF: 5429.76965391267\n",
            "Iteration:     17,   Func. Count:    141,   Neg. LLF: 5391.283420700445\n",
            "Iteration:     18,   Func. Count:    147,   Neg. LLF: 585933949.1127499\n",
            "Iteration:     19,   Func. Count:    154,   Neg. LLF: 2261034885.0345783\n",
            "Iteration:     20,   Func. Count:    161,   Neg. LLF: 11407.895496141879\n",
            "Iteration:     21,   Func. Count:    173,   Neg. LLF: 557904947.6984812\n",
            "Iteration:     22,   Func. Count:    180,   Neg. LLF: 2260839580.9078884\n",
            "Iteration:     23,   Func. Count:    187,   Neg. LLF: 2263496182.991099\n",
            "Iteration:     24,   Func. Count:    194,   Neg. LLF: 2265660202.9217896\n",
            "Iteration:     25,   Func. Count:    201,   Neg. LLF: 6557.632135852625\n",
            "Iteration:     26,   Func. Count:    208,   Neg. LLF: 6074.75951140768\n",
            "Iteration:     27,   Func. Count:    215,   Neg. LLF: 6046.406523083922\n",
            "Iteration:     28,   Func. Count:    222,   Neg. LLF: 5289.324321989257\n",
            "Iteration:     29,   Func. Count:    228,   Neg. LLF: 5323.469541100226\n",
            "Iteration:     30,   Func. Count:    235,   Neg. LLF: 347108935.47900045\n",
            "Iteration:     31,   Func. Count:    242,   Neg. LLF: 402710557.9602841\n",
            "Iteration:     32,   Func. Count:    249,   Neg. LLF: 5517.663919488583\n",
            "Iteration:     33,   Func. Count:    256,   Neg. LLF: 6744.825343390992\n",
            "Iteration:     34,   Func. Count:    263,   Neg. LLF: 5557.453383560328\n",
            "Iteration:     35,   Func. Count:    270,   Neg. LLF: 608425900.7665225\n",
            "Iteration:     36,   Func. Count:    277,   Neg. LLF: 609555867.9007715\n",
            "Iteration:     37,   Func. Count:    285,   Neg. LLF: 575201375.2018087\n",
            "Iteration:     38,   Func. Count:    292,   Neg. LLF: 5880.108452031474\n",
            "Iteration:     39,   Func. Count:    299,   Neg. LLF: 5590.80807918858\n",
            "Iteration:     40,   Func. Count:    307,   Neg. LLF: 5233.406309230444\n",
            "Iteration:     41,   Func. Count:    313,   Neg. LLF: 5261.406138409659\n",
            "Iteration:     42,   Func. Count:    320,   Neg. LLF: 5228.109150420427\n",
            "Iteration:     43,   Func. Count:    326,   Neg. LLF: 5229.810984701368\n",
            "Iteration:     44,   Func. Count:    342,   Neg. LLF: 5623.032777842138\n",
            "Iteration:     45,   Func. Count:    358,   Neg. LLF: 454559.8122256169\n",
            "Iteration:     46,   Func. Count:    374,   Neg. LLF: 7303093.683252833\n",
            "Iteration:     47,   Func. Count:    390,   Neg. LLF: 6571843.367846882\n",
            "Iteration:     48,   Func. Count:    406,   Neg. LLF: 15723.995296625857\n",
            "Iteration:     49,   Func. Count:    422,   Neg. LLF: 1638365.3238310309\n",
            "Iteration:     50,   Func. Count:    438,   Neg. LLF: 1638509.8446190844\n",
            "Iteration:     51,   Func. Count:    454,   Neg. LLF: 1638540.664165425\n",
            "Iteration:     52,   Func. Count:    470,   Neg. LLF: 1638529.6545478757\n",
            "Iteration:     53,   Func. Count:    486,   Neg. LLF: 1638301.8883305083\n",
            "Iteration:     54,   Func. Count:    502,   Neg. LLF: 1322467.3537788338\n",
            "Iteration:     55,   Func. Count:    518,   Neg. LLF: 226737278576507.44\n",
            "Iteration:     56,   Func. Count:    534,   Neg. LLF: 59589286.63367185\n",
            "Iteration:     57,   Func. Count:    541,   Neg. LLF: 1153288.75312721\n",
            "Iteration:     58,   Func. Count:    548,   Neg. LLF: 2449299.5042367033\n",
            "Iteration:     59,   Func. Count:    558,   Neg. LLF: 5879498668.755154\n",
            "Iteration:     60,   Func. Count:    566,   Neg. LLF: 1811816056.0382638\n",
            "Iteration:     61,   Func. Count:    573,   Neg. LLF: 1987710363.7480145\n",
            "Iteration:     62,   Func. Count:    581,   Neg. LLF: 7015.799351698886\n",
            "Iteration:     63,   Func. Count:    588,   Neg. LLF: 6165.786758993398\n",
            "Iteration:     64,   Func. Count:    594,   Neg. LLF: 6160.194130409276\n",
            "Iteration:     65,   Func. Count:    600,   Neg. LLF: 6158.453808276183\n",
            "Iteration:     66,   Func. Count:    607,   Neg. LLF: 6120.70785325728\n",
            "Iteration:     67,   Func. Count:    613,   Neg. LLF: 2543364357.008154\n",
            "Iteration:     68,   Func. Count:    620,   Neg. LLF: 6351168074.190805\n",
            "Iteration:     69,   Func. Count:    627,   Neg. LLF: 7294423150.4768095\n",
            "Iteration:     70,   Func. Count:    635,   Neg. LLF: 3759990570.199781\n",
            "Iteration:     71,   Func. Count:    642,   Neg. LLF: 27723238815.93843\n",
            "Iteration:     72,   Func. Count:    650,   Neg. LLF: 8612.14360968558\n",
            "Iteration:     73,   Func. Count:    657,   Neg. LLF: 27911361.428538255\n",
            "Iteration:     74,   Func. Count:    664,   Neg. LLF: 6416.8053088895695\n",
            "Iteration:     75,   Func. Count:    671,   Neg. LLF: 5791.062228243344\n",
            "Iteration:     76,   Func. Count:    678,   Neg. LLF: 5753.94266898155\n",
            "Iteration:     77,   Func. Count:    684,   Neg. LLF: 5747.415504127161\n",
            "Iteration:     78,   Func. Count:    690,   Neg. LLF: 5742.532840113324\n",
            "Iteration:     79,   Func. Count:    696,   Neg. LLF: 5738.52380813637\n",
            "Iteration:     80,   Func. Count:    702,   Neg. LLF: 5735.802993972184\n",
            "Iteration:     81,   Func. Count:    708,   Neg. LLF: 5732.3791743370675\n",
            "Iteration:     82,   Func. Count:    714,   Neg. LLF: 5725.691246671566\n",
            "Iteration:     83,   Func. Count:    720,   Neg. LLF: 5718.608696228677\n",
            "Iteration:     84,   Func. Count:    726,   Neg. LLF: 5707.134600769223\n",
            "Iteration:     85,   Func. Count:    732,   Neg. LLF: 5704.461636821547\n",
            "Iteration:     86,   Func. Count:    738,   Neg. LLF: 5703.780601419679\n",
            "Iteration:     87,   Func. Count:    744,   Neg. LLF: 5703.419380929696\n",
            "Iteration:     88,   Func. Count:    750,   Neg. LLF: 5703.399320411334\n",
            "Iteration:     89,   Func. Count:    756,   Neg. LLF: 5703.397651260084\n",
            "Iteration:     90,   Func. Count:    763,   Neg. LLF: 5703.3805800587415\n",
            "Iteration:     91,   Func. Count:    769,   Neg. LLF: 5703.320150996013\n",
            "Iteration:     92,   Func. Count:    775,   Neg. LLF: 5702.993027527986\n",
            "Iteration:     93,   Func. Count:    781,   Neg. LLF: 5701.239772811685\n",
            "Iteration:     94,   Func. Count:    787,   Neg. LLF: 5691.152706114395\n",
            "Iteration:     95,   Func. Count:    793,   Neg. LLF: 67270.8885097086\n",
            "Iteration:     96,   Func. Count:    800,   Neg. LLF: 57056.57693382285\n",
            "Iteration:     97,   Func. Count:    807,   Neg. LLF: 235072.97226606304\n",
            "Iteration:     98,   Func. Count:    814,   Neg. LLF: 1623071728.1223335\n",
            "Iteration:     99,   Func. Count:    820,   Neg. LLF: 5670.763413856721\n",
            "Iteration limit reached    (Exit mode 9)\n",
            "            Current function value: 5670.763350242019\n",
            "            Iterations: 100\n",
            "            Function evaluations: 820\n",
            "            Gradient evaluations: 99\n"
          ]
        },
        {
          "output_type": "stream",
          "name": "stderr",
          "text": [
            "/usr/local/lib/python3.9/dist-packages/arch/univariate/base.py:753: ConvergenceWarning: The optimizer returned code 9. The message is:\n",
            "Iteration limit reached\n",
            "See scipy.optimize.fmin_slsqp for code meaning.\n",
            "\n",
            "  warnings.warn(\n",
            "/usr/local/lib/python3.9/dist-packages/arch/__future__/_utility.py:11: FutureWarning: \n",
            "The default for reindex is True. After September 2021 this will change to\n",
            "False. Set reindex to True or False to silence this message. Alternatively,\n",
            "you can use the import comment\n",
            "\n",
            "from arch.__future__ import reindexing\n",
            "\n",
            "to globally set reindex to True and silence this warning.\n",
            "\n",
            "  warnings.warn(\n"
          ]
        },
        {
          "output_type": "execute_result",
          "data": {
            "text/plain": [
              "<class 'statsmodels.iolib.summary.Summary'>\n",
              "\"\"\"\n",
              "                     Constant Mean - EGARCH Model Results                     \n",
              "==============================================================================\n",
              "Dep. Variable:                      y   R-squared:                       0.000\n",
              "Mean Model:             Constant Mean   Adj. R-squared:                  0.000\n",
              "Vol Model:                     EGARCH   Log-Likelihood:               -5670.76\n",
              "Distribution:                  Normal   AIC:                           11351.5\n",
              "Method:            Maximum Likelihood   BIC:                           11376.9\n",
              "                                        No. Observations:                 1193\n",
              "Date:                Thu, Mar 16 2023   Df Residuals:                     1192\n",
              "Time:                        07:52:00   Df Model:                            1\n",
              "                               Mean Model                               \n",
              "========================================================================\n",
              "                 coef    std err          t      P>|t|  95.0% Conf. Int.\n",
              "------------------------------------------------------------------------\n",
              "mu            -0.6505      8.167 -7.965e-02      0.937 [-16.658, 15.357]\n",
              "                            Volatility Model                            \n",
              "========================================================================\n",
              "                 coef    std err          t      P>|t|  95.0% Conf. Int.\n",
              "------------------------------------------------------------------------\n",
              "omega          0.9687      0.176      5.501  3.770e-08 [  0.624,  1.314]\n",
              "alpha[1]       0.3795  6.090e-02      6.232  4.611e-10 [  0.260,  0.499]\n",
              "gamma[1]       0.2287      0.386      0.593      0.553 [ -0.527,  0.985]\n",
              "beta[1]        0.8811  4.702e-02     18.741  2.295e-78 [  0.789,  0.973]\n",
              "========================================================================\n",
              "\n",
              "Covariance estimator: robust\n",
              "WARNING: The optimizer did not indicate successful convergence. The message was Iteration limit reached.\n",
              "See convergence_flag.\n",
              "\n",
              "\"\"\""
            ],
            "text/html": [
              "<table class=\"simpletable\">\n",
              "<caption>Constant Mean - EGARCH Model Results</caption>\n",
              "<tr>\n",
              "  <th>Dep. Variable:</th>          <td>y</td>         <th>  R-squared:         </th>  <td>   0.000</td> \n",
              "</tr>\n",
              "<tr>\n",
              "  <th>Mean Model:</th>       <td>Constant Mean</td>   <th>  Adj. R-squared:    </th>  <td>   0.000</td> \n",
              "</tr>\n",
              "<tr>\n",
              "  <th>Vol Model:</th>           <td>EGARCH</td>       <th>  Log-Likelihood:    </th> <td>  -5670.76</td>\n",
              "</tr>\n",
              "<tr>\n",
              "  <th>Distribution:</th>        <td>Normal</td>       <th>  AIC:               </th> <td>   11351.5</td>\n",
              "</tr>\n",
              "<tr>\n",
              "  <th>Method:</th>        <td>Maximum Likelihood</td> <th>  BIC:               </th> <td>   11376.9</td>\n",
              "</tr>\n",
              "<tr>\n",
              "  <th></th>                        <td></td>          <th>  No. Observations:  </th>    <td>1193</td>   \n",
              "</tr>\n",
              "<tr>\n",
              "  <th>Date:</th>           <td>Thu, Mar 16 2023</td>  <th>  Df Residuals:      </th>    <td>1192</td>   \n",
              "</tr>\n",
              "<tr>\n",
              "  <th>Time:</th>               <td>07:52:00</td>      <th>  Df Model:          </th>      <td>1</td>    \n",
              "</tr>\n",
              "</table>\n",
              "<table class=\"simpletable\">\n",
              "<caption>Mean Model</caption>\n",
              "<tr>\n",
              "   <td></td>     <th>coef</th>     <th>std err</th>       <th>t</th>       <th>P>|t|</th>   <th>95.0% Conf. Int.</th> \n",
              "</tr>\n",
              "<tr>\n",
              "  <th>mu</th> <td>   -0.6505</td> <td>    8.167</td> <td>-7.965e-02</td> <td>    0.937</td> <td>[-16.658, 15.357]</td>\n",
              "</tr>\n",
              "</table>\n",
              "<table class=\"simpletable\">\n",
              "<caption>Volatility Model</caption>\n",
              "<tr>\n",
              "      <td></td>        <th>coef</th>     <th>std err</th>      <th>t</th>       <th>P>|t|</th>   <th>95.0% Conf. Int.</th> \n",
              "</tr>\n",
              "<tr>\n",
              "  <th>omega</th>    <td>    0.9687</td> <td>    0.176</td> <td>    5.501</td> <td>3.770e-08</td> <td>[  0.624,  1.314]</td>\n",
              "</tr>\n",
              "<tr>\n",
              "  <th>alpha[1]</th> <td>    0.3795</td> <td>6.090e-02</td> <td>    6.232</td> <td>4.611e-10</td> <td>[  0.260,  0.499]</td>\n",
              "</tr>\n",
              "<tr>\n",
              "  <th>gamma[1]</th> <td>    0.2287</td> <td>    0.386</td> <td>    0.593</td> <td>    0.553</td> <td>[ -0.527,  0.985]</td>\n",
              "</tr>\n",
              "<tr>\n",
              "  <th>beta[1]</th>  <td>    0.8811</td> <td>4.702e-02</td> <td>   18.741</td> <td>2.295e-78</td> <td>[  0.789,  0.973]</td>\n",
              "</tr>\n",
              "</table><br/><br/>Covariance estimator: robust<br/>WARNING: The optimizer did not indicate successful convergence. The message was Iteration limit reached.<br/>See convergence_flag.<br/>"
            ]
          },
          "metadata": {},
          "execution_count": 186
        }
      ]
    },
    {
      "cell_type": "code",
      "source": [
        "plt.plot(date2, v2)"
      ],
      "metadata": {
        "colab": {
          "base_uri": "https://localhost:8080/",
          "height": 282
        },
        "id": "lgIXFd8iYWWy",
        "outputId": "56da7b91-170f-4be2-8ad5-51bc0cf10580"
      },
      "execution_count": null,
      "outputs": [
        {
          "output_type": "execute_result",
          "data": {
            "text/plain": [
              "[<matplotlib.lines.Line2D at 0x7f85ac3ad1c0>]"
            ]
          },
          "metadata": {},
          "execution_count": 188
        },
        {
          "output_type": "display_data",
          "data": {
            "text/plain": [
              "<Figure size 432x288 with 1 Axes>"
            ],
            "image/png": "[encoded data removed]"
          },
          "metadata": {
            "needs_background": "light"
          }
        }
      ]
    },
    {
      "cell_type": "code",
      "source": [
        "plt.plot(date2[500:],v2[500:])"
      ],
      "metadata": {
        "colab": {
          "base_uri": "https://localhost:8080/",
          "height": 282
        },
        "id": "CxNi1-FnYx6F",
        "outputId": "3379685b-95c6-47cd-f9f9-caedad06527e"
      },
      "execution_count": null,
      "outputs": [
        {
          "output_type": "execute_result",
          "data": {
            "text/plain": [
              "[<matplotlib.lines.Line2D at 0x7f85ae537070>]"
            ]
          },
          "metadata": {},
          "execution_count": 102
        },
        {
          "output_type": "display_data",
          "data": {
            "text/plain": [
              "<Figure size 432x288 with 1 Axes>"
            ],
            "image/png": "[encoded data removed]"
          },
          "metadata": {
            "needs_background": "light"
          }
        }
      ]
    },
    {
      "cell_type": "code",
      "source": [
        "risk = np.sqrt(.0097)\n",
        "print(risk)\n",
        "rr = 100*r\n",
        "print(rr)\n",
        "risk1 = risk*100\n",
        "lower = -20 -1.96*risk1\n",
        "upper = -20 + 1.96*risk1 \n",
        "print(lower)\n",
        "print(upper)"
      ],
      "metadata": {
        "colab": {
          "base_uri": "https://localhost:8080/"
        },
        "id": "_xQWZYzRbzvY",
        "outputId": "63bf17fb-6260-4472-cc0d-41705c13d9cf"
      },
      "execution_count": null,
      "outputs": [
        {
          "output_type": "stream",
          "name": "stdout",
          "text": [
            "0.09848857801796104\n",
            "[-53.90848635  93.83866169  97.90028004 ...  22.16734629   2.61494881\n",
            " -20.93876179]\n",
            "-39.30376129152036\n",
            "-0.6962387084796369\n"
          ]
        }
      ]
    },
    {
      "cell_type": "code",
      "source": [
        "Mdl2.summary()"
      ],
      "metadata": {
        "colab": {
          "base_uri": "https://localhost:8080/",
          "height": 447
        },
        "id": "VUCPnRMwX3bO",
        "outputId": "7d1d132c-99ef-4df8-df65-1081a46ccbf8"
      },
      "execution_count": null,
      "outputs": [
        {
          "output_type": "execute_result",
          "data": {
            "text/plain": [
              "<class 'statsmodels.iolib.summary.Summary'>\n",
              "\"\"\"\n",
              "                     Constant Mean - EGARCH Model Results                     \n",
              "==============================================================================\n",
              "Dep. Variable:                      y   R-squared:                       0.000\n",
              "Mean Model:             Constant Mean   Adj. R-squared:                  0.000\n",
              "Vol Model:                     EGARCH   Log-Likelihood:               -28941.5\n",
              "Distribution:                  Normal   AIC:                           57893.0\n",
              "Method:            Maximum Likelihood   BIC:                           57926.5\n",
              "                                        No. Observations:                 5969\n",
              "Date:                Thu, Mar 16 2023   Df Residuals:                     5968\n",
              "Time:                        03:02:27   Df Model:                            1\n",
              "                               Mean Model                               \n",
              "========================================================================\n",
              "                 coef    std err          t      P>|t|  95.0% Conf. Int.\n",
              "------------------------------------------------------------------------\n",
              "mu             1.0666      0.404      2.643  8.226e-03 [  0.276,  1.858]\n",
              "                              Volatility Model                              \n",
              "============================================================================\n",
              "                 coef    std err          t      P>|t|      95.0% Conf. Int.\n",
              "----------------------------------------------------------------------------\n",
              "omega          0.2023  5.246e-02      3.855  1.155e-04   [9.944e-02,  0.305]\n",
              "alpha[1]       0.2328  3.266e-02      7.126  1.033e-12     [  0.169,  0.297]\n",
              "gamma[1]       0.0408  1.637e-02      2.494  1.263e-02 [8.746e-03,7.293e-02]\n",
              "beta[1]        0.9729  7.513e-03    129.504      0.000     [  0.958,  0.988]\n",
              "============================================================================\n",
              "\n",
              "Covariance estimator: robust\n",
              "\"\"\""
            ],
            "text/html": [
              "<table class=\"simpletable\">\n",
              "<caption>Constant Mean - EGARCH Model Results</caption>\n",
              "<tr>\n",
              "  <th>Dep. Variable:</th>          <td>y</td>         <th>  R-squared:         </th>  <td>   0.000</td> \n",
              "</tr>\n",
              "<tr>\n",
              "  <th>Mean Model:</th>       <td>Constant Mean</td>   <th>  Adj. R-squared:    </th>  <td>   0.000</td> \n",
              "</tr>\n",
              "<tr>\n",
              "  <th>Vol Model:</th>           <td>EGARCH</td>       <th>  Log-Likelihood:    </th> <td>  -28941.5</td>\n",
              "</tr>\n",
              "<tr>\n",
              "  <th>Distribution:</th>        <td>Normal</td>       <th>  AIC:               </th> <td>   57893.0</td>\n",
              "</tr>\n",
              "<tr>\n",
              "  <th>Method:</th>        <td>Maximum Likelihood</td> <th>  BIC:               </th> <td>   57926.5</td>\n",
              "</tr>\n",
              "<tr>\n",
              "  <th></th>                        <td></td>          <th>  No. Observations:  </th>    <td>5969</td>   \n",
              "</tr>\n",
              "<tr>\n",
              "  <th>Date:</th>           <td>Thu, Mar 16 2023</td>  <th>  Df Residuals:      </th>    <td>5968</td>   \n",
              "</tr>\n",
              "<tr>\n",
              "  <th>Time:</th>               <td>03:02:27</td>      <th>  Df Model:          </th>      <td>1</td>    \n",
              "</tr>\n",
              "</table>\n",
              "<table class=\"simpletable\">\n",
              "<caption>Mean Model</caption>\n",
              "<tr>\n",
              "   <td></td>     <th>coef</th>     <th>std err</th>      <th>t</th>       <th>P>|t|</th>   <th>95.0% Conf. Int.</th> \n",
              "</tr>\n",
              "<tr>\n",
              "  <th>mu</th> <td>    1.0666</td> <td>    0.404</td> <td>    2.643</td> <td>8.226e-03</td> <td>[  0.276,  1.858]</td>\n",
              "</tr>\n",
              "</table>\n",
              "<table class=\"simpletable\">\n",
              "<caption>Volatility Model</caption>\n",
              "<tr>\n",
              "      <td></td>        <th>coef</th>     <th>std err</th>      <th>t</th>       <th>P>|t|</th>     <th>95.0% Conf. Int.</th>   \n",
              "</tr>\n",
              "<tr>\n",
              "  <th>omega</th>    <td>    0.2023</td> <td>5.246e-02</td> <td>    3.855</td> <td>1.155e-04</td>  <td>[9.944e-02,  0.305]</td> \n",
              "</tr>\n",
              "<tr>\n",
              "  <th>alpha[1]</th> <td>    0.2328</td> <td>3.266e-02</td> <td>    7.126</td> <td>1.033e-12</td>   <td>[  0.169,  0.297]</td>  \n",
              "</tr>\n",
              "<tr>\n",
              "  <th>gamma[1]</th> <td>    0.0408</td> <td>1.637e-02</td> <td>    2.494</td> <td>1.263e-02</td> <td>[8.746e-03,7.293e-02]</td>\n",
              "</tr>\n",
              "<tr>\n",
              "  <th>beta[1]</th>  <td>    0.9729</td> <td>7.513e-03</td> <td>  129.504</td>   <td>0.000</td>     <td>[  0.958,  0.988]</td>  \n",
              "</tr>\n",
              "</table><br/><br/>Covariance estimator: robust"
            ]
          },
          "metadata": {},
          "execution_count": 56
        }
      ]
    },
    {
      "cell_type": "markdown",
      "source": [
        "Let's see how well an SVJD (Stochastic Volatility Jump Diffusion) Process can fit this kernel:\n",
        "\n",
        "$\\textbf{Stochastic Volatility Model}$\n",
        "\n",
        "\n",
        "This model has the following continuous time representation:\n",
        "\n",
        "$ \\Delta S_t = \\alpha + \\beta  \\Delta S_{t_1} + z_{s,t}  \\sigma_{s,t}$\n",
        "\n",
        "$ z_{s,t} \\sim N(0,1)$\n",
        "\n",
        "$ \\sigma^2_{s,t} = \\delta + \\gamma \\sigma^2_{s,t-1} + z_{v,t} \\sigma_v$\n",
        "\n",
        "$ z_{v,t} \\sim N(0,1)$  \n",
        "\n",
        "$\\rho(z_s,z_v)= \\hat{\\rho}$\n",
        "\n",
        "\n",
        "\n",
        "\n",
        "\n",
        "Spedifically we want to feed into an SVJD model the following parameters:\n",
        "\n",
        "$\\Omega = [ \\alpha,  \\beta, \\hat{\\rho},  \\delta, \\gamma,  \\sigma_v ]$"
      ],
      "metadata": {
        "id": "3YHRyi3Qs_An"
      }
    },
    {
      "cell_type": "code",
      "source": [
        "!pip install tensorflow\n",
        "import math\n",
        "import numpy as np\n",
        "import pandas as pd\n",
        "import scipy\n",
        "from scipy import stats\n",
        "import tensorflow as tf\n",
        "import scipy.special\n",
        "rho = 0\n",
        "seed = 1\n",
        "np.random.seed(seed)\n",
        "y = PesoUSdiff * 100\n",
        "rr = len(y)*5\n",
        "vmat = [[1,rho],[rho,1]]\n",
        "zz = np.random.multivariate_normal(np.zeros(2), vmat, size=rr) * 1;\n",
        "rr = len(y)\n",
        "data = Xe\n",
        "data1 = Fe\n",
        "\n",
        "def autocorr(x):\n",
        "    x = np.array(x)\n",
        "    x = x.reshape((-1,))\n",
        "    result = np.correlate(x, x, mode='full')\n",
        "    return result[result.size // 2:]\n",
        "\n",
        "\n",
        "def svmodel(betab, fixedarg1 = \"data\", fixed_arg2 = \"data1\", \n",
        "              fixed_arg3 = \"y\", fixed_arg4 = \"zz\"):\n",
        "   # global fixed_params1, fixed_params2, fixed_params3, fixed_params4, fixed_params5\n",
        "    seed = 0\n",
        "    np.random.seed(seed)\n",
        "    v = np.zeros(rr)\n",
        "    betabb= scipy.special.expit(betab)\n",
        "    v[0] = .0001\n",
        "    alpha = betab[0]\n",
        "    beta = betab[1]\n",
        "    delta = betab[2]\n",
        "    gamma = betab[3]\n",
        "    sigmav = betab[4]\n",
        "    yhat = np.zeros((rr, 1))\n",
        "    vmat = [[1,rho],[rho,1]]\n",
        "    for i in range(1, rr):\n",
        "        yhat[i] = alpha + beta * yhat[i-1] + (math.exp(v[i - 1])**.5) * zz[i, 0]\n",
        "        v[i] =   delta  + gamma*  v[i - 1] + sigmav * zz[i, 1]\n",
        "      \n",
        "    yhat = yhat\n",
        "    kde = stats.gaussian_kde(yhat.T)\n",
        "    yhats = np.linspace(np.min(yhat), np.max(yhat), 100)\n",
        "    f1hat = kde(yhats)\n",
        "    f1hat = f1hat / np.sum(f1hat)\n",
        "    theta = [alpha, rho, delta, gamma, sigmav]\n",
        "    ys = data\n",
        "    f1 = data1\n",
        "    error0 = np.mean(ys) - np.mean(yhats);\n",
        "    error1 = ys - yhats\n",
        "    error2 = f1 - f1hat\n",
        "    error3 = np.var(ys) - np.var(yhats)\n",
        "    error4 = scipy.stats.skew(ys) - scipy.stats.skew(yhats);\n",
        "    error5 = scipy.stats.kurtosis(ys) - scipy.stats.kurtosis(yhats);\n",
        "    junk1 = autocorr(y)\n",
        "    rho1_y = junk1[:3]\n",
        "    junk2 = autocorr(y ** 2);\n",
        "    rho2_y = junk2[:3]\n",
        "    junk3 = autocorr(yhat[:])\n",
        "    rho1_yhat = junk3[:3]\n",
        "    junk4 = autocorr(yhat[:] ** 2)\n",
        "    rho2_yhat = junk4[:3]\n",
        "    error6 = rho1_y - rho1_yhat\n",
        "    error7 = rho2_y - rho2_yhat\n",
        "\n",
        "    ERROR = error0 ** 2 +  np.sum(error1 **2) + np.sum(error2 **2) + error3 ** 2 + error4 ** 2 + error5 ** 2\n",
        "    + np.sum(error6 ** 2) + np.sum(error7 ** 2)\n",
        "    \n",
        "    if ERROR is None:\n",
        "        ERROR = 1000\n",
        "\n",
        "    return ERROR"
      ],
      "metadata": {
        "id": "vQ5kgLDRtcYO",
        "colab": {
          "base_uri": "https://localhost:8080/"
        },
        "outputId": "000cf7e8-3621-4dc4-85de-0809bcfedbc1"
      },
      "execution_count": null,
      "outputs": [
        {
          "output_type": "stream",
          "name": "stdout",
          "text": [
            "Looking in indexes: https://pypi.org/simple, https://us-python.pkg.dev/colab-wheels/public/simple/\n",
            "Requirement already satisfied: tensorflow in /usr/local/lib/python3.9/dist-packages (2.11.0)\n",
            "Requirement already satisfied: protobuf<3.20,>=3.9.2 in /usr/local/lib/python3.9/dist-packages (from tensorflow) (3.19.6)\n",
            "Requirement already satisfied: astunparse>=1.6.0 in /usr/local/lib/python3.9/dist-packages (from tensorflow) (1.6.3)\n",
            "Requirement already satisfied: six>=1.12.0 in /usr/local/lib/python3.9/dist-packages (from tensorflow) (1.15.0)\n",
            "Requirement already satisfied: tensorflow-io-gcs-filesystem>=0.23.1 in /usr/local/lib/python3.9/dist-packages (from tensorflow) (0.31.0)\n",
            "Requirement already satisfied: wrapt>=1.11.0 in /usr/local/lib/python3.9/dist-packages (from tensorflow) (1.15.0)\n",
            "Requirement already satisfied: grpcio<2.0,>=1.24.3 in /usr/local/lib/python3.9/dist-packages (from tensorflow) (1.51.3)\n",
            "Requirement already satisfied: opt-einsum>=2.3.2 in /usr/local/lib/python3.9/dist-packages (from tensorflow) (3.3.0)\n",
            "Requirement already satisfied: numpy>=1.20 in /usr/local/lib/python3.9/dist-packages (from tensorflow) (1.22.4)\n",
            "Requirement already satisfied: tensorflow-estimator<2.12,>=2.11.0 in /usr/local/lib/python3.9/dist-packages (from tensorflow) (2.11.0)\n",
            "Requirement already satisfied: gast<=0.4.0,>=0.2.1 in /usr/local/lib/python3.9/dist-packages (from tensorflow) (0.4.0)\n",
            "Requirement already satisfied: tensorboard<2.12,>=2.11 in /usr/local/lib/python3.9/dist-packages (from tensorflow) (2.11.2)\n",
            "Requirement already satisfied: setuptools in /usr/local/lib/python3.9/dist-packages (from tensorflow) (63.4.3)\n",
            "Requirement already satisfied: libclang>=13.0.0 in /usr/local/lib/python3.9/dist-packages (from tensorflow) (15.0.6.1)\n",
            "Requirement already satisfied: termcolor>=1.1.0 in /usr/local/lib/python3.9/dist-packages (from tensorflow) (2.2.0)\n",
            "Requirement already satisfied: h5py>=2.9.0 in /usr/local/lib/python3.9/dist-packages (from tensorflow) (3.1.0)\n",
            "Requirement already satisfied: google-pasta>=0.1.1 in /usr/local/lib/python3.9/dist-packages (from tensorflow) (0.2.0)\n",
            "Requirement already satisfied: keras<2.12,>=2.11.0 in /usr/local/lib/python3.9/dist-packages (from tensorflow) (2.11.0)\n",
            "Requirement already satisfied: typing-extensions>=3.6.6 in /usr/local/lib/python3.9/dist-packages (from tensorflow) (4.5.0)\n",
            "Requirement already satisfied: flatbuffers>=2.0 in /usr/local/lib/python3.9/dist-packages (from tensorflow) (23.3.3)\n",
            "Requirement already satisfied: absl-py>=1.0.0 in /usr/local/lib/python3.9/dist-packages (from tensorflow) (1.4.0)\n",
            "Requirement already satisfied: packaging in /usr/local/lib/python3.9/dist-packages (from tensorflow) (23.0)\n",
            "Requirement already satisfied: wheel<1.0,>=0.23.0 in /usr/local/lib/python3.9/dist-packages (from astunparse>=1.6.0->tensorflow) (0.38.4)\n",
            "Requirement already satisfied: google-auth-oauthlib<0.5,>=0.4.1 in /usr/local/lib/python3.9/dist-packages (from tensorboard<2.12,>=2.11->tensorflow) (0.4.6)\n",
            "Requirement already satisfied: markdown>=2.6.8 in /usr/local/lib/python3.9/dist-packages (from tensorboard<2.12,>=2.11->tensorflow) (3.4.1)\n",
            "Requirement already satisfied: requests<3,>=2.21.0 in /usr/local/lib/python3.9/dist-packages (from tensorboard<2.12,>=2.11->tensorflow) (2.25.1)\n",
            "Requirement already satisfied: tensorboard-data-server<0.7.0,>=0.6.0 in /usr/local/lib/python3.9/dist-packages (from tensorboard<2.12,>=2.11->tensorflow) (0.6.1)\n",
            "Requirement already satisfied: tensorboard-plugin-wit>=1.6.0 in /usr/local/lib/python3.9/dist-packages (from tensorboard<2.12,>=2.11->tensorflow) (1.8.1)\n",
            "Requirement already satisfied: google-auth<3,>=1.6.3 in /usr/local/lib/python3.9/dist-packages (from tensorboard<2.12,>=2.11->tensorflow) (2.16.2)\n",
            "Requirement already satisfied: werkzeug>=1.0.1 in /usr/local/lib/python3.9/dist-packages (from tensorboard<2.12,>=2.11->tensorflow) (2.2.3)\n",
            "Requirement already satisfied: cachetools<6.0,>=2.0.0 in /usr/local/lib/python3.9/dist-packages (from google-auth<3,>=1.6.3->tensorboard<2.12,>=2.11->tensorflow) (5.3.0)\n",
            "Requirement already satisfied: rsa<5,>=3.1.4 in /usr/local/lib/python3.9/dist-packages (from google-auth<3,>=1.6.3->tensorboard<2.12,>=2.11->tensorflow) (4.9)\n",
            "Requirement already satisfied: pyasn1-modules>=0.2.1 in /usr/local/lib/python3.9/dist-packages (from google-auth<3,>=1.6.3->tensorboard<2.12,>=2.11->tensorflow) (0.2.8)\n",
            "Requirement already satisfied: requests-oauthlib>=0.7.0 in /usr/local/lib/python3.9/dist-packages (from google-auth-oauthlib<0.5,>=0.4.1->tensorboard<2.12,>=2.11->tensorflow) (1.3.1)\n",
            "Requirement already satisfied: importlib-metadata>=4.4 in /usr/local/lib/python3.9/dist-packages (from markdown>=2.6.8->tensorboard<2.12,>=2.11->tensorflow) (6.0.0)\n",
            "Requirement already satisfied: certifi>=2017.4.17 in /usr/local/lib/python3.9/dist-packages (from requests<3,>=2.21.0->tensorboard<2.12,>=2.11->tensorflow) (2022.12.7)\n",
            "Requirement already satisfied: chardet<5,>=3.0.2 in /usr/local/lib/python3.9/dist-packages (from requests<3,>=2.21.0->tensorboard<2.12,>=2.11->tensorflow) (4.0.0)\n",
            "Requirement already satisfied: urllib3<1.27,>=1.21.1 in /usr/local/lib/python3.9/dist-packages (from requests<3,>=2.21.0->tensorboard<2.12,>=2.11->tensorflow) (1.26.15)\n",
            "Requirement already satisfied: idna<3,>=2.5 in /usr/local/lib/python3.9/dist-packages (from requests<3,>=2.21.0->tensorboard<2.12,>=2.11->tensorflow) (2.10)\n",
            "Requirement already satisfied: MarkupSafe>=2.1.1 in /usr/local/lib/python3.9/dist-packages (from werkzeug>=1.0.1->tensorboard<2.12,>=2.11->tensorflow) (2.1.2)\n",
            "Requirement already satisfied: zipp>=0.5 in /usr/local/lib/python3.9/dist-packages (from importlib-metadata>=4.4->markdown>=2.6.8->tensorboard<2.12,>=2.11->tensorflow) (3.15.0)\n",
            "Requirement already satisfied: pyasn1<0.5.0,>=0.4.6 in /usr/local/lib/python3.9/dist-packages (from pyasn1-modules>=0.2.1->google-auth<3,>=1.6.3->tensorboard<2.12,>=2.11->tensorflow) (0.4.8)\n",
            "Requirement already satisfied: oauthlib>=3.0.0 in /usr/local/lib/python3.9/dist-packages (from requests-oauthlib>=0.7.0->google-auth-oauthlib<0.5,>=0.4.1->tensorboard<2.12,>=2.11->tensorflow) (3.2.2)\n"
          ]
        }
      ]
    },
    {
      "cell_type": "code",
      "source": [
        "def svmodel1(betab, fixedarg1 = \"data\", fixed_arg2 = \"data1\", \n",
        "              fixed_arg3 = \"y\", fixed_arg4 = \"zz\"):\n",
        "   # global fixed_params1, fixed_params2, fixed_params3, fixed_params4, fixed_params5\n",
        "    seed = 0\n",
        "    np.random.seed(seed)\n",
        "    rr = len(y)\n",
        "    v = np.zeros(rr)\n",
        "    betabb= scipy.special.expit(betab)\n",
        "    v[0] = .0001\n",
        "    alpha = betab[0]\n",
        "    beta = betab[1]\n",
        "    delta = betab[2]\n",
        "    gamma = betab[3]\n",
        "    sigmav = betab[4]\n",
        "    yhat = np.zeros((rr, 1))\n",
        "    rr = len(y)\n",
        "    vmat = [[1,rho],[rho,1]]\n",
        "    for i in range(1, rr):\n",
        "        yhat[i] = alpha + beta * yhat[i-1] + (math.exp(v[i - 1])**.5) * zz[i, 0]\n",
        "        v[i] =   delta  + gamma*  v[i - 1] + sigmav * zz[i, 1]\n",
        "      \n",
        "    yhat = yhat\n",
        "    kde = stats.gaussian_kde(yhat.T)\n",
        "    yhats = np.linspace(np.min(yhat), np.max(yhat), 100)\n",
        "    f1hat = kde(yhats)\n",
        "    f1hat = f1hat / np.sum(f1hat)\n",
        "    theta = [alpha, rho, delta, gamma, sigmav]\n",
        "    ys = data\n",
        "    f1 = data1\n",
        "    error0 = np.mean(ys) - np.mean(yhats);\n",
        "    error1 = ys - yhats\n",
        "    error2 = f1 - f1hat\n",
        "    error3 = np.var(ys) - np.var(yhats)\n",
        "    error4 = scipy.stats.skew(ys) - scipy.stats.skew(yhats);\n",
        "    error5 = scipy.stats.kurtosis(ys) - scipy.stats.kurtosis(yhats);\n",
        "    junk1 = autocorr(y)\n",
        "    rho1_y = junk1[:3]\n",
        "    junk2 = autocorr(y ** 2);\n",
        "    rho2_y = junk2[:3]\n",
        "    junk3 = autocorr(yhat[:])\n",
        "    rho1_yhat = junk3[:3]\n",
        "    junk4 = autocorr(yhat[:] ** 2)\n",
        "    rho2_yhat = junk4[:3]\n",
        "    error6 = rho1_y - rho1_yhat\n",
        "    error7 = rho2_y - rho2_yhat\n",
        "\n",
        "    ERROR = error0 ** 2 +  np.sum(error1 **2) + np.sum(error2 **2) + error3 ** 2 + error4 ** 2 + error5 ** 2\n",
        "    + np.sum(error6 ** 2) + np.sum(error7 ** 2)\n",
        "    \n",
        "    if ERROR is None:\n",
        "        ERROR = 1000\n",
        "\n",
        "    return ERROR, theta, ys, f1, yhats, f1hat \n",
        "    "
      ],
      "metadata": {
        "id": "XxgYOZ7Ut1av"
      },
      "execution_count": null,
      "outputs": []
    },
    {
      "cell_type": "code",
      "source": [
        "\n",
        "from scipy import stats\n",
        "y = 100 * PesoUSdiff\n",
        "betab =[.0,-.1, .02,.9, .12]\n",
        "ERROR = svmodel(betab)"
      ],
      "metadata": {
        "id": "lymqMgIst9Kt"
      },
      "execution_count": null,
      "outputs": []
    },
    {
      "cell_type": "code",
      "source": [
        "print(ERROR)"
      ],
      "metadata": {
        "colab": {
          "base_uri": "https://localhost:8080/"
        },
        "id": "1_CA7NSiuDxp",
        "outputId": "abb40b7d-f0f5-412a-cc1d-ec0c6acccb1f"
      },
      "execution_count": null,
      "outputs": [
        {
          "output_type": "stream",
          "name": "stdout",
          "text": [
            "568.6990925364167\n"
          ]
        }
      ]
    },
    {
      "cell_type": "code",
      "source": [
        "from scipy.optimize import minimize\n",
        "bounds = [(0, .1), (-.2, .9),(0.001,.1),(0,.95),(0,.20)]\n",
        "betab =[.0,-.1, .02,.9, .12]\n",
        "\n",
        "\n",
        "# perform the optimization with bounds\n",
        "result = minimize(svmodel,betab ,method = 'Nelder-Mead', bounds=bounds)"
      ],
      "metadata": {
        "id": "NjCBap_YuYbd"
      },
      "execution_count": null,
      "outputs": []
    },
    {
      "cell_type": "code",
      "source": [
        "betab = result.x\n",
        "print(betab)\n"
      ],
      "metadata": {
        "colab": {
          "base_uri": "https://localhost:8080/"
        },
        "id": "0bBq_oTxPbyb",
        "outputId": "44ec1f93-bc05-4c69-ec90-c04edef8870f"
      },
      "execution_count": null,
      "outputs": [
        {
          "output_type": "stream",
          "name": "stdout",
          "text": [
            "[ 0.         -0.19999995  0.00100168  0.00044883  0.01677346]\n"
          ]
        }
      ]
    },
    {
      "cell_type": "code",
      "source": [
        "\n",
        "from scipy import stats\n",
        "y = 100 * PesoUSdiff\n",
        "\n",
        "ERROR = svmodel(betab)\n",
        "print(ERROR)"
      ],
      "metadata": {
        "colab": {
          "base_uri": "https://localhost:8080/"
        },
        "id": "qDcatiRAO7Zu",
        "outputId": "186ed0ca-dbbe-4f39-ef7c-69a0559a9134"
      },
      "execution_count": null,
      "outputs": [
        {
          "output_type": "stream",
          "name": "stdout",
          "text": [
            "405.5492050338306\n"
          ]
        }
      ]
    },
    {
      "cell_type": "code",
      "source": [
        "betab = result.x\n",
        "ERROR1 = svmodel(betab)\n",
        "print(ERROR1)"
      ],
      "metadata": {
        "colab": {
          "base_uri": "https://localhost:8080/"
        },
        "id": "i_RDhJzjulJl",
        "outputId": "b04ebf84-dd91-4476-c6ef-8f1e746e5140"
      },
      "execution_count": null,
      "outputs": [
        {
          "output_type": "stream",
          "name": "stdout",
          "text": [
            "440.00116722342347\n"
          ]
        }
      ]
    },
    {
      "cell_type": "code",
      "source": [
        "betab"
      ],
      "metadata": {
        "colab": {
          "base_uri": "https://localhost:8080/"
        },
        "id": "P34xNn1tvHsW",
        "outputId": "a5b8263f-1191-41de-da7b-328a833fd89f"
      },
      "execution_count": null,
      "outputs": [
        {
          "output_type": "execute_result",
          "data": {
            "text/plain": [
              "array([ 0.        , -0.19999995,  0.00100168,  0.00044883,  0.01677346])"
            ]
          },
          "metadata": {},
          "execution_count": 48
        }
      ]
    },
    {
      "cell_type": "code",
      "source": [
        "result1 = minimize(svmodel, betab, method = 'L-BFGS-B')"
      ],
      "metadata": {
        "id": "cQBoYfJ4Vshy"
      },
      "execution_count": null,
      "outputs": []
    },
    {
      "cell_type": "code",
      "source": [
        "betab1 = result1.x\n",
        "print(betab1)\n",
        "ERROR1 = svmodel(betab1)\n",
        "print(ERROR1)"
      ],
      "metadata": {
        "colab": {
          "base_uri": "https://localhost:8080/"
        },
        "id": "GwQA3BFukF45",
        "outputId": "e0b45ea5-fbee-44e3-d408-ff2677a824dd"
      },
      "execution_count": null,
      "outputs": [
        {
          "output_type": "stream",
          "name": "stdout",
          "text": [
            "[  0.14690613  -0.72170389 -60.75848638   0.76736568 -33.49649018]\n",
            "4.789756045258693\n"
          ]
        }
      ]
    },
    {
      "cell_type": "code",
      "source": [],
      "metadata": {
        "id": "JXSI0nPiXd-b"
      },
      "execution_count": null,
      "outputs": []
    },
    {
      "cell_type": "code",
      "source": [
        "bounds =[[0,0.21],[-.90, .05],[-70, 100],[.6,.9],[-50,55]]\n",
        "result2 = scipy.optimize.dual_annealing(svmodel,bounds,initial_temp = 500, maxfun = 500)\n",
        "betab2 = result2.x"
      ],
      "metadata": {
        "id": "emi3_G33vN7_"
      },
      "execution_count": null,
      "outputs": []
    },
    {
      "cell_type": "code",
      "source": [
        "print(betab2)\n",
        "ERROR2 = svmodel(betab2)\n",
        "print(ERROR2)"
      ],
      "metadata": {
        "colab": {
          "base_uri": "https://localhost:8080/"
        },
        "id": "2sWh2SFKmoX4",
        "outputId": "35764a4f-df9b-442e-f1cb-a6ed1e330272"
      },
      "execution_count": null,
      "outputs": [
        {
          "output_type": "stream",
          "name": "stdout",
          "text": [
            "[0.00000000e+00 0.00000000e+00 1.00000000e-04 6.81746157e-01\n",
            " 9.00946999e-02]\n",
            "438.55541150758165\n"
          ]
        }
      ]
    },
    {
      "cell_type": "code",
      "source": [
        "betab1"
      ],
      "metadata": {
        "colab": {
          "base_uri": "https://localhost:8080/"
        },
        "id": "eUgDG7u22cTq",
        "outputId": "cf47d548-44fd-43d9-f4a0-e122ced49545"
      },
      "execution_count": null,
      "outputs": [
        {
          "output_type": "execute_result",
          "data": {
            "text/plain": [
              "array([1.09462859e-04, 0.00000000e+00, 1.00000000e-04, 6.83344401e-01,\n",
              "       9.00283980e-02])"
            ]
          },
          "metadata": {},
          "execution_count": 64
        }
      ]
    },
    {
      "cell_type": "code",
      "source": [
        "ERROR2 = svmodel(betab1)\n",
        "print(ERROR2)"
      ],
      "metadata": {
        "colab": {
          "base_uri": "https://localhost:8080/"
        },
        "id": "fbDRu2_O2jfo",
        "outputId": "599a0135-2622-4b42-efbc-0f4f2ca3edc1"
      },
      "execution_count": null,
      "outputs": [
        {
          "output_type": "stream",
          "name": "stdout",
          "text": [
            "438.58109813834363\n"
          ]
        }
      ]
    },
    {
      "cell_type": "code",
      "source": [
        "result4 = minimize(svmodel,betab1 ,method = 'L-BFGS-B',bounds=bounds)\n",
        "betab4 = result4.x"
      ],
      "metadata": {
        "id": "8EX3Eu2jk8UF"
      },
      "execution_count": null,
      "outputs": []
    },
    {
      "cell_type": "code",
      "source": [
        "betab4\n",
        "ERROR4 = svmodel(betab4)\n",
        "print(ERROR4)"
      ],
      "metadata": {
        "colab": {
          "base_uri": "https://localhost:8080/"
        },
        "id": "dBUeaHyyuOXO",
        "outputId": "6ab7fdaa-6836-43a9-8fc2-f31e10017da3"
      },
      "execution_count": null,
      "outputs": [
        {
          "output_type": "stream",
          "name": "stdout",
          "text": [
            "438.58109813834363\n"
          ]
        }
      ]
    },
    {
      "cell_type": "code",
      "source": [
        "#!pip install pyswarms\n",
        "import numpy as np\n",
        "import pyswarms as ps\n",
        "from pyswarms.utils.functions import single_obj as fx\n",
        "\n",
        "\n",
        "\n",
        "# Set the lower and upper bounds for each variable\n",
        "lb = [0, 0,  0.000005 ,.5 , .00001]\n",
        "ub = [.01, .1,.05, .9,.1]\n",
        "bounds = (lb, ub)\n",
        "\n",
        "# Set the parameters for the PSO algorithm\n",
        "options = {'c1': 0.5, 'c2': 0.3, 'w': 0.9}\n",
        "fixed_arg1 = data \n",
        "fixed_arg2 = data1 \n",
        "fixed_arg3 = y\n",
        "fixed_arg4 = zz\n",
        "\n",
        "objective = lambda betab: svmodel(betab, fixed_arg1, \n",
        "fixed_arg2, fixed_arg3, fixed_arg4)"
      ],
      "metadata": {
        "id": "r74Jc9B2uf-A"
      },
      "execution_count": null,
      "outputs": []
    },
    {
      "cell_type": "code",
      "source": [
        "#optimizer = ps.pso(func=objective, lb=lb, ub=ub, ieqcons=[], f_ieqcons=None, args=(), kwargs={},\n",
        "   #                     swarmsize=10, omega=0.5, phip=0.5, phig=0.5, maxiter=100, minstep=1e-8, minfunc=1e-8,\n",
        "    #                    debug=False)\n",
        "options = {'c1': 0.5, 'c2': 0.3, 'w':0.9}\n",
        "\n",
        "# Call instance of GlobalBestPSO\n",
        "optimizer = ps.single.GlobalBestPSO(n_particles=10, dimensions=1,\n",
        "                                    options=options)\n",
        "\n",
        "# Perform optimization\n",
        "stats = optimizer.optimize(objective, iters=100)"
      ],
      "metadata": {
        "colab": {
          "base_uri": "https://localhost:8080/",
          "height": 381
        },
        "id": "XaWMqi-4vzCm",
        "outputId": "b43bd1eb-3672-4641-8f44-22a12f4d7cd2"
      },
      "execution_count": null,
      "outputs": [
        {
          "output_type": "stream",
          "name": "stderr",
          "text": [
            "2023-03-15 10:53:36,348 - pyswarms.single.global_best - INFO - Optimize for 100 iters with {'c1': 0.5, 'c2': 0.3, 'w': 0.9}\n",
            "pyswarms.single.global_best:   1%|          |1/100, best_cost=2.26e+4\n"
          ]
        },
        {
          "output_type": "error",
          "ename": "OverflowError",
          "evalue": "ignored",
          "traceback": [
            "\u001b[0;31m---------------------------------------------------------------------------\u001b[0m",
            "\u001b[0;31mOverflowError\u001b[0m                             Traceback (most recent call last)",
            "\u001b[0;32m<ipython-input-69-61230d07bec7>\u001b[0m in \u001b[0;36m<module>\u001b[0;34m\u001b[0m\n\u001b[1;32m      9\u001b[0m \u001b[0;34m\u001b[0m\u001b[0m\n\u001b[1;32m     10\u001b[0m \u001b[0;31m# Perform optimization\u001b[0m\u001b[0;34m\u001b[0m\u001b[0;34m\u001b[0m\u001b[0m\n\u001b[0;32m---> 11\u001b[0;31m \u001b[0mstats\u001b[0m \u001b[0;34m=\u001b[0m \u001b[0moptimizer\u001b[0m\u001b[0;34m.\u001b[0m\u001b[0moptimize\u001b[0m\u001b[0;34m(\u001b[0m\u001b[0mobjective\u001b[0m\u001b[0;34m,\u001b[0m \u001b[0miters\u001b[0m\u001b[0;34m=\u001b[0m\u001b[0;36m100\u001b[0m\u001b[0;34m)\u001b[0m\u001b[0;34m\u001b[0m\u001b[0;34m\u001b[0m\u001b[0m\n\u001b[0m",
            "\u001b[0;32m/usr/local/lib/python3.9/dist-packages/pyswarms/single/global_best.py\u001b[0m in \u001b[0;36moptimize\u001b[0;34m(self, objective_func, iters, n_processes, verbose, **kwargs)\u001b[0m\n\u001b[1;32m    207\u001b[0m             \u001b[0;31m# Compute cost for current position and personal best\u001b[0m\u001b[0;34m\u001b[0m\u001b[0;34m\u001b[0m\u001b[0m\n\u001b[1;32m    208\u001b[0m             \u001b[0;31m# fmt: off\u001b[0m\u001b[0;34m\u001b[0m\u001b[0;34m\u001b[0m\u001b[0m\n\u001b[0;32m--> 209\u001b[0;31m             \u001b[0mself\u001b[0m\u001b[0;34m.\u001b[0m\u001b[0mswarm\u001b[0m\u001b[0;34m.\u001b[0m\u001b[0mcurrent_cost\u001b[0m \u001b[0;34m=\u001b[0m \u001b[0mcompute_objective_function\u001b[0m\u001b[0;34m(\u001b[0m\u001b[0mself\u001b[0m\u001b[0;34m.\u001b[0m\u001b[0mswarm\u001b[0m\u001b[0;34m,\u001b[0m \u001b[0mobjective_func\u001b[0m\u001b[0;34m,\u001b[0m \u001b[0mpool\u001b[0m\u001b[0;34m=\u001b[0m\u001b[0mpool\u001b[0m\u001b[0;34m,\u001b[0m \u001b[0;34m**\u001b[0m\u001b[0mkwargs\u001b[0m\u001b[0;34m)\u001b[0m\u001b[0;34m\u001b[0m\u001b[0;34m\u001b[0m\u001b[0m\n\u001b[0m\u001b[1;32m    210\u001b[0m             \u001b[0mself\u001b[0m\u001b[0;34m.\u001b[0m\u001b[0mswarm\u001b[0m\u001b[0;34m.\u001b[0m\u001b[0mpbest_pos\u001b[0m\u001b[0;34m,\u001b[0m \u001b[0mself\u001b[0m\u001b[0;34m.\u001b[0m\u001b[0mswarm\u001b[0m\u001b[0;34m.\u001b[0m\u001b[0mpbest_cost\u001b[0m \u001b[0;34m=\u001b[0m \u001b[0mcompute_pbest\u001b[0m\u001b[0;34m(\u001b[0m\u001b[0mself\u001b[0m\u001b[0;34m.\u001b[0m\u001b[0mswarm\u001b[0m\u001b[0;34m)\u001b[0m\u001b[0;34m\u001b[0m\u001b[0;34m\u001b[0m\u001b[0m\n\u001b[1;32m    211\u001b[0m             \u001b[0;31m# Set best_cost_yet_found for ftol\u001b[0m\u001b[0;34m\u001b[0m\u001b[0;34m\u001b[0m\u001b[0m\n",
            "\u001b[0;32m/usr/local/lib/python3.9/dist-packages/pyswarms/backend/operators.py\u001b[0m in \u001b[0;36mcompute_objective_function\u001b[0;34m(swarm, objective_func, pool, **kwargs)\u001b[0m\n\u001b[1;32m    237\u001b[0m     \"\"\"\n\u001b[1;32m    238\u001b[0m     \u001b[0;32mif\u001b[0m \u001b[0mpool\u001b[0m \u001b[0;32mis\u001b[0m \u001b[0;32mNone\u001b[0m\u001b[0;34m:\u001b[0m\u001b[0;34m\u001b[0m\u001b[0;34m\u001b[0m\u001b[0m\n\u001b[0;32m--> 239\u001b[0;31m         \u001b[0;32mreturn\u001b[0m \u001b[0mobjective_func\u001b[0m\u001b[0;34m(\u001b[0m\u001b[0mswarm\u001b[0m\u001b[0;34m.\u001b[0m\u001b[0mposition\u001b[0m\u001b[0;34m,\u001b[0m \u001b[0;34m**\u001b[0m\u001b[0mkwargs\u001b[0m\u001b[0;34m)\u001b[0m\u001b[0;34m\u001b[0m\u001b[0;34m\u001b[0m\u001b[0m\n\u001b[0m\u001b[1;32m    240\u001b[0m     \u001b[0;32melse\u001b[0m\u001b[0;34m:\u001b[0m\u001b[0;34m\u001b[0m\u001b[0;34m\u001b[0m\u001b[0m\n\u001b[1;32m    241\u001b[0m         results = pool.map(\n",
            "\u001b[0;32m<ipython-input-68-93dce6a48756>\u001b[0m in \u001b[0;36m<lambda>\u001b[0;34m(betab)\u001b[0m\n\u001b[1;32m     18\u001b[0m \u001b[0mfixed_arg4\u001b[0m \u001b[0;34m=\u001b[0m \u001b[0mzz\u001b[0m\u001b[0;34m\u001b[0m\u001b[0;34m\u001b[0m\u001b[0m\n\u001b[1;32m     19\u001b[0m \u001b[0;34m\u001b[0m\u001b[0m\n\u001b[0;32m---> 20\u001b[0;31m objective = lambda betab: svmodel(betab, fixed_arg1, \n\u001b[0m\u001b[1;32m     21\u001b[0m fixed_arg2, fixed_arg3, fixed_arg4)\n",
            "\u001b[0;32m<ipython-input-56-5108145d64f3>\u001b[0m in \u001b[0;36msvmodel\u001b[0;34m(betab, fixedarg1, fixed_arg2, fixed_arg3, fixed_arg4)\u001b[0m\n\u001b[1;32m     40\u001b[0m     \u001b[0mvmat\u001b[0m \u001b[0;34m=\u001b[0m \u001b[0;34m[\u001b[0m\u001b[0;34m[\u001b[0m\u001b[0;36m1\u001b[0m\u001b[0;34m,\u001b[0m\u001b[0mrho\u001b[0m\u001b[0;34m]\u001b[0m\u001b[0;34m,\u001b[0m\u001b[0;34m[\u001b[0m\u001b[0mrho\u001b[0m\u001b[0;34m,\u001b[0m\u001b[0;36m1\u001b[0m\u001b[0;34m]\u001b[0m\u001b[0;34m]\u001b[0m\u001b[0;34m\u001b[0m\u001b[0;34m\u001b[0m\u001b[0m\n\u001b[1;32m     41\u001b[0m     \u001b[0;32mfor\u001b[0m \u001b[0mi\u001b[0m \u001b[0;32min\u001b[0m \u001b[0mrange\u001b[0m\u001b[0;34m(\u001b[0m\u001b[0;36m1\u001b[0m\u001b[0;34m,\u001b[0m \u001b[0mrr\u001b[0m\u001b[0;34m)\u001b[0m\u001b[0;34m:\u001b[0m\u001b[0;34m\u001b[0m\u001b[0;34m\u001b[0m\u001b[0m\n\u001b[0;32m---> 42\u001b[0;31m         \u001b[0myhat\u001b[0m\u001b[0;34m[\u001b[0m\u001b[0mi\u001b[0m\u001b[0;34m]\u001b[0m \u001b[0;34m=\u001b[0m \u001b[0malpha\u001b[0m \u001b[0;34m+\u001b[0m \u001b[0mbeta\u001b[0m \u001b[0;34m*\u001b[0m \u001b[0myhat\u001b[0m\u001b[0;34m[\u001b[0m\u001b[0mi\u001b[0m\u001b[0;34m-\u001b[0m\u001b[0;36m1\u001b[0m\u001b[0;34m]\u001b[0m \u001b[0;34m+\u001b[0m \u001b[0;34m(\u001b[0m\u001b[0mmath\u001b[0m\u001b[0;34m.\u001b[0m\u001b[0mexp\u001b[0m\u001b[0;34m(\u001b[0m\u001b[0mv\u001b[0m\u001b[0;34m[\u001b[0m\u001b[0mi\u001b[0m \u001b[0;34m-\u001b[0m \u001b[0;36m1\u001b[0m\u001b[0;34m]\u001b[0m\u001b[0;34m)\u001b[0m\u001b[0;34m**\u001b[0m\u001b[0;36m.5\u001b[0m\u001b[0;34m)\u001b[0m \u001b[0;34m*\u001b[0m \u001b[0mzz\u001b[0m\u001b[0;34m[\u001b[0m\u001b[0mi\u001b[0m\u001b[0;34m,\u001b[0m \u001b[0;36m0\u001b[0m\u001b[0;34m]\u001b[0m\u001b[0;34m\u001b[0m\u001b[0;34m\u001b[0m\u001b[0m\n\u001b[0m\u001b[1;32m     43\u001b[0m         \u001b[0mv\u001b[0m\u001b[0;34m[\u001b[0m\u001b[0mi\u001b[0m\u001b[0;34m]\u001b[0m \u001b[0;34m=\u001b[0m   \u001b[0mdelta\u001b[0m  \u001b[0;34m+\u001b[0m \u001b[0mgamma\u001b[0m\u001b[0;34m*\u001b[0m  \u001b[0mv\u001b[0m\u001b[0;34m[\u001b[0m\u001b[0mi\u001b[0m \u001b[0;34m-\u001b[0m \u001b[0;36m1\u001b[0m\u001b[0;34m]\u001b[0m \u001b[0;34m+\u001b[0m \u001b[0msigmav\u001b[0m \u001b[0;34m*\u001b[0m \u001b[0mzz\u001b[0m\u001b[0;34m[\u001b[0m\u001b[0mi\u001b[0m\u001b[0;34m,\u001b[0m \u001b[0;36m1\u001b[0m\u001b[0;34m]\u001b[0m\u001b[0;34m\u001b[0m\u001b[0;34m\u001b[0m\u001b[0m\n\u001b[1;32m     44\u001b[0m \u001b[0;34m\u001b[0m\u001b[0m\n",
            "\u001b[0;31mOverflowError\u001b[0m: math range error"
          ]
        }
      ]
    },
    {
      "cell_type": "code",
      "source": [],
      "metadata": {
        "id": "Qlq_SnaFxQPs"
      },
      "execution_count": null,
      "outputs": []
    }
  ]
}