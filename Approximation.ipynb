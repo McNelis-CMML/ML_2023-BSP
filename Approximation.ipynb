{
 "cells": [
  {
   "cell_type": "code",
   "execution_count": 56,
   "id": "438a42cd",
   "metadata": {},
   "outputs": [],
   "source": [
    "\n",
    "import numpy as np\n",
    "\n",
    "def crazy_function(x):\n",
    "    # Randomly select a mathematical function\n",
    "    #choice = np.random.choice([np.sin, np.cos, np.exp, np.log, np.sqrt])\n",
    "    # Apply the selected function to x\n",
    "    #return choice(x) * np.random.uniform(0.5, 2.0)\n",
    "    fun = np.sin(x)**2 + np.cos(x)**2 + np.tan(x)**2+ np.exp(x) + np.log(x**2)\n",
    "    return fun\n",
    "\n",
    "# Generate random x values\n",
    "\n",
    "mean = 0 # Mean of the normal distribution\n",
    "std_dev = 2 # Standard deviation of the normal distribution\n",
    "x = np.random.normal(mean, std_dev, 10000)\n",
    "y = crazy_function(x) + np.random.normal(0,5,10000)\n",
    "\n"
   ]
  },
  {
   "cell_type": "code",
   "execution_count": 57,
   "id": "30434743",
   "metadata": {},
   "outputs": [
    {
     "data": {
      "image/png": "[encoded data removed]",
      "text/plain": [
       "<Figure size 576x432 with 1 Axes>"
      ]
     },
     "metadata": {
      "needs_background": "light"
     },
     "output_type": "display_data"
    },
    {
     "name": "stdout",
     "output_type": "stream",
     "text": [
      "63/63 [==============================] - 0s 579us/step\n",
      "Neural Network Approximation MSE: 0.0005\n"
     ]
    }
   ],
   "source": [
    "import numpy as np\n",
    "import matplotlib.pyplot as plt\n",
    "\n",
    "import tensorflow as tf\n",
    "from sklearn.model_selection import train_test_split\n",
    "from sklearn.metrics import mean_squared_error\n",
    "\n",
    "\n",
    "\n",
    "\n",
    "\n",
    "x = x[1:]\n",
    "y = y[1:]\n",
    "\n",
    "# Create a plot\n",
    "\n",
    "\n",
    "\n",
    "x_normalized = (x - np.min(x)) / (np.max(x) - np.min(x))\n",
    "y_normalized = (y - np.min(y)) / (np.max(y) - np.min(y))\n",
    "\n",
    "plt.figure(figsize=(8, 6))\n",
    "plt.plot(x_normalized, y_normalized, label='crazy_function')\n",
    "plt.xlabel('x_normalized')\n",
    "plt.ylabel('y_normalized')\n",
    "plt.title('Plot of x vs. y')\n",
    "plt.legend()\n",
    "plt.grid(True)\n",
    "plt.show()\n",
    "\n",
    "\n",
    "# Split the data into training and test sets\n",
    "x_train, x_test, y_train, y_test = train_test_split(x_normalized, y_normalized, test_size=0.2, random_state=42)\n",
    "\n",
    "# Define a simple feedforward neural network model\n",
    "model = tf.keras.Sequential([\n",
    "    tf.keras.layers.Dense(64, activation='sigmoid', input_shape=(1,)),\n",
    "    tf.keras.layers.Dense(64, activation='sigmoid'),\n",
    "    tf.keras.layers.Dense(1)\n",
    "])\n",
    "\n",
    "# Compile the model\n",
    "model.compile(optimizer='adam', loss='mean_squared_error')\n",
    "\n",
    "# Train the neural network\n",
    "model.fit(x_train, y_train, epochs=100, verbose=0)\n",
    "\n",
    "# Make predictions on the test set\n",
    "neural_network_predictions = model.predict(x_test).flatten()\n",
    "\n",
    "# Calculate the Mean Squared Error (MSE)\n",
    "neural_network_mse = mean_squared_error(y_test, neural_network_predictions)\n",
    "\n",
    "# Print the MSE for the neural network\n",
    "print(f'Neural Network Approximation MSE: {neural_network_mse:.4f}')\n"
   ]
  },
  {
   "cell_type": "code",
   "execution_count": 58,
   "id": "36d649db",
   "metadata": {},
   "outputs": [
    {
     "name": "stdout",
     "output_type": "stream",
     "text": [
      "                            OLS Regression Results                            \n",
      "==============================================================================\n",
      "Dep. Variable:                      y   R-squared:                       0.000\n",
      "Model:                            OLS   Adj. R-squared:                  0.000\n",
      "Method:                 Least Squares   F-statistic:                     3.023\n",
      "Date:                Thu, 19 Oct 2023   Prob (F-statistic):             0.0821\n",
      "Time:                        15:26:12   Log-Likelihood:                 31465.\n",
      "No. Observations:                7999   AIC:                        -6.293e+04\n",
      "Df Residuals:                    7997   BIC:                        -6.291e+04\n",
      "Df Model:                           1                                         \n",
      "Covariance Type:            nonrobust                                         \n",
      "==============================================================================\n",
      "                 coef    std err          t      P>|t|      [0.025      0.975]\n",
      "------------------------------------------------------------------------------\n",
      "const          0.0004      0.000      2.185      0.029    4.36e-05       0.001\n",
      "x1            -0.0007      0.000     -1.739      0.082      -0.001     8.3e-05\n",
      "==============================================================================\n",
      "Omnibus:                    27718.037   Durbin-Watson:                   2.002\n",
      "Prob(Omnibus):                  0.000   Jarque-Bera (JB):       7380456689.917\n",
      "Skew:                          65.529   Prob(JB):                         0.00\n",
      "Kurtosis:                    4706.930   Cond. No.                         8.86\n",
      "==============================================================================\n",
      "\n",
      "Notes:\n",
      "[1] Standard Errors assume that the covariance matrix of the errors is correctly specified.\n",
      "OLS Linear Regression MSE on Training Data: 0.0000\n",
      "OLS Linear Regression MSE on Test Data: 0.0005\n"
     ]
    }
   ],
   "source": [
    "import numpy as np\n",
    "import statsmodels.api as sm\n",
    "\n",
    "# Fit an OLS linear regression model using x_train and y_train\n",
    "x_train_with_const = sm.add_constant(x_train)  # Add a constant term for the intercept\n",
    "model = sm.OLS(y_train, x_train_with_const).fit()\n",
    "\n",
    "# Get the predicted values for both x_train and x_test\n",
    "x_test_with_const = sm.add_constant(x_test)  # Add a constant term for the intercept\n",
    "predicted_train = model.predict(x_train_with_const)\n",
    "predicted_test = model.predict(x_test_with_const)\n",
    "\n",
    "# Calculate the MSE for the linear approximation on x_train and x_test\n",
    "mse_train = mean_squared_error(y_train, predicted_train)\n",
    "mse_test = mean_squared_error(y_test, predicted_test)\n",
    "\n",
    "# Print the summary of the OLS regression results\n",
    "print(model.summary())\n",
    "\n",
    "print(f'OLS Linear Regression MSE on Training Data: {mse_train:.4f}')\n",
    "print(f'OLS Linear Regression MSE on Test Data: {mse_test:.4f}')\n"
   ]
  },
  {
   "cell_type": "code",
   "execution_count": 60,
   "id": "0aaac52a",
   "metadata": {},
   "outputs": [
    {
     "name": "stdout",
     "output_type": "stream",
     "text": [
      "Polynomial Approximation MSE: 0.0005\n"
     ]
    }
   ],
   "source": [
    "from numpy.polynomial import Polynomial\n",
    "\n",
    "degree = 5  # Choose the degree of the polynomial\n",
    "coefficients = np.polyfit(x_train, y_train, degree)\n",
    "polynomial_approximation = Polynomial(coefficients)\n",
    "# Evaluate the polynomial at test data points\n",
    "polynomial_interpolated_test = polynomial_approximation(x_test)\n",
    "\n",
    "# Calculate the Mean Squared Error (MSE)\n",
    "mse = mean_squared_error(y_test, polynomial_interpolated_test)\n",
    "print(f'Polynomial Approximation MSE: {mse:.4f}')\n",
    "\n"
   ]
  },
  {
   "cell_type": "code",
   "execution_count": 61,
   "id": "0b334992",
   "metadata": {},
   "outputs": [
    {
     "name": "stdout",
     "output_type": "stream",
     "text": [
      "Legendre Polynomial Approximation MSE: 0.0005\n",
      "Laguerre Polynomial Approximation MSE: 0.0005\n",
      "Hermite Polynomial Approximation MSE: 0.0005\n",
      "Chebyshev Polynomial Approximation MSE: 0.0005\n"
     ]
    }
   ],
   "source": [
    "import numpy as np\n",
    "from scipy.special import hermite, legendre, laguerre, chebyt\n",
    "from sklearn.model_selection import train_test_split\n",
    "from sklearn.metrics import mean_squared_error\n",
    "\n",
    "# Generate random x values and compute the corresponding y values\n",
    "\n",
    "\n",
    "# Legendre polynomial approximation\n",
    "degree = 2  # Choose the degree of the Legendre polynomial\n",
    "legendre_nodes_train = np.linspace(-1, 1, len(x_train))\n",
    "legendre_coefficients = np.polynomial.legendre.legfit(legendre_nodes_train, y_train, degree)\n",
    "legendre_interpolated_train = np.polynomial.legendre.legval(x_train, legendre_coefficients)\n",
    "legendre_interpolated_test = np.polynomial.legendre.legval(x_test, legendre_coefficients)\n",
    "legendre_mse = mean_squared_error(y_test, legendre_interpolated_test)\n",
    "print(f'Legendre Polynomial Approximation MSE: {legendre_mse:.4f}')\n",
    "\n",
    "# Laguerre polynomial approximation\n",
    "degree = 2  # Choose the degree of the Laguerre polynomial\n",
    "laguerre_nodes_train = np.linspace(0, np.max(x_train), len(x_train))\n",
    "laguerre_coefficients = np.polynomial.laguerre.lagfit(laguerre_nodes_train, y_train, degree)\n",
    "laguerre_interpolated_train = np.polynomial.laguerre.lagval(x_train, laguerre_coefficients)\n",
    "laguerre_interpolated_test = np.polynomial.laguerre.lagval(x_test, laguerre_coefficients)\n",
    "laguerre_mse = mean_squared_error(y_test, laguerre_interpolated_test)\n",
    "print(f'Laguerre Polynomial Approximation MSE: {laguerre_mse:.4f}')\n",
    "\n",
    "# Hermite polynomial approximation\n",
    "degree = 4  # Choose the degree of the Hermite polynomial\n",
    "hermite_nodes_train = np.linspace(-1, 1, len(x_train))\n",
    "hermite_coefficients = np.polyfit(hermite_nodes_train, y_train, degree)\n",
    "hermite_interpolated_train = np.polyval(hermite_coefficients, x_train)\n",
    "hermite_interpolated_test = np.polyval(hermite_coefficients, x_test)\n",
    "hermite_mse = mean_squared_error(y_test, hermite_interpolated_test)\n",
    "print(f'Hermite Polynomial Approximation MSE: {hermite_mse:.4f}')\n",
    "\n",
    "# Chebyshev polynomial approximation\n",
    "degree = 5  # Choose the degree of the Chebyshev polynomial\n",
    "chebyshev_nodes_train = np.linspace(-1, 1, len(x_train))\n",
    "chebyshev_coefficients = np.polynomial.chebyshev.chebfit(chebyshev_nodes_train, y_train, degree)\n",
    "chebyshev_interpolated_train = np.polynomial.chebyshev.chebval(x_train, chebyshev_coefficients)\n",
    "chebyshev_interpolated_test = np.polynomial.chebyshev.chebval(x_test, chebyshev_coefficients)\n",
    "chebyshev_mse = mean_squared_error(y_test, chebyshev_interpolated_test)\n",
    "print(f'Chebyshev Polynomial Approximation MSE: {chebyshev_mse:.4f}')\n"
   ]
  },
  {
   "cell_type": "code",
   "execution_count": null,
   "id": "b51f1c3c",
   "metadata": {},
   "outputs": [],
   "source": [
    "import numpy as np\n",
    "import tensorflow as tf\n",
    "from tensorflow import keras\n",
    "from tensorflow.keras import layers\n",
    "\n",
    "model = keras.Sequential([\n",
    "    layers.Input(shape=(1,)),  # Input layer\n",
    "    layers.Dense(3, activation='sigmoid'),  # Hidden layer with 64 units and ReLU activation\n",
    "#    layers.Dense(10, activation='sigmoid'),  # Another hidden layer with 64 units and ReLU activation\n",
    "    layers.Dense(1)  # Output layer\n",
    "])\n",
    "\n",
    "# Compile the model\n",
    "model.compile(optimizer='adam', loss='mean_squared_error')\n",
    "\n",
    "# Train the model\n",
    "model.fit(x_train, y_train, epochs=1000, verbose=0)\n",
    "\n",
    "# Evaluate the model\n",
    "loss = model.evaluate(x_test, y_test, verbose=0)\n",
    "print(f'Mean Squared Error: {loss}')\n",
    "\n",
    "# Generate predictions\n",
    "\n",
    "\n",
    "\n",
    "y_pred = model.predict(x_test)\n",
    "\n",
    "# Plot the results\n",
    "import matplotlib.pyplot as plt\n",
    "\n",
    "plt.figure(figsize=(10, 6))\n",
    "plt.scatter(x, y, label='Actual Data', alpha=0.5)\n",
    "plt.plot(x_test, y_pred, color='red', label='Neural Network Prediction')\n",
    "plt.xlabel('x')\n",
    "plt.ylabel('y')\n",
    "plt.legend()\n",
    "plt.show()\n",
    "\n",
    "\n",
    "\n",
    "\n"
   ]
  },
  {
   "cell_type": "code",
   "execution_count": null,
   "id": "04195396",
   "metadata": {},
   "outputs": [],
   "source": []
  }
 ],
 "metadata": {
  "kernelspec": {
   "display_name": "Python 3 (ipykernel)",
   "language": "python",
   "name": "python3"
  },
  "language_info": {
   "codemirror_mode": {
    "name": "ipython",
    "version": 3
   },
   "file_extension": ".py",
   "mimetype": "text/x-python",
   "name": "python",
   "nbconvert_exporter": "python",
   "pygments_lexer": "ipython3",
   "version": "3.9.7"
  }
 },
 "nbformat": 4,
 "nbformat_minor": 5
}
