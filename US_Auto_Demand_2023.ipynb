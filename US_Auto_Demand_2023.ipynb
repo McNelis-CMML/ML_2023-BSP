{
 "cells": [
  {
   "cell_type": "markdown",
   "metadata": {},
   "source": [
    "$\\textbf{Introduction}$\n",
    "\n",
    "This is a study of automobile demand, as a function of disposable income, US mortage rates and the rate of change of automobile prices.\n",
    "\n",
    "First lets read in the data from the spread sheets.\n",
    "\n",
    "We will do a linear autoregression with variable lags to select the best lag structure.  Then we will compare the linear autogressive model with the neural net specification."
   ]
  },
  {
   "cell_type": "code",
   "execution_count": null,
   "metadata": {},
   "outputs": [],
   "source": [
    "#!pip install --upgrade pandas"
   ]
  },
  {
   "cell_type": "code",
   "execution_count": 1,
   "metadata": {
    "scrolled": true
   },
   "outputs": [],
   "source": [
    "\n",
    "import pandas as pd\n",
    "from datetime import timedelta\n",
    "\n",
    "df1 = pd.read_excel('AutoPrices.xls', header=0, names=['observation_date','CUSR0000SETA01'],\n",
    "                   parse_dates=['observation_date']).iloc[10:]\n",
    "df1.set_index('observation_date', inplace=True)\n",
    "df1.index= pd.to_datetime(df1.index)\n",
    "\n",
    "df2 = pd.read_excel('DAUPSA.xls', header=0, names=['observation_date','DAUPSA'],\n",
    "                   parse_dates=['observation_date']).iloc[10:]\n",
    "df2.set_index('observation_date', inplace=True)\n",
    "df2.index= pd.to_datetime(df2.index)\n",
    "\n",
    "df3 = pd.read_excel('DisposIncome.xls', header=0, names=['observation_date','DSPIC96'],\n",
    "                    parse_dates=['observation_date']).iloc[10:]\n",
    "df3.set_index('observation_date', inplace=True)\n",
    "df3.index= pd.to_datetime(df3.index)\n",
    "\n",
    "\n",
    "\n",
    "df4 = pd.read_excel('MORTGAGE15US.xls', header=0, names=['observation_date','MORTGAGE15US'], \n",
    "                    parse_dates=['observation_date']).iloc[10:]\n",
    "df4.set_index('observation_date', inplace=True)\n",
    "df4.index= pd.to_datetime(df4.index)\n",
    "df4 = df4.resample('M').last()\n",
    "df4.index=df4.index+timedelta(days=1)\n"
   ]
  },
  {
   "cell_type": "code",
   "execution_count": 2,
   "metadata": {},
   "outputs": [
    {
     "data": {
      "text/html": [
       "<div>\n",
       "<style scoped>\n",
       "    .dataframe tbody tr th:only-of-type {\n",
       "        vertical-align: middle;\n",
       "    }\n",
       "\n",
       "    .dataframe tbody tr th {\n",
       "        vertical-align: top;\n",
       "    }\n",
       "\n",
       "    .dataframe thead th {\n",
       "        text-align: right;\n",
       "    }\n",
       "</style>\n",
       "<table border=\"1\" class=\"dataframe\">\n",
       "  <thead>\n",
       "    <tr style=\"text-align: right;\">\n",
       "      <th></th>\n",
       "      <th>CUSR0000SETA01</th>\n",
       "      <th>DAUPSA</th>\n",
       "      <th>DSPIC96</th>\n",
       "      <th>MORTGAGE15US</th>\n",
       "    </tr>\n",
       "    <tr>\n",
       "      <th>observation_date</th>\n",
       "      <th></th>\n",
       "      <th></th>\n",
       "      <th></th>\n",
       "      <th></th>\n",
       "    </tr>\n",
       "  </thead>\n",
       "  <tbody>\n",
       "    <tr>\n",
       "      <th>1993-01-01</th>\n",
       "      <td>130.9</td>\n",
       "      <td>512.9</td>\n",
       "      <td>7237.6</td>\n",
       "      <td>7.68</td>\n",
       "    </tr>\n",
       "    <tr>\n",
       "      <th>1993-02-01</th>\n",
       "      <td>131.1</td>\n",
       "      <td>503.8</td>\n",
       "      <td>7271.8</td>\n",
       "      <td>7.37</td>\n",
       "    </tr>\n",
       "    <tr>\n",
       "      <th>1993-03-01</th>\n",
       "      <td>131.3</td>\n",
       "      <td>498.1</td>\n",
       "      <td>7249.2</td>\n",
       "      <td>7.02</td>\n",
       "    </tr>\n",
       "    <tr>\n",
       "      <th>1993-04-01</th>\n",
       "      <td>131.7</td>\n",
       "      <td>510.2</td>\n",
       "      <td>7286.8</td>\n",
       "      <td>7.01</td>\n",
       "    </tr>\n",
       "    <tr>\n",
       "      <th>1993-05-01</th>\n",
       "      <td>132.2</td>\n",
       "      <td>512.8</td>\n",
       "      <td>7276.3</td>\n",
       "      <td>6.91</td>\n",
       "    </tr>\n",
       "    <tr>\n",
       "      <th>...</th>\n",
       "      <td>...</td>\n",
       "      <td>...</td>\n",
       "      <td>...</td>\n",
       "      <td>...</td>\n",
       "    </tr>\n",
       "    <tr>\n",
       "      <th>2021-05-01</th>\n",
       "      <td>151.693</td>\n",
       "      <td>128.1</td>\n",
       "      <td>15598.1</td>\n",
       "      <td>2.31</td>\n",
       "    </tr>\n",
       "    <tr>\n",
       "      <th>2021-06-01</th>\n",
       "      <td>154.68</td>\n",
       "      <td>120.3</td>\n",
       "      <td>15517.7</td>\n",
       "      <td>2.27</td>\n",
       "    </tr>\n",
       "    <tr>\n",
       "      <th>2021-07-01</th>\n",
       "      <td>157.34</td>\n",
       "      <td>142.2</td>\n",
       "      <td>15617.6</td>\n",
       "      <td>2.34</td>\n",
       "    </tr>\n",
       "    <tr>\n",
       "      <th>2021-08-01</th>\n",
       "      <td>159.267</td>\n",
       "      <td>122.9</td>\n",
       "      <td>15587.5</td>\n",
       "      <td>2.10</td>\n",
       "    </tr>\n",
       "    <tr>\n",
       "      <th>2021-09-01</th>\n",
       "      <td>161.33</td>\n",
       "      <td>84.2</td>\n",
       "      <td>15334.7</td>\n",
       "      <td>2.17</td>\n",
       "    </tr>\n",
       "  </tbody>\n",
       "</table>\n",
       "<p>345 rows × 4 columns</p>\n",
       "</div>"
      ],
      "text/plain": [
       "                 CUSR0000SETA01 DAUPSA  DSPIC96  MORTGAGE15US\n",
       "observation_date                                             \n",
       "1993-01-01                130.9  512.9   7237.6          7.68\n",
       "1993-02-01                131.1  503.8   7271.8          7.37\n",
       "1993-03-01                131.3  498.1   7249.2          7.02\n",
       "1993-04-01                131.7  510.2   7286.8          7.01\n",
       "1993-05-01                132.2  512.8   7276.3          6.91\n",
       "...                         ...    ...      ...           ...\n",
       "2021-05-01              151.693  128.1  15598.1          2.31\n",
       "2021-06-01               154.68  120.3  15517.7          2.27\n",
       "2021-07-01               157.34  142.2  15617.6          2.34\n",
       "2021-08-01              159.267  122.9  15587.5          2.10\n",
       "2021-09-01               161.33   84.2  15334.7          2.17\n",
       "\n",
       "[345 rows x 4 columns]"
      ]
     },
     "execution_count": 2,
     "metadata": {},
     "output_type": "execute_result"
    }
   ],
   "source": [
    "df1_2 = pd.merge(df1, df2, left_index=True, right_index=True)\n",
    "df1_2_3 =pd.merge(df1_2, df3, left_index=True, right_index=True)\n",
    "df =pd.merge(df1_2_3, df4, left_index=True, right_index=True)\n",
    "df"
   ]
  },
  {
   "cell_type": "code",
   "execution_count": 3,
   "metadata": {},
   "outputs": [
    {
     "data": {
      "text/html": [
       "<div>\n",
       "<style scoped>\n",
       "    .dataframe tbody tr th:only-of-type {\n",
       "        vertical-align: middle;\n",
       "    }\n",
       "\n",
       "    .dataframe tbody tr th {\n",
       "        vertical-align: top;\n",
       "    }\n",
       "\n",
       "    .dataframe thead th {\n",
       "        text-align: right;\n",
       "    }\n",
       "</style>\n",
       "<table border=\"1\" class=\"dataframe\">\n",
       "  <thead>\n",
       "    <tr style=\"text-align: right;\">\n",
       "      <th></th>\n",
       "      <th>AutoPrice</th>\n",
       "      <th>AutoProd</th>\n",
       "      <th>DisIncome</th>\n",
       "      <th>MortRate</th>\n",
       "    </tr>\n",
       "    <tr>\n",
       "      <th>observation_date</th>\n",
       "      <th></th>\n",
       "      <th></th>\n",
       "      <th></th>\n",
       "      <th></th>\n",
       "    </tr>\n",
       "  </thead>\n",
       "  <tbody>\n",
       "    <tr>\n",
       "      <th>1993-01-01</th>\n",
       "      <td>130.9</td>\n",
       "      <td>512.9</td>\n",
       "      <td>7237.6</td>\n",
       "      <td>7.68</td>\n",
       "    </tr>\n",
       "    <tr>\n",
       "      <th>1993-02-01</th>\n",
       "      <td>131.1</td>\n",
       "      <td>503.8</td>\n",
       "      <td>7271.8</td>\n",
       "      <td>7.37</td>\n",
       "    </tr>\n",
       "    <tr>\n",
       "      <th>1993-03-01</th>\n",
       "      <td>131.3</td>\n",
       "      <td>498.1</td>\n",
       "      <td>7249.2</td>\n",
       "      <td>7.02</td>\n",
       "    </tr>\n",
       "    <tr>\n",
       "      <th>1993-04-01</th>\n",
       "      <td>131.7</td>\n",
       "      <td>510.2</td>\n",
       "      <td>7286.8</td>\n",
       "      <td>7.01</td>\n",
       "    </tr>\n",
       "    <tr>\n",
       "      <th>1993-05-01</th>\n",
       "      <td>132.2</td>\n",
       "      <td>512.8</td>\n",
       "      <td>7276.3</td>\n",
       "      <td>6.91</td>\n",
       "    </tr>\n",
       "    <tr>\n",
       "      <th>...</th>\n",
       "      <td>...</td>\n",
       "      <td>...</td>\n",
       "      <td>...</td>\n",
       "      <td>...</td>\n",
       "    </tr>\n",
       "    <tr>\n",
       "      <th>2021-05-01</th>\n",
       "      <td>151.693</td>\n",
       "      <td>128.1</td>\n",
       "      <td>15598.1</td>\n",
       "      <td>2.31</td>\n",
       "    </tr>\n",
       "    <tr>\n",
       "      <th>2021-06-01</th>\n",
       "      <td>154.68</td>\n",
       "      <td>120.3</td>\n",
       "      <td>15517.7</td>\n",
       "      <td>2.27</td>\n",
       "    </tr>\n",
       "    <tr>\n",
       "      <th>2021-07-01</th>\n",
       "      <td>157.34</td>\n",
       "      <td>142.2</td>\n",
       "      <td>15617.6</td>\n",
       "      <td>2.34</td>\n",
       "    </tr>\n",
       "    <tr>\n",
       "      <th>2021-08-01</th>\n",
       "      <td>159.267</td>\n",
       "      <td>122.9</td>\n",
       "      <td>15587.5</td>\n",
       "      <td>2.10</td>\n",
       "    </tr>\n",
       "    <tr>\n",
       "      <th>2021-09-01</th>\n",
       "      <td>161.33</td>\n",
       "      <td>84.2</td>\n",
       "      <td>15334.7</td>\n",
       "      <td>2.17</td>\n",
       "    </tr>\n",
       "  </tbody>\n",
       "</table>\n",
       "<p>345 rows × 4 columns</p>\n",
       "</div>"
      ],
      "text/plain": [
       "                 AutoPrice AutoProd DisIncome  MortRate\n",
       "observation_date                                       \n",
       "1993-01-01           130.9    512.9    7237.6      7.68\n",
       "1993-02-01           131.1    503.8    7271.8      7.37\n",
       "1993-03-01           131.3    498.1    7249.2      7.02\n",
       "1993-04-01           131.7    510.2    7286.8      7.01\n",
       "1993-05-01           132.2    512.8    7276.3      6.91\n",
       "...                    ...      ...       ...       ...\n",
       "2021-05-01         151.693    128.1   15598.1      2.31\n",
       "2021-06-01          154.68    120.3   15517.7      2.27\n",
       "2021-07-01          157.34    142.2   15617.6      2.34\n",
       "2021-08-01         159.267    122.9   15587.5      2.10\n",
       "2021-09-01          161.33     84.2   15334.7      2.17\n",
       "\n",
       "[345 rows x 4 columns]"
      ]
     },
     "execution_count": 3,
     "metadata": {},
     "output_type": "execute_result"
    }
   ],
   "source": [
    "df = df.rename({'CUSR0000SETA01':'AutoPrice', 'DAUPSA':'AutoProd','DSPIC96':'DisIncome', 'MORTGAGE15US':'MortRate'}, axis=1)\n",
    "df"
   ]
  },
  {
   "cell_type": "code",
   "execution_count": 4,
   "metadata": {},
   "outputs": [],
   "source": [
    "df = df.astype(dtype={'AutoPrice':float,'AutoProd':float,'DisIncome':float, 'MortRate':float})"
   ]
  },
  {
   "cell_type": "code",
   "execution_count": 5,
   "metadata": {},
   "outputs": [
    {
     "data": {
      "text/html": [
       "<div>\n",
       "<style scoped>\n",
       "    .dataframe tbody tr th:only-of-type {\n",
       "        vertical-align: middle;\n",
       "    }\n",
       "\n",
       "    .dataframe tbody tr th {\n",
       "        vertical-align: top;\n",
       "    }\n",
       "\n",
       "    .dataframe thead th {\n",
       "        text-align: right;\n",
       "    }\n",
       "</style>\n",
       "<table border=\"1\" class=\"dataframe\">\n",
       "  <thead>\n",
       "    <tr style=\"text-align: right;\">\n",
       "      <th></th>\n",
       "      <th>AutoPrice</th>\n",
       "      <th>AutoProd</th>\n",
       "      <th>DisIncome</th>\n",
       "      <th>MortRate</th>\n",
       "    </tr>\n",
       "    <tr>\n",
       "      <th>observation_date</th>\n",
       "      <th></th>\n",
       "      <th></th>\n",
       "      <th></th>\n",
       "      <th></th>\n",
       "    </tr>\n",
       "  </thead>\n",
       "  <tbody>\n",
       "    <tr>\n",
       "      <th>1993-01-01</th>\n",
       "      <td>130.9</td>\n",
       "      <td>512.9</td>\n",
       "      <td>7237.6</td>\n",
       "      <td>7.68</td>\n",
       "    </tr>\n",
       "    <tr>\n",
       "      <th>1993-02-01</th>\n",
       "      <td>131.1</td>\n",
       "      <td>503.8</td>\n",
       "      <td>7271.8</td>\n",
       "      <td>7.37</td>\n",
       "    </tr>\n",
       "    <tr>\n",
       "      <th>1993-03-01</th>\n",
       "      <td>131.3</td>\n",
       "      <td>498.1</td>\n",
       "      <td>7249.2</td>\n",
       "      <td>7.02</td>\n",
       "    </tr>\n",
       "    <tr>\n",
       "      <th>1993-04-01</th>\n",
       "      <td>131.7</td>\n",
       "      <td>510.2</td>\n",
       "      <td>7286.8</td>\n",
       "      <td>7.01</td>\n",
       "    </tr>\n",
       "    <tr>\n",
       "      <th>1993-05-01</th>\n",
       "      <td>132.2</td>\n",
       "      <td>512.8</td>\n",
       "      <td>7276.3</td>\n",
       "      <td>6.91</td>\n",
       "    </tr>\n",
       "    <tr>\n",
       "      <th>1993-06-01</th>\n",
       "      <td>132.3</td>\n",
       "      <td>489.5</td>\n",
       "      <td>7262.9</td>\n",
       "      <td>6.99</td>\n",
       "    </tr>\n",
       "    <tr>\n",
       "      <th>1993-07-01</th>\n",
       "      <td>132.9</td>\n",
       "      <td>468.1</td>\n",
       "      <td>7281.2</td>\n",
       "      <td>6.84</td>\n",
       "    </tr>\n",
       "    <tr>\n",
       "      <th>1993-08-01</th>\n",
       "      <td>133.4</td>\n",
       "      <td>457.1</td>\n",
       "      <td>7291.8</td>\n",
       "      <td>6.75</td>\n",
       "    </tr>\n",
       "    <tr>\n",
       "      <th>1993-09-01</th>\n",
       "      <td>133.6</td>\n",
       "      <td>441.7</td>\n",
       "      <td>7271.9</td>\n",
       "      <td>6.49</td>\n",
       "    </tr>\n",
       "    <tr>\n",
       "      <th>1993-10-01</th>\n",
       "      <td>134.2</td>\n",
       "      <td>502.7</td>\n",
       "      <td>7236.4</td>\n",
       "      <td>6.47</td>\n",
       "    </tr>\n",
       "    <tr>\n",
       "      <th>1993-11-01</th>\n",
       "      <td>134.6</td>\n",
       "      <td>535.5</td>\n",
       "      <td>7256.4</td>\n",
       "      <td>6.40</td>\n",
       "    </tr>\n",
       "    <tr>\n",
       "      <th>1993-12-01</th>\n",
       "      <td>134.9</td>\n",
       "      <td>546.4</td>\n",
       "      <td>7503.7</td>\n",
       "      <td>6.84</td>\n",
       "    </tr>\n",
       "    <tr>\n",
       "      <th>1994-01-01</th>\n",
       "      <td>135.3</td>\n",
       "      <td>576.7</td>\n",
       "      <td>7363.1</td>\n",
       "      <td>6.63</td>\n",
       "    </tr>\n",
       "    <tr>\n",
       "      <th>1994-02-01</th>\n",
       "      <td>135.7</td>\n",
       "      <td>576.1</td>\n",
       "      <td>7377.2</td>\n",
       "      <td>6.47</td>\n",
       "    </tr>\n",
       "    <tr>\n",
       "      <th>1994-03-01</th>\n",
       "      <td>136.1</td>\n",
       "      <td>570.5</td>\n",
       "      <td>7401.7</td>\n",
       "      <td>6.80</td>\n",
       "    </tr>\n",
       "    <tr>\n",
       "      <th>1994-04-01</th>\n",
       "      <td>136.4</td>\n",
       "      <td>543.8</td>\n",
       "      <td>7402.0</td>\n",
       "      <td>7.30</td>\n",
       "    </tr>\n",
       "    <tr>\n",
       "      <th>1994-05-01</th>\n",
       "      <td>137.0</td>\n",
       "      <td>544.9</td>\n",
       "      <td>7487.4</td>\n",
       "      <td>7.85</td>\n",
       "    </tr>\n",
       "    <tr>\n",
       "      <th>1994-06-01</th>\n",
       "      <td>137.5</td>\n",
       "      <td>545.3</td>\n",
       "      <td>7475.5</td>\n",
       "      <td>7.99</td>\n",
       "    </tr>\n",
       "    <tr>\n",
       "      <th>1994-07-01</th>\n",
       "      <td>138.1</td>\n",
       "      <td>540.9</td>\n",
       "      <td>7481.7</td>\n",
       "      <td>8.00</td>\n",
       "    </tr>\n",
       "    <tr>\n",
       "      <th>1994-08-01</th>\n",
       "      <td>138.4</td>\n",
       "      <td>493.1</td>\n",
       "      <td>7490.5</td>\n",
       "      <td>8.09</td>\n",
       "    </tr>\n",
       "  </tbody>\n",
       "</table>\n",
       "</div>"
      ],
      "text/plain": [
       "                  AutoPrice  AutoProd  DisIncome  MortRate\n",
       "observation_date                                          \n",
       "1993-01-01            130.9     512.9     7237.6      7.68\n",
       "1993-02-01            131.1     503.8     7271.8      7.37\n",
       "1993-03-01            131.3     498.1     7249.2      7.02\n",
       "1993-04-01            131.7     510.2     7286.8      7.01\n",
       "1993-05-01            132.2     512.8     7276.3      6.91\n",
       "1993-06-01            132.3     489.5     7262.9      6.99\n",
       "1993-07-01            132.9     468.1     7281.2      6.84\n",
       "1993-08-01            133.4     457.1     7291.8      6.75\n",
       "1993-09-01            133.6     441.7     7271.9      6.49\n",
       "1993-10-01            134.2     502.7     7236.4      6.47\n",
       "1993-11-01            134.6     535.5     7256.4      6.40\n",
       "1993-12-01            134.9     546.4     7503.7      6.84\n",
       "1994-01-01            135.3     576.7     7363.1      6.63\n",
       "1994-02-01            135.7     576.1     7377.2      6.47\n",
       "1994-03-01            136.1     570.5     7401.7      6.80\n",
       "1994-04-01            136.4     543.8     7402.0      7.30\n",
       "1994-05-01            137.0     544.9     7487.4      7.85\n",
       "1994-06-01            137.5     545.3     7475.5      7.99\n",
       "1994-07-01            138.1     540.9     7481.7      8.00\n",
       "1994-08-01            138.4     493.1     7490.5      8.09"
      ]
     },
     "execution_count": 5,
     "metadata": {},
     "output_type": "execute_result"
    }
   ],
   "source": [
    "df.head(20)"
   ]
  },
  {
   "cell_type": "markdown",
   "metadata": {},
   "source": [
    "- lets start from 94\n"
   ]
  },
  {
   "cell_type": "code",
   "execution_count": 6,
   "metadata": {},
   "outputs": [
    {
     "data": {
      "text/plain": [
       "((345, 4), (333, 4), (333, 4))"
      ]
     },
     "execution_count": 6,
     "metadata": {},
     "output_type": "execute_result"
    }
   ],
   "source": [
    "df_cur = df.iloc[12:] # shift one year later\n",
    "df_prev = df.iloc[:-12] \n",
    "df.shape, df_cur.shape, df_prev.shape"
   ]
  },
  {
   "cell_type": "code",
   "execution_count": null,
   "metadata": {},
   "outputs": [],
   "source": []
  },
  {
   "cell_type": "markdown",
   "metadata": {},
   "source": [
    "Now let's pick out the arrays and look at the data, we see the deep drop in Mortgage Rates after 2010"
   ]
  },
  {
   "cell_type": "code",
   "execution_count": 7,
   "metadata": {},
   "outputs": [
    {
     "ename": "ModuleNotFoundError",
     "evalue": "No module named 'matplotlib.artist'",
     "output_type": "error",
     "traceback": [
      "\u001b[1;31m---------------------------------------------------------------------------\u001b[0m",
      "\u001b[1;31mModuleNotFoundError\u001b[0m                       Traceback (most recent call last)",
      "Cell \u001b[1;32mIn[7], line 1\u001b[0m\n\u001b[1;32m----> 1\u001b[0m \u001b[38;5;28;01mimport\u001b[39;00m \u001b[38;5;21;01mmatplotlib\u001b[39;00m\u001b[38;5;21;01m.\u001b[39;00m\u001b[38;5;21;01mpyplot\u001b[39;00m \u001b[38;5;28;01mas\u001b[39;00m \u001b[38;5;21;01mplt\u001b[39;00m\n\u001b[0;32m      2\u001b[0m df\u001b[38;5;241m.\u001b[39mplot(y\u001b[38;5;241m=\u001b[39m\u001b[38;5;124m'\u001b[39m\u001b[38;5;124mMortRate\u001b[39m\u001b[38;5;124m'\u001b[39m)\n\u001b[0;32m      3\u001b[0m plt\u001b[38;5;241m.\u001b[39mgrid(\u001b[38;5;28;01mTrue\u001b[39;00m)\n",
      "File \u001b[1;32m~\\anaconda4\\lib\\site-packages\\matplotlib\\pyplot.py:52\u001b[0m\n\u001b[0;32m     50\u001b[0m \u001b[38;5;28;01mfrom\u001b[39;00m \u001b[38;5;21;01mcycler\u001b[39;00m \u001b[38;5;28;01mimport\u001b[39;00m cycler\n\u001b[0;32m     51\u001b[0m \u001b[38;5;28;01mimport\u001b[39;00m \u001b[38;5;21;01mmatplotlib\u001b[39;00m\n\u001b[1;32m---> 52\u001b[0m \u001b[38;5;28;01mimport\u001b[39;00m \u001b[38;5;21;01mmatplotlib\u001b[39;00m\u001b[38;5;21;01m.\u001b[39;00m\u001b[38;5;21;01mcolorbar\u001b[39;00m\n\u001b[0;32m     53\u001b[0m \u001b[38;5;28;01mimport\u001b[39;00m \u001b[38;5;21;01mmatplotlib\u001b[39;00m\u001b[38;5;21;01m.\u001b[39;00m\u001b[38;5;21;01mimage\u001b[39;00m\n\u001b[0;32m     54\u001b[0m \u001b[38;5;28;01mfrom\u001b[39;00m \u001b[38;5;21;01mmatplotlib\u001b[39;00m \u001b[38;5;28;01mimport\u001b[39;00m _api\n",
      "File \u001b[1;32m~\\anaconda4\\lib\\site-packages\\matplotlib\\colorbar.py:19\u001b[0m\n\u001b[0;32m     16\u001b[0m \u001b[38;5;28;01mimport\u001b[39;00m \u001b[38;5;21;01mnumpy\u001b[39;00m \u001b[38;5;28;01mas\u001b[39;00m \u001b[38;5;21;01mnp\u001b[39;00m\n\u001b[0;32m     18\u001b[0m \u001b[38;5;28;01mimport\u001b[39;00m \u001b[38;5;21;01mmatplotlib\u001b[39;00m \u001b[38;5;28;01mas\u001b[39;00m \u001b[38;5;21;01mmpl\u001b[39;00m\n\u001b[1;32m---> 19\u001b[0m \u001b[38;5;28;01mfrom\u001b[39;00m \u001b[38;5;21;01mmatplotlib\u001b[39;00m \u001b[38;5;28;01mimport\u001b[39;00m _api, cbook, collections, cm, colors, contour, ticker\n\u001b[0;32m     20\u001b[0m \u001b[38;5;28;01mimport\u001b[39;00m \u001b[38;5;21;01mmatplotlib\u001b[39;00m\u001b[38;5;21;01m.\u001b[39;00m\u001b[38;5;21;01martist\u001b[39;00m \u001b[38;5;28;01mas\u001b[39;00m \u001b[38;5;21;01mmartist\u001b[39;00m\n\u001b[0;32m     21\u001b[0m \u001b[38;5;28;01mimport\u001b[39;00m \u001b[38;5;21;01mmatplotlib\u001b[39;00m\u001b[38;5;21;01m.\u001b[39;00m\u001b[38;5;21;01mpatches\u001b[39;00m \u001b[38;5;28;01mas\u001b[39;00m \u001b[38;5;21;01mmpatches\u001b[39;00m\n",
      "File \u001b[1;32m~\\anaconda4\\lib\\site-packages\\matplotlib\\collections.py:20\u001b[0m\n\u001b[0;32m     17\u001b[0m \u001b[38;5;28;01mimport\u001b[39;00m \u001b[38;5;21;01mnumpy\u001b[39;00m \u001b[38;5;28;01mas\u001b[39;00m \u001b[38;5;21;01mnp\u001b[39;00m\n\u001b[0;32m     19\u001b[0m \u001b[38;5;28;01mimport\u001b[39;00m \u001b[38;5;21;01mmatplotlib\u001b[39;00m \u001b[38;5;28;01mas\u001b[39;00m \u001b[38;5;21;01mmpl\u001b[39;00m\n\u001b[1;32m---> 20\u001b[0m \u001b[38;5;28;01mfrom\u001b[39;00m \u001b[38;5;21;01m.\u001b[39;00m \u001b[38;5;28;01mimport\u001b[39;00m (_api, _path, artist, cbook, cm, colors \u001b[38;5;28;01mas\u001b[39;00m mcolors, _docstring,\n\u001b[0;32m     21\u001b[0m                hatch \u001b[38;5;28;01mas\u001b[39;00m mhatch, lines \u001b[38;5;28;01mas\u001b[39;00m mlines, path \u001b[38;5;28;01mas\u001b[39;00m mpath, transforms)\n\u001b[0;32m     22\u001b[0m \u001b[38;5;28;01mfrom\u001b[39;00m \u001b[38;5;21;01m.\u001b[39;00m\u001b[38;5;21;01m_enums\u001b[39;00m \u001b[38;5;28;01mimport\u001b[39;00m JoinStyle, CapStyle\n\u001b[0;32m     25\u001b[0m \u001b[38;5;66;03m# \"color\" is excluded; it is a compound setter, and its docstring differs\u001b[39;00m\n\u001b[0;32m     26\u001b[0m \u001b[38;5;66;03m# in LineCollection.\u001b[39;00m\n",
      "File \u001b[1;32m~\\anaconda4\\lib\\site-packages\\matplotlib\\lines.py:14\u001b[0m\n\u001b[0;32m     12\u001b[0m \u001b[38;5;28;01mimport\u001b[39;00m \u001b[38;5;21;01mmatplotlib\u001b[39;00m \u001b[38;5;28;01mas\u001b[39;00m \u001b[38;5;21;01mmpl\u001b[39;00m\n\u001b[0;32m     13\u001b[0m \u001b[38;5;28;01mfrom\u001b[39;00m \u001b[38;5;21;01m.\u001b[39;00m \u001b[38;5;28;01mimport\u001b[39;00m _api, cbook, colors \u001b[38;5;28;01mas\u001b[39;00m mcolors, _docstring\n\u001b[1;32m---> 14\u001b[0m \u001b[38;5;28;01mfrom\u001b[39;00m \u001b[38;5;21;01m.\u001b[39;00m\u001b[38;5;21;01martist\u001b[39;00m \u001b[38;5;28;01mimport\u001b[39;00m Artist, allow_rasterization\n\u001b[0;32m     15\u001b[0m \u001b[38;5;28;01mfrom\u001b[39;00m \u001b[38;5;21;01m.\u001b[39;00m\u001b[38;5;21;01mcbook\u001b[39;00m \u001b[38;5;28;01mimport\u001b[39;00m (\n\u001b[0;32m     16\u001b[0m     _to_unmasked_float_array, ls_mapper, ls_mapper_r, STEP_LOOKUP_MAP)\n\u001b[0;32m     17\u001b[0m \u001b[38;5;28;01mfrom\u001b[39;00m \u001b[38;5;21;01m.\u001b[39;00m\u001b[38;5;21;01mmarkers\u001b[39;00m \u001b[38;5;28;01mimport\u001b[39;00m MarkerStyle\n",
      "\u001b[1;31mModuleNotFoundError\u001b[0m: No module named 'matplotlib.artist'"
     ]
    }
   ],
   "source": [
    "import matplotlib.pyplot as plt\n",
    "df.plot(y='MortRate')\n",
    "plt.grid(True)"
   ]
  },
  {
   "cell_type": "markdown",
   "metadata": {},
   "source": [
    "## Data Transformation"
   ]
  },
  {
   "cell_type": "code",
   "execution_count": 8,
   "metadata": {},
   "outputs": [
    {
     "name": "stdout",
     "output_type": "stream",
     "text": [
      "(333,)\n",
      "(333,)\n",
      "(333,)\n",
      "(333,)\n"
     ]
    }
   ],
   "source": [
    "import numpy as np\n",
    "df_transformed = pd.DataFrame(columns=df.columns)\n",
    "for col in df.columns:\n",
    "    df_transformed[col] =  np.log(df_cur[col].values) - np.log(df_prev[col].values)\n",
    "    print(df_cur[col].values.shape)\n",
    "df_transformed.index = df_cur.index"
   ]
  },
  {
   "cell_type": "code",
   "execution_count": 9,
   "metadata": {},
   "outputs": [
    {
     "name": "stdout",
     "output_type": "stream",
     "text": [
      "Collecting matplotlib\n",
      "  Using cached matplotlib-3.7.1-cp39-cp39-win_amd64.whl (7.6 MB)\n",
      "Requirement already satisfied: pillow>=6.2.0 in c:\\users\\mcnel\\anaconda4\\lib\\site-packages (from matplotlib) (8.4.0)\n",
      "Requirement already satisfied: importlib-resources>=3.2.0 in c:\\users\\mcnel\\anaconda4\\lib\\site-packages (from matplotlib) (5.12.0)\n",
      "Requirement already satisfied: contourpy>=1.0.1 in c:\\users\\mcnel\\anaconda4\\lib\\site-packages (from matplotlib) (1.0.7)\n",
      "Requirement already satisfied: fonttools>=4.22.0 in c:\\users\\mcnel\\anaconda4\\lib\\site-packages (from matplotlib) (4.25.0)\n",
      "Requirement already satisfied: python-dateutil>=2.7 in c:\\users\\mcnel\\anaconda4\\lib\\site-packages (from matplotlib) (2.8.2)\n",
      "Requirement already satisfied: cycler>=0.10 in c:\\users\\mcnel\\anaconda4\\lib\\site-packages (from matplotlib) (0.10.0)\n",
      "Requirement already satisfied: pyparsing>=2.3.1 in c:\\users\\mcnel\\anaconda4\\lib\\site-packages (from matplotlib) (3.0.4)\n",
      "Requirement already satisfied: kiwisolver>=1.0.1 in c:\\users\\mcnel\\anaconda4\\lib\\site-packages (from matplotlib) (1.3.1)\n",
      "Requirement already satisfied: packaging>=20.0 in c:\\users\\mcnel\\anaconda4\\lib\\site-packages (from matplotlib) (23.0)\n",
      "Requirement already satisfied: numpy>=1.20 in c:\\users\\mcnel\\anaconda4\\lib\\site-packages (from matplotlib) (1.22.1)\n",
      "Requirement already satisfied: six in c:\\users\\mcnel\\anaconda4\\lib\\site-packages (from cycler>=0.10->matplotlib) (1.12.0)\n",
      "Requirement already satisfied: zipp>=3.1.0 in c:\\users\\mcnel\\anaconda4\\lib\\site-packages (from importlib-resources>=3.2.0->matplotlib) (3.6.0)\n",
      "Installing collected packages: matplotlib\n"
     ]
    },
    {
     "name": "stderr",
     "output_type": "stream",
     "text": [
      "WARNING: Ignoring invalid distribution -atplotlib (c:\\users\\mcnel\\anaconda4\\lib\\site-packages)\n",
      "WARNING: Ignoring invalid distribution -atplotlib (c:\\users\\mcnel\\anaconda4\\lib\\site-packages)\n",
      "WARNING: Ignoring invalid distribution -atplotlib (c:\\users\\mcnel\\anaconda4\\lib\\site-packages)\n",
      "ERROR: Could not install packages due to an OSError: [WinError 5] Access is denied: 'C:\\\\Users\\\\mcnel\\\\anaconda4\\\\Lib\\\\site-packages\\\\matplotlib\\\\ft2font.cp39-win_amd64.pyd'\n",
      "Consider using the `--user` option or check the permissions.\n",
      "\n",
      "WARNING: Ignoring invalid distribution -atplotlib (c:\\users\\mcnel\\anaconda4\\lib\\site-packages)\n",
      "WARNING: Ignoring invalid distribution -atplotlib (c:\\users\\mcnel\\anaconda4\\lib\\site-packages)\n",
      "WARNING: Ignoring invalid distribution -atplotlib (c:\\users\\mcnel\\anaconda4\\lib\\site-packages)\n"
     ]
    }
   ],
   "source": [
    "! pip install --upgrade matplotlib"
   ]
  },
  {
   "cell_type": "code",
   "execution_count": 10,
   "metadata": {},
   "outputs": [
    {
     "ename": "ImportError",
     "evalue": "cannot import name 'axes' from 'matplotlib' (C:\\Users\\mcnel\\anaconda4\\lib\\site-packages\\matplotlib\\__init__.py)",
     "output_type": "error",
     "traceback": [
      "\u001b[1;31m---------------------------------------------------------------------------\u001b[0m",
      "\u001b[1;31mImportError\u001b[0m                               Traceback (most recent call last)",
      "Cell \u001b[1;32mIn[10], line 1\u001b[0m\n\u001b[1;32m----> 1\u001b[0m \u001b[38;5;28;01mimport\u001b[39;00m \u001b[38;5;21;01mmatplotlib\u001b[39;00m\u001b[38;5;21;01m.\u001b[39;00m\u001b[38;5;21;01mpyplot\u001b[39;00m \u001b[38;5;28;01mas\u001b[39;00m \u001b[38;5;21;01mplt\u001b[39;00m\n\u001b[0;32m      2\u001b[0m fig,axes \u001b[38;5;241m=\u001b[39m plt\u001b[38;5;241m.\u001b[39msubplots(nrows\u001b[38;5;241m=\u001b[39m\u001b[38;5;241m3\u001b[39m,figsize\u001b[38;5;241m=\u001b[39m(\u001b[38;5;241m10\u001b[39m,\u001b[38;5;241m10\u001b[39m))\n\u001b[0;32m      3\u001b[0m ax \u001b[38;5;241m=\u001b[39m axes[\u001b[38;5;241m0\u001b[39m]\n",
      "File \u001b[1;32m~\\anaconda4\\lib\\site-packages\\matplotlib\\pyplot.py:60\u001b[0m\n\u001b[0;32m     58\u001b[0m \u001b[38;5;28;01mfrom\u001b[39;00m \u001b[38;5;21;01mmatplotlib\u001b[39;00m \u001b[38;5;28;01mimport\u001b[39;00m _docstring\n\u001b[0;32m     59\u001b[0m \u001b[38;5;28;01mfrom\u001b[39;00m \u001b[38;5;21;01mmatplotlib\u001b[39;00m\u001b[38;5;21;01m.\u001b[39;00m\u001b[38;5;21;01mbackend_bases\u001b[39;00m \u001b[38;5;28;01mimport\u001b[39;00m FigureCanvasBase, MouseButton\n\u001b[1;32m---> 60\u001b[0m \u001b[38;5;28;01mfrom\u001b[39;00m \u001b[38;5;21;01mmatplotlib\u001b[39;00m\u001b[38;5;21;01m.\u001b[39;00m\u001b[38;5;21;01mfigure\u001b[39;00m \u001b[38;5;28;01mimport\u001b[39;00m Figure, FigureBase, figaspect\n\u001b[0;32m     61\u001b[0m \u001b[38;5;28;01mfrom\u001b[39;00m \u001b[38;5;21;01mmatplotlib\u001b[39;00m\u001b[38;5;21;01m.\u001b[39;00m\u001b[38;5;21;01mgridspec\u001b[39;00m \u001b[38;5;28;01mimport\u001b[39;00m GridSpec, SubplotSpec\n\u001b[0;32m     62\u001b[0m \u001b[38;5;28;01mfrom\u001b[39;00m \u001b[38;5;21;01mmatplotlib\u001b[39;00m \u001b[38;5;28;01mimport\u001b[39;00m rcParams, rcParamsDefault, get_backend, rcParamsOrig\n",
      "File \u001b[1;32m~\\anaconda4\\lib\\site-packages\\matplotlib\\figure.py:43\u001b[0m\n\u001b[0;32m     40\u001b[0m \u001b[38;5;28;01mimport\u001b[39;00m \u001b[38;5;21;01mnumpy\u001b[39;00m \u001b[38;5;28;01mas\u001b[39;00m \u001b[38;5;21;01mnp\u001b[39;00m\n\u001b[0;32m     42\u001b[0m \u001b[38;5;28;01mimport\u001b[39;00m \u001b[38;5;21;01mmatplotlib\u001b[39;00m \u001b[38;5;28;01mas\u001b[39;00m \u001b[38;5;21;01mmpl\u001b[39;00m\n\u001b[1;32m---> 43\u001b[0m \u001b[38;5;28;01mfrom\u001b[39;00m \u001b[38;5;21;01mmatplotlib\u001b[39;00m \u001b[38;5;28;01mimport\u001b[39;00m _blocking_input, backend_bases, _docstring, projections\n\u001b[0;32m     44\u001b[0m \u001b[38;5;28;01mfrom\u001b[39;00m \u001b[38;5;21;01mmatplotlib\u001b[39;00m\u001b[38;5;21;01m.\u001b[39;00m\u001b[38;5;21;01martist\u001b[39;00m \u001b[38;5;28;01mimport\u001b[39;00m (\n\u001b[0;32m     45\u001b[0m     Artist, allow_rasterization, _finalize_rasterization)\n\u001b[0;32m     46\u001b[0m \u001b[38;5;28;01mfrom\u001b[39;00m \u001b[38;5;21;01mmatplotlib\u001b[39;00m\u001b[38;5;21;01m.\u001b[39;00m\u001b[38;5;21;01mbackend_bases\u001b[39;00m \u001b[38;5;28;01mimport\u001b[39;00m (\n\u001b[0;32m     47\u001b[0m     DrawEvent, FigureCanvasBase, NonGuiException, MouseButton, _get_renderer)\n",
      "File \u001b[1;32m~\\anaconda4\\lib\\site-packages\\matplotlib\\projections\\__init__.py:55\u001b[0m\n\u001b[0;32m      1\u001b[0m \u001b[38;5;124;03m\"\"\"\u001b[39;00m\n\u001b[0;32m      2\u001b[0m \u001b[38;5;124;03mNon-separable transforms that map from data space to screen space.\u001b[39;00m\n\u001b[0;32m      3\u001b[0m \n\u001b[1;32m   (...)\u001b[0m\n\u001b[0;32m     52\u001b[0m \u001b[38;5;124;03m`matplotlib.projections.polar` may also be of interest.\u001b[39;00m\n\u001b[0;32m     53\u001b[0m \u001b[38;5;124;03m\"\"\"\u001b[39;00m\n\u001b[1;32m---> 55\u001b[0m \u001b[38;5;28;01mfrom\u001b[39;00m \u001b[38;5;21;01m.\u001b[39;00m\u001b[38;5;21;01m.\u001b[39;00m \u001b[38;5;28;01mimport\u001b[39;00m axes, _docstring\n\u001b[0;32m     56\u001b[0m \u001b[38;5;28;01mfrom\u001b[39;00m \u001b[38;5;21;01m.\u001b[39;00m\u001b[38;5;21;01mgeo\u001b[39;00m \u001b[38;5;28;01mimport\u001b[39;00m AitoffAxes, HammerAxes, LambertAxes, MollweideAxes\n\u001b[0;32m     57\u001b[0m \u001b[38;5;28;01mfrom\u001b[39;00m \u001b[38;5;21;01m.\u001b[39;00m\u001b[38;5;21;01mpolar\u001b[39;00m \u001b[38;5;28;01mimport\u001b[39;00m PolarAxes\n",
      "\u001b[1;31mImportError\u001b[0m: cannot import name 'axes' from 'matplotlib' (C:\\Users\\mcnel\\anaconda4\\lib\\site-packages\\matplotlib\\__init__.py)"
     ]
    }
   ],
   "source": [
    "import matplotlib.pyplot as plt\n",
    "fig,axes = plt.subplots(nrows=3,figsize=(10,10))\n",
    "ax = axes[0]\n",
    "df_transformed.plot(ax=ax,title='Disposable Income', y='DisIncome')\n",
    "ax.grid(True)\n",
    "\n",
    "ax = axes[1]\n",
    "df_transformed.plot(ax=ax,y='AutoProd', title='Automobile Production')\n",
    "ax.grid(True)\n",
    "\n",
    "ax = axes[2]\n",
    "df_transformed.plot(ax=ax,y='AutoPrice', title='Automobile Prices')\n",
    "ax.grid(True)\n",
    "fig.tight_layout(pad=3.0)"
   ]
  },
  {
   "cell_type": "code",
   "execution_count": 11,
   "metadata": {},
   "outputs": [
    {
     "data": {
      "text/html": [
       "<div>\n",
       "<style scoped>\n",
       "    .dataframe tbody tr th:only-of-type {\n",
       "        vertical-align: middle;\n",
       "    }\n",
       "\n",
       "    .dataframe tbody tr th {\n",
       "        vertical-align: top;\n",
       "    }\n",
       "\n",
       "    .dataframe thead th {\n",
       "        text-align: right;\n",
       "    }\n",
       "</style>\n",
       "<table border=\"1\" class=\"dataframe\">\n",
       "  <thead>\n",
       "    <tr style=\"text-align: right;\">\n",
       "      <th></th>\n",
       "      <th>AutoPrice</th>\n",
       "      <th>AutoProd</th>\n",
       "      <th>DisIncome</th>\n",
       "      <th>MortRate</th>\n",
       "    </tr>\n",
       "    <tr>\n",
       "      <th>observation_date</th>\n",
       "      <th></th>\n",
       "      <th></th>\n",
       "      <th></th>\n",
       "      <th></th>\n",
       "    </tr>\n",
       "  </thead>\n",
       "  <tbody>\n",
       "    <tr>\n",
       "      <th>1995-01-01</th>\n",
       "      <td>0.032718</td>\n",
       "      <td>-0.001736</td>\n",
       "      <td>0.038708</td>\n",
       "      <td>0.284283</td>\n",
       "    </tr>\n",
       "    <tr>\n",
       "      <th>1995-02-01</th>\n",
       "      <td>0.030481</td>\n",
       "      <td>-0.012928</td>\n",
       "      <td>0.038805</td>\n",
       "      <td>0.303020</td>\n",
       "    </tr>\n",
       "    <tr>\n",
       "      <th>1995-03-01</th>\n",
       "      <td>0.028253</td>\n",
       "      <td>0.031404</td>\n",
       "      <td>0.038250</td>\n",
       "      <td>0.204141</td>\n",
       "    </tr>\n",
       "    <tr>\n",
       "      <th>1995-04-01</th>\n",
       "      <td>0.030327</td>\n",
       "      <td>-0.036327</td>\n",
       "      <td>0.030809</td>\n",
       "      <td>0.086555</td>\n",
       "    </tr>\n",
       "    <tr>\n",
       "      <th>1995-05-01</th>\n",
       "      <td>0.028069</td>\n",
       "      <td>-0.065408</td>\n",
       "      <td>0.029413</td>\n",
       "      <td>-0.006390</td>\n",
       "    </tr>\n",
       "    <tr>\n",
       "      <th>...</th>\n",
       "      <td>...</td>\n",
       "      <td>...</td>\n",
       "      <td>...</td>\n",
       "      <td>...</td>\n",
       "    </tr>\n",
       "    <tr>\n",
       "      <th>2021-05-01</th>\n",
       "      <td>0.032890</td>\n",
       "      <td>0.969188</td>\n",
       "      <td>-0.046038</td>\n",
       "      <td>-0.181600</td>\n",
       "    </tr>\n",
       "    <tr>\n",
       "      <th>2021-06-01</th>\n",
       "      <td>0.051273</td>\n",
       "      <td>-0.156641</td>\n",
       "      <td>-0.034182</td>\n",
       "      <td>-0.143394</td>\n",
       "    </tr>\n",
       "    <tr>\n",
       "      <th>2021-07-01</th>\n",
       "      <td>0.061663</td>\n",
       "      <td>-0.418044</td>\n",
       "      <td>-0.033639</td>\n",
       "      <td>-0.101507</td>\n",
       "    </tr>\n",
       "    <tr>\n",
       "      <th>2021-08-01</th>\n",
       "      <td>0.073485</td>\n",
       "      <td>-0.466744</td>\n",
       "      <td>0.002158</td>\n",
       "      <td>-0.178345</td>\n",
       "    </tr>\n",
       "    <tr>\n",
       "      <th>2021-09-01</th>\n",
       "      <td>0.083810</td>\n",
       "      <td>-0.848993</td>\n",
       "      <td>-0.019931</td>\n",
       "      <td>-0.125434</td>\n",
       "    </tr>\n",
       "  </tbody>\n",
       "</table>\n",
       "<p>321 rows × 4 columns</p>\n",
       "</div>"
      ],
      "text/plain": [
       "                  AutoPrice  AutoProd  DisIncome  MortRate\n",
       "observation_date                                          \n",
       "1995-01-01         0.032718 -0.001736   0.038708  0.284283\n",
       "1995-02-01         0.030481 -0.012928   0.038805  0.303020\n",
       "1995-03-01         0.028253  0.031404   0.038250  0.204141\n",
       "1995-04-01         0.030327 -0.036327   0.030809  0.086555\n",
       "1995-05-01         0.028069 -0.065408   0.029413 -0.006390\n",
       "...                     ...       ...        ...       ...\n",
       "2021-05-01         0.032890  0.969188  -0.046038 -0.181600\n",
       "2021-06-01         0.051273 -0.156641  -0.034182 -0.143394\n",
       "2021-07-01         0.061663 -0.418044  -0.033639 -0.101507\n",
       "2021-08-01         0.073485 -0.466744   0.002158 -0.178345\n",
       "2021-09-01         0.083810 -0.848993  -0.019931 -0.125434\n",
       "\n",
       "[321 rows x 4 columns]"
      ]
     },
     "execution_count": 11,
     "metadata": {},
     "output_type": "execute_result"
    }
   ],
   "source": [
    " df_transformed.iloc[12:]"
   ]
  },
  {
   "cell_type": "code",
   "execution_count": 12,
   "metadata": {},
   "outputs": [],
   "source": [
    "y = df_transformed.iloc[12:]['AutoProd']\n",
    "normalized_y=(y-y.min())/(y.max()-y.min()) #[0,1]\n",
    "#y = normalized_y\n",
    "\n",
    "x = df_transformed.iloc[:-12]\n",
    "normalized_x=(x-x.min())/(x.max()-x.min())\n",
    "#x = normalized_y"
   ]
  },
  {
   "cell_type": "code",
   "execution_count": 13,
   "metadata": {},
   "outputs": [
    {
     "data": {
      "text/plain": [
       "321"
      ]
     },
     "execution_count": 13,
     "metadata": {},
     "output_type": "execute_result"
    }
   ],
   "source": [
    "ry = len(y)\n",
    "ry"
   ]
  },
  {
   "cell_type": "markdown",
   "metadata": {},
   "source": [
    "Lets do a split of in and out of sample with ols.  Let 85 percent of the sample be for estimaition and the last for the final test of root mean squared error.  He calculate the Hanan-Quinn information criteria for the insample performance with zero lags."
   ]
  },
  {
   "cell_type": "code",
   "execution_count": 32,
   "metadata": {},
   "outputs": [
    {
     "name": "stdout",
     "output_type": "stream",
     "text": [
      "(273,)\n"
     ]
    },
    {
     "data": {
      "text/plain": [
       "20.545635439557554"
      ]
     },
     "execution_count": 32,
     "metadata": {},
     "output_type": "execute_result"
    }
   ],
   "source": [
    "import math\n",
    "import statsmodels.api as sm\n",
    "nn = math.ceil(.85*len(y))\n",
    "\n",
    "xin = x.iloc[:nn]\n",
    "yin = y.iloc[:nn]\n",
    "\n",
    "xout = x.iloc[nn:]\n",
    "yout = y.iloc[nn:]\n",
    "\n",
    "print(yin.shape)\n",
    "\n",
    "\n",
    "mod = sm.OLS(yin.values, xin.values)\n",
    "res = mod.fit()\n",
    "\n",
    "B  = res.params\n",
    "\n",
    "ehat = res.resid\n",
    "rr = ehat.shape\n",
    "\n",
    "#yhat_in = np.dot(xin, B)\n",
    "#ehat = yin.values - np.squeeze(yhat_in)\n",
    "sse = np.dot(ehat.T, ehat)/nn;\n",
    "hqif =  -2 * np.log(sse) + 2 *len(B)*np.log(np.log(len(xin)))\n",
    "hqif"
   ]
  },
  {
   "cell_type": "code",
   "execution_count": null,
   "metadata": {},
   "outputs": [],
   "source": []
  },
  {
   "cell_type": "code",
   "execution_count": null,
   "metadata": {},
   "outputs": [],
   "source": []
  },
  {
   "cell_type": "code",
   "execution_count": null,
   "metadata": {},
   "outputs": [],
   "source": [
    "sse"
   ]
  },
  {
   "cell_type": "markdown",
   "metadata": {},
   "source": [
    "On the basis of the Hannan-Quinn criterion, we select a lag length of 4.\n",
    "We do the regression for the insample and do the out of sample by multiplying the Bols to the out of sample xout to get \n",
    "the prediction yhat_out.  We calculate the error and the Root mean squared error.  We get the value of .1644."
   ]
  },
  {
   "cell_type": "code",
   "execution_count": 33,
   "metadata": {},
   "outputs": [],
   "source": [
    "x11 = lagmat(xin,maxlag=4, trim=\"forward\", original='in');\n",
    "x11out = lagmat(xout,maxlag=4, trim=\"forward\", original='in');\n",
    "    #print('x11',x11.shape)\n",
    "    \n",
    "y11 = yin.iloc[4:]\n",
    "x21 = x11[4:]\n",
    "Y = y11; X = x21;\n",
    "    \n",
    "Yout = yout[4:]\n",
    "    \n",
    "Xout = x11out[4:]\n",
    "mod = sm.OLS(Y,X)\n",
    "res = mod.fit()\n",
    "\n",
    "B  = res.params\n",
    "\n",
    "Yhat_out = np.dot(Xout,B)\n",
    "\n",
    "error_out_ols = Yhat_out - Yout\n",
    "#error_out = youyhat_out\n",
    "\n"
   ]
  },
  {
   "cell_type": "code",
   "execution_count": 34,
   "metadata": {},
   "outputs": [
    {
     "data": {
      "text/plain": [
       "0.8121230387987857"
      ]
     },
     "execution_count": 34,
     "metadata": {},
     "output_type": "execute_result"
    }
   ],
   "source": [
    "\n",
    "rmse_ols =  (np.dot(error_out_ols.T,error_out_ols)/len(yout))**.5;\n",
    "rmse_ols"
   ]
  },
  {
   "cell_type": "markdown",
   "metadata": {},
   "source": [
    "Now let's do a rolling window regression in which we preduct for one period forward, not for the full last 15 percent of the sample.  After we we revise our models for forecasting period by period.  "
   ]
  },
  {
   "cell_type": "code",
   "execution_count": 35,
   "metadata": {},
   "outputs": [],
   "source": [
    "ny = len(y)\n",
    "WL = 100;\n",
    "TERM = ny - (WL+1)\n",
    "y = np.array(y)\n",
    "x = np.array(x)\n",
    "Yhat_out_rw = np.zeros((ny-WL,1))\n",
    "Error_out_rw = np.zeros((ny-WL,1))"
   ]
  },
  {
   "cell_type": "code",
   "execution_count": 36,
   "metadata": {},
   "outputs": [],
   "source": [
    "\n",
    "\n",
    "\n",
    "for i in range(1,TERM):\n",
    "    WLL = WL+(i-1)\n",
    "    WLLp = WLL +1\n",
    "    yy = y[i:WLL]\n",
    "    xx = x[i:WLL,:]\n",
    "    xjunk = x[WLLp,:]\n",
    "    mod = sm.OLS(yy, xx)\n",
    "    res = mod.fit()\n",
    "    B  = res.params\n",
    "    Yhat_out_rw[i] = np.dot(xjunk,B)\n",
    "    Error_out_rw[i] = y[WLLp] - Yhat_out_rw[i]\n",
    "\n",
    "    \n",
    "    \n",
    "\n"
   ]
  },
  {
   "cell_type": "code",
   "execution_count": 37,
   "metadata": {},
   "outputs": [
    {
     "data": {
      "text/plain": [
       "221"
      ]
     },
     "execution_count": 37,
     "metadata": {},
     "output_type": "execute_result"
    }
   ],
   "source": [
    "re = len(Error_out_rw)\n",
    "re"
   ]
  },
  {
   "cell_type": "markdown",
   "metadata": {},
   "source": [
    "Now lets see if the simple neural network does better out of sample. We feed in the same in and out of sample x and y variables as well as a simple neural net structure"
   ]
  },
  {
   "cell_type": "markdown",
   "metadata": {},
   "source": [
    "hidden_layer_sizes: The number of neurons in each hidden layer, represented as a tuple of integers.\n",
    "activation: The activation function used in the hidden layers, such as 'relu', 'tanh', or 'logistic'.\n",
    "solver: The algorithm used to optimize the weights, such as 'lbfgs', 'sgd', or 'adam'.\n",
    "alpha: The regularization strength, a positive float.\n",
    "batch_size: The number of samples per weight update in SGD training, an integer.\n",
    "learning_rate: The learning rate schedule for weight updates, either 'constant', 'invscaling', or 'adaptive'.\n",
    "learning_rate_init: The initial learning rate used.\n",
    "power_t: The exponent for the inverse scaling learning rate, a float.\n",
    "max_iter: The maximum number of iterations for training, an integer.\n",
    "shuffle: Whether to shuffle samples before each iteration, a boolean.\n",
    "random_state: The seed for the random number generator, an integer."
   ]
  },
  {
   "cell_type": "code",
   "execution_count": null,
   "metadata": {},
   "outputs": [],
   "source": []
  },
  {
   "cell_type": "code",
   "execution_count": 38,
   "metadata": {},
   "outputs": [
    {
     "name": "stdout",
     "output_type": "stream",
     "text": [
      "(44,)\n"
     ]
    },
    {
     "data": {
      "text/plain": [
       "array([0.8483917])"
      ]
     },
     "execution_count": 38,
     "metadata": {},
     "output_type": "execute_result"
    }
   ],
   "source": [
    "#!pip install --upgrade scikit-learn\n",
    "from sklearn.neural_network import MLPRegressor\n",
    "from sklearn.datasets import make_regression\n",
    "from sklearn.model_selection import train_test_split\n",
    "\n",
    "#X, y = make_regression(n_samples=1000, n_features=10, n_informative=5, noise=0.1, random_state=42)\n",
    "\n",
    "X = np.concatenate((np.ones((X.shape[0], 1)), X), axis=1)\n",
    "Xout = np.concatenate((np.ones((Xout.shape[0], 1)), Xout), axis=1)\n",
    "rx, cx = X.shape\n",
    "\n",
    "#regr = MLPRegressor(random_state=0, max_iter=50000, hidden_layer_sizes=(4,), validation_fraction=0.1, 'invscaling',solver='adam').fit(X, Y)\n",
    "\n",
    "regr = MLPRegressor(hidden_layer_sizes=(3*rx,2*rx,rx), max_iter=50000, random_state=0, learning_rate='constant',\n",
    "                    solver='lbfgs', validation_fraction=0.3, activation='tanh', alpha=.25).fit(X, Y)\n",
    "Yhat_out_nn = regr.predict(Xout)\n",
    "\n",
    "print(Yhat_out_nn.shape)\n",
    "error_nn = Yhat_out_nn - Yout\n",
    "rr = error_nn.shape\n",
    "sse_nn = np.dot(error_nn.T,error_nn)\n",
    "rmsq_nn= (sse_nn/rr)**.5\n",
    "rmsq_nn\n",
    "\n"
   ]
  },
  {
   "cell_type": "code",
   "execution_count": 39,
   "metadata": {},
   "outputs": [
    {
     "name": "stdout",
     "output_type": "stream",
     "text": [
      "(44,)\n"
     ]
    },
    {
     "data": {
      "text/plain": [
       "array([0.8483917])"
      ]
     },
     "execution_count": 39,
     "metadata": {},
     "output_type": "execute_result"
    }
   ],
   "source": [
    "regr = MLPRegressor(hidden_layer_sizes=(3*rx,2*rx,rx), max_iter=50000, random_state=0, learning_rate='constant',\n",
    "                    solver='lbfgs', validation_fraction=0.3, activation='tanh', alpha=.25).fit(X, Y)\n",
    "Yhat_out_nn = regr.predict(Xout)\n",
    "\n",
    "print(Yhat_out_nn.shape)\n",
    "error_nn = Yhat_out_nn - Yout\n",
    "sse_nn = np.dot(error_nn.T,error_nn)/rr\n",
    "rmsq_nn= sse_nn**.5\n",
    "rmsq_nn\n"
   ]
  },
  {
   "cell_type": "code",
   "execution_count": 40,
   "metadata": {},
   "outputs": [
    {
     "name": "stdout",
     "output_type": "stream",
     "text": [
      "(44,)\n"
     ]
    },
    {
     "data": {
      "text/plain": [
       "array([1.0028008])"
      ]
     },
     "execution_count": 40,
     "metadata": {},
     "output_type": "execute_result"
    }
   ],
   "source": [
    "regr = MLPRegressor(hidden_layer_sizes=(3*rx,2*rx,rx), max_iter=50000, random_state=0, learning_rate='constant',\n",
    "                    solver='lbfgs', validation_fraction=0.1, activation='tanh', alpha=.5).fit(X, Y)\n",
    "Yhat_out_nn = regr.predict(Xout)\n",
    "\n",
    "print(Yhat_out_nn.shape)\n",
    "error_nn = Yhat_out_nn - Yout\n",
    "sse_nn = np.dot(error_nn.T,error_nn)/rr\n",
    "rmsq_nn= sse_nn**(.5)\n",
    "rmsq_nn\n"
   ]
  },
  {
   "cell_type": "code",
   "execution_count": 41,
   "metadata": {},
   "outputs": [
    {
     "name": "stdout",
     "output_type": "stream",
     "text": [
      "(44,)\n"
     ]
    },
    {
     "data": {
      "text/plain": [
       "array([0.82984092])"
      ]
     },
     "execution_count": 41,
     "metadata": {},
     "output_type": "execute_result"
    }
   ],
   "source": [
    "regr = MLPRegressor(hidden_layer_sizes=(3*rx,2*rx,rx), max_iter=50000, random_state=0, learning_rate='constant',\n",
    "                    solver='lbfgs', validation_fraction=0.2, activation='tanh', alpha=.15).fit(X, Y)\n",
    "Yhat_out_nn = regr.predict(Xout)\n",
    "\n",
    "print(Yhat_out_nn.shape)\n",
    "error_nn = Yhat_out_nn - Yout\n",
    "sse_nn = np.dot(error_nn.T,error_nn)/rr\n",
    "rmsq_nn= sse_nn**(.5)\n",
    "rmsq_nn"
   ]
  },
  {
   "cell_type": "code",
   "execution_count": null,
   "metadata": {},
   "outputs": [],
   "source": [
    "import tensorflow as tf\n",
    "\n",
    "def create_mlp_model(input_dim, l1_reg):\n",
    "    model = tf.keras.models.Sequential()\n",
    "    model.add(tf.keras.layers.Dense(3*rx, input_dim=input_dim, activation='tanh',\n",
    "                                    kernel_regularizer=tf.keras.regularizers.l1(l1_reg)))\n",
    "    model.add(tf.keras.layers.Dense(2*rx, activation='tanh',\n",
    "                                    kernel_regularizer=tf.keras.regularizers.l1(l1_reg)))\n",
    "    model.add(tf.keras.layers.Dense(rx, activation='tanh',\n",
    "                                    kernel_regularizer=tf.keras.regularizers.l1(l1_reg)))\n",
    "    model.add(tf.keras.layers.Dense(1))\n",
    "    return model\n",
    "\n",
    "input_dim = X.shape[1]\n",
    "mlp = create_mlp_model(input_dim, l1_reg=0.2)\n",
    "mlp.compile(optimizer='Adam', loss='mean_squared_error')\n",
    "\n",
    "history = mlp.fit(X, Y, epochs=1000, batch_size=32, validation_data=(Xout, Yout))\n"
   ]
  },
  {
   "cell_type": "code",
   "execution_count": null,
   "metadata": {},
   "outputs": [],
   "source": [
    "history"
   ]
  },
  {
   "cell_type": "code",
   "execution_count": null,
   "metadata": {},
   "outputs": [],
   "source": [
    "Yhat_out= mlp.predict(Xout)\n",
    "\n",
    "Yhat_out = Yhat_out.ravel()\n",
    "Yout = np.array(Yout)\n",
    "\n",
    "\n",
    "ERROR = Yout - Yhat_out\n"
   ]
  },
  {
   "cell_type": "code",
   "execution_count": null,
   "metadata": {},
   "outputs": [],
   "source": [
    "rr = ERROR.shape\n",
    "RMSQ =   (np.dot(ERROR.T,ERROR)/rr)**.5"
   ]
  },
  {
   "cell_type": "code",
   "execution_count": null,
   "metadata": {},
   "outputs": [],
   "source": [
    "RMSQ = (np.dot(ERROR.T,ERROR)/rr)**.5\n",
    "RMSQ"
   ]
  },
  {
   "cell_type": "code",
   "execution_count": null,
   "metadata": {},
   "outputs": [],
   "source": [
    "rmse_ols"
   ]
  },
  {
   "cell_type": "code",
   "execution_count": null,
   "metadata": {},
   "outputs": [],
   "source": []
  },
  {
   "cell_type": "code",
   "execution_count": null,
   "metadata": {},
   "outputs": [],
   "source": [
    "\n",
    "error_out_ols\n",
    "ERROR\n"
   ]
  },
  {
   "cell_type": "code",
   "execution_count": null,
   "metadata": {},
   "outputs": [],
   "source": [
    "import pandas as pd\n",
    "\n",
    "# Assuming matrix1 has a date index and matrix2 does not\n",
    "\n",
    "\n",
    "\n",
    "# Convert matrix2 into a DataFrame with the same index as matrix1\n",
    "ERROR1 = pd.DataFrame(ERROR, index=error_out_ols.index)\n",
    "\n",
    "# Concatenate the two matrices\n",
    "ERRORboth = pd.concat([error_out_ols, ERROR1], axis=1)\n",
    "ERRORboth.columns =['ERRORols', 'ERRORnn']\n"
   ]
  },
  {
   "cell_type": "code",
   "execution_count": null,
   "metadata": {},
   "outputs": [],
   "source": [
    "\n",
    "ERRORboth.plot(y=['ERRORols', 'ERRORnn'],kind='line')\n",
    "plt.grid(True)"
   ]
  },
  {
   "cell_type": "code",
   "execution_count": null,
   "metadata": {},
   "outputs": [],
   "source": [
    "ERRORboth.plot\n",
    "plt.show()"
   ]
  },
  {
   "cell_type": "code",
   "execution_count": null,
   "metadata": {},
   "outputs": [],
   "source": []
  }
 ],
 "metadata": {
  "kernelspec": {
   "display_name": "Python 3 (ipykernel)",
   "language": "python",
   "name": "python3"
  },
  "language_info": {
   "codemirror_mode": {
    "name": "ipython",
    "version": 3
   },
   "file_extension": ".py",
   "mimetype": "text/x-python",
   "name": "python",
   "nbconvert_exporter": "python",
   "pygments_lexer": "ipython3",
   "version": "3.9.7"
  }
 },
 "nbformat": 4,
 "nbformat_minor": 4
}
