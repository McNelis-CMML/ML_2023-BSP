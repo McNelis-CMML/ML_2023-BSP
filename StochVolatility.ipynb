{
 "cells": [
  {
   "cell_type": "markdown",
   "metadata": {},
   "source": [
    "$\\textbf{Introduction}$\n",
    "\n",
    "This is an extercise in extimation of both conditional volatility models as well as stochastic volatility models with optimation methods from Machine Learning."
   ]
  },
  {
   "cell_type": "code",
   "execution_count": 48,
   "metadata": {
    "colab": {
     "base_uri": "https://localhost:8080/"
    },
    "id": "qvK_aDHEUXoA",
    "outputId": "0a281f5a-415e-429c-82cb-721395e652e2"
   },
   "outputs": [],
   "source": [
    "#!pip install virtualenv---best to install on the command c\n",
    "#!virtualenv myenv\n",
    "#!source myenv/bin/activate\n",
    "#!pip install pandas_datareader"
   ]
  },
  {
   "cell_type": "code",
   "execution_count": 1,
   "metadata": {
    "id": "2QTZrEdiVLI6"
   },
   "outputs": [],
   "source": [
    "import numpy as np\n",
    "import pandas as pd\n",
    "import pandas_datareader.data as web"
   ]
  },
  {
   "cell_type": "code",
   "execution_count": 2,
   "metadata": {
    "id": "y_PqcSMcU-1F"
   },
   "outputs": [
    {
     "data": {
      "text/html": [
       "<div>\n",
       "<style scoped>\n",
       "    .dataframe tbody tr th:only-of-type {\n",
       "        vertical-align: middle;\n",
       "    }\n",
       "\n",
       "    .dataframe tbody tr th {\n",
       "        vertical-align: top;\n",
       "    }\n",
       "\n",
       "    .dataframe thead th {\n",
       "        text-align: right;\n",
       "    }\n",
       "</style>\n",
       "<table border=\"1\" class=\"dataframe\">\n",
       "  <thead>\n",
       "    <tr style=\"text-align: right;\">\n",
       "      <th></th>\n",
       "      <th>DEXUSEU</th>\n",
       "    </tr>\n",
       "    <tr>\n",
       "      <th>DATE</th>\n",
       "      <th></th>\n",
       "    </tr>\n",
       "  </thead>\n",
       "  <tbody>\n",
       "    <tr>\n",
       "      <th>2000-07-03</th>\n",
       "      <td>0.9526</td>\n",
       "    </tr>\n",
       "    <tr>\n",
       "      <th>2000-07-04</th>\n",
       "      <td>NaN</td>\n",
       "    </tr>\n",
       "    <tr>\n",
       "      <th>2000-07-05</th>\n",
       "      <td>0.9548</td>\n",
       "    </tr>\n",
       "    <tr>\n",
       "      <th>2000-07-06</th>\n",
       "      <td>0.9527</td>\n",
       "    </tr>\n",
       "    <tr>\n",
       "      <th>2000-07-07</th>\n",
       "      <td>0.9484</td>\n",
       "    </tr>\n",
       "  </tbody>\n",
       "</table>\n",
       "</div>"
      ],
      "text/plain": [
       "            DEXUSEU\n",
       "DATE               \n",
       "2000-07-03   0.9526\n",
       "2000-07-04      NaN\n",
       "2000-07-05   0.9548\n",
       "2000-07-06   0.9527\n",
       "2000-07-07   0.9484"
      ]
     },
     "execution_count": 2,
     "metadata": {},
     "output_type": "execute_result"
    }
   ],
   "source": [
    "start = '2000-07-01'\n",
    "end = '2023-03-10'\n",
    "\n",
    "\n",
    "TAB1 = web.DataReader('DEXUSEU', 'fred', start, end)\n",
    "TAB1.head()\n",
    "\n"
   ]
  },
  {
   "cell_type": "code",
   "execution_count": 3,
   "metadata": {
    "colab": {
     "base_uri": "https://localhost:8080/",
     "height": 423
    },
    "id": "p3eG_DBlzgYz",
    "outputId": "4838ccfe-f8d2-4142-f8f7-cae620bcd61e"
   },
   "outputs": [
    {
     "data": {
      "text/html": [
       "<div>\n",
       "<style scoped>\n",
       "    .dataframe tbody tr th:only-of-type {\n",
       "        vertical-align: middle;\n",
       "    }\n",
       "\n",
       "    .dataframe tbody tr th {\n",
       "        vertical-align: top;\n",
       "    }\n",
       "\n",
       "    .dataframe thead th {\n",
       "        text-align: right;\n",
       "    }\n",
       "</style>\n",
       "<table border=\"1\" class=\"dataframe\">\n",
       "  <thead>\n",
       "    <tr style=\"text-align: right;\">\n",
       "      <th></th>\n",
       "      <th>DEXUSEU</th>\n",
       "    </tr>\n",
       "    <tr>\n",
       "      <th>DATE</th>\n",
       "      <th></th>\n",
       "    </tr>\n",
       "  </thead>\n",
       "  <tbody>\n",
       "    <tr>\n",
       "      <th>2000-07-03</th>\n",
       "      <td>0.9526</td>\n",
       "    </tr>\n",
       "    <tr>\n",
       "      <th>2000-07-04</th>\n",
       "      <td>0.9537</td>\n",
       "    </tr>\n",
       "    <tr>\n",
       "      <th>2000-07-05</th>\n",
       "      <td>0.9548</td>\n",
       "    </tr>\n",
       "    <tr>\n",
       "      <th>2000-07-06</th>\n",
       "      <td>0.9527</td>\n",
       "    </tr>\n",
       "    <tr>\n",
       "      <th>2000-07-07</th>\n",
       "      <td>0.9484</td>\n",
       "    </tr>\n",
       "    <tr>\n",
       "      <th>...</th>\n",
       "      <td>...</td>\n",
       "    </tr>\n",
       "    <tr>\n",
       "      <th>2023-03-06</th>\n",
       "      <td>1.0694</td>\n",
       "    </tr>\n",
       "    <tr>\n",
       "      <th>2023-03-07</th>\n",
       "      <td>1.0573</td>\n",
       "    </tr>\n",
       "    <tr>\n",
       "      <th>2023-03-08</th>\n",
       "      <td>1.0549</td>\n",
       "    </tr>\n",
       "    <tr>\n",
       "      <th>2023-03-09</th>\n",
       "      <td>1.0577</td>\n",
       "    </tr>\n",
       "    <tr>\n",
       "      <th>2023-03-10</th>\n",
       "      <td>1.0659</td>\n",
       "    </tr>\n",
       "  </tbody>\n",
       "</table>\n",
       "<p>5920 rows × 1 columns</p>\n",
       "</div>"
      ],
      "text/plain": [
       "            DEXUSEU\n",
       "DATE               \n",
       "2000-07-03   0.9526\n",
       "2000-07-04   0.9537\n",
       "2000-07-05   0.9548\n",
       "2000-07-06   0.9527\n",
       "2000-07-07   0.9484\n",
       "...             ...\n",
       "2023-03-06   1.0694\n",
       "2023-03-07   1.0573\n",
       "2023-03-08   1.0549\n",
       "2023-03-09   1.0577\n",
       "2023-03-10   1.0659\n",
       "\n",
       "[5920 rows x 1 columns]"
      ]
     },
     "execution_count": 3,
     "metadata": {},
     "output_type": "execute_result"
    }
   ],
   "source": [
    "TAB1.interpolate()"
   ]
  },
  {
   "cell_type": "code",
   "execution_count": 4,
   "metadata": {
    "id": "gqPziSmlzSb9"
   },
   "outputs": [],
   "source": [
    "date1 = TAB1.index\n",
    "EURUS = TAB1.iloc[:,0]\n",
    "date2 = date1[1:,]"
   ]
  },
  {
   "cell_type": "code",
   "execution_count": null,
   "metadata": {
    "id": "xKaEnfNwUs_G"
   },
   "outputs": [],
   "source": [
    "\n",
    "\n",
    "\n"
   ]
  },
  {
   "cell_type": "code",
   "execution_count": 6,
   "metadata": {
    "colab": {
     "base_uri": "https://localhost:8080/",
     "height": 282
    },
    "id": "9GMB3yVmzQ2s",
    "outputId": "8a390ea7-5241-40a6-f3fa-57c775ccfedd"
   },
   "outputs": [
    {
     "data": {
      "text/plain": [
       "[<matplotlib.lines.Line2D at 0x165c2712190>]"
      ]
     },
     "execution_count": 6,
     "metadata": {},
     "output_type": "execute_result"
    },
    {
     "data": {
      "image/png": "[encoded data removed]",
      "text/plain": [
       "<Figure size 432x288 with 1 Axes>"
      ]
     },
     "metadata": {
      "needs_background": "light"
     },
     "output_type": "display_data"
    }
   ],
   "source": [
    "#! pip install matplotlib\n",
    "import matplotlib.pyplot as plt\n",
    "\n",
    "plt.plot(date1, EURUS)"
   ]
  },
  {
   "cell_type": "code",
   "execution_count": 7,
   "metadata": {
    "id": "FdL_Z_4mzyw3"
   },
   "outputs": [],
   "source": [
    "date2 = date1[1:]\n",
    "EURUSdiff = np.diff(np.log(EURUS))"
   ]
  },
  {
   "cell_type": "code",
   "execution_count": 8,
   "metadata": {
    "colab": {
     "base_uri": "https://localhost:8080/",
     "height": 282
    },
    "id": "fh9ALIEk0DCK",
    "outputId": "3dc027fb-e1eb-4ed4-f5e1-7cf8839f7401"
   },
   "outputs": [
    {
     "data": {
      "text/plain": [
       "[<matplotlib.lines.Line2D at 0x165c676f670>]"
      ]
     },
     "execution_count": 8,
     "metadata": {},
     "output_type": "execute_result"
    },
    {
     "data": {
      "image/png": "[encoded data removed]",
      "text/plain": [
       "<Figure size 432x288 with 1 Axes>"
      ]
     },
     "metadata": {
      "needs_background": "light"
     },
     "output_type": "display_data"
    }
   ],
   "source": [
    "plt.plot(date2, EURUSdiff)"
   ]
  },
  {
   "cell_type": "markdown",
   "metadata": {},
   "source": [
    "A $\\underline{kernel}$  is a $\\underline{non-negative}$  real-valued integrable weighting function K for a random variable u.\n",
    "\n",
    "For most applications, it is desirable to define the function to satisfy two additional requirements, namely, \n",
    "\n",
    "$\\int_{-\\infty}^{\\infty}K(u)du = 1$\n",
    "\n",
    "K(-u) = K(u), $\\forall{u}$\n",
    "\n",
    "The two most commonly kernel functions for a random variable u are the Gaussian and the Epinechnikov kernels:\n",
    "\n",
    "$k_g(u)$ = $\\frac{1}{\\sqrt{2 \\pi}} \\exp^{-.5u^2}$\n",
    "\n",
    "$k_e(u)$ = $\\frac{3}{4}u^2$, $\\forall{u},\\ |{u}|\\leq 1$"
   ]
  },
  {
   "cell_type": "code",
   "execution_count": 9,
   "metadata": {
    "colab": {
     "base_uri": "https://localhost:8080/",
     "height": 1000
    },
    "id": "CwzlKsZM0HEK",
    "outputId": "aa024a5f-de98-43ae-b29f-d816eef7ffdf"
   },
   "outputs": [
    {
     "data": {
      "text/plain": [
       "(array([  1.,   0.,   0.,   0.,   0.,   0.,   0.,   0.,   2.,   0.,   0.,\n",
       "          0.,   0.,   0.,   0.,   0.,   0.,   0.,   0.,   1.,   0.,   2.,\n",
       "          0.,   2.,   1.,   3.,   1.,   2.,   1.,   3.,   3.,   2.,   5.,\n",
       "          2.,   1.,   6.,   6.,   5.,   7.,   6.,  11.,   7.,   9.,  10.,\n",
       "         11.,   8.,  18.,  18.,  22.,  25.,  19.,  20.,  20.,  23.,  30.,\n",
       "         30.,  32.,  44.,  36.,  44.,  44.,  54.,  82.,  68.,  69.,  66.,\n",
       "        115.,  99.,  90.,  99., 116., 132., 158., 156., 155., 160., 185.,\n",
       "        213., 198., 190., 173., 187., 157., 164., 129., 154., 144., 119.,\n",
       "        112., 108.,  88.,  85.,  79.,  76.,  65.,  57.,  71.,  54.,  42.,\n",
       "         46.,  40.,  37.,  32.,  31.,  21.,  22.,  29.,  29.,  18.,  13.,\n",
       "         12.,  13.,   9.,   9.,  11.,  14.,   3.,   6.,   3.,   4.,   4.,\n",
       "          5.,   3.,   2.,   5.,   2.,   1.,   1.,   1.,   1.,   3.,   2.,\n",
       "          1.,   0.,   1.,   2.,   0.,   2.,   0.,   1.,   1.,   1.,   0.,\n",
       "          0.,   0.,   0.,   0.,   0.,   0.,   1.,   0.,   0.,   1.,   0.,\n",
       "          0.,   0.,   1.,   0.,   0.,   1.,   0.,   0.,   0.,   0.,   0.,\n",
       "          0.,   0.,   0.,   0.,   0.,   0.,   0.,   0.,   0.,   0.,   0.,\n",
       "          0.,   0.,   0.,   0.,   1.,   0.,   0.,   0.,   0.,   0.,   0.,\n",
       "          0.,   0.,   0.,   0.,   0.,   0.,   0.,   0.,   0.,   0.,   0.,\n",
       "          0.,   1.]),\n",
       " array([-3.00310077e-02, -2.96498131e-02, -2.92686184e-02, -2.88874238e-02,\n",
       "        -2.85062291e-02, -2.81250345e-02, -2.77438398e-02, -2.73626452e-02,\n",
       "        -2.69814505e-02, -2.66002559e-02, -2.62190612e-02, -2.58378666e-02,\n",
       "        -2.54566719e-02, -2.50754773e-02, -2.46942826e-02, -2.43130880e-02,\n",
       "        -2.39318933e-02, -2.35506987e-02, -2.31695040e-02, -2.27883094e-02,\n",
       "        -2.24071147e-02, -2.20259201e-02, -2.16447254e-02, -2.12635308e-02,\n",
       "        -2.08823361e-02, -2.05011415e-02, -2.01199468e-02, -1.97387522e-02,\n",
       "        -1.93575576e-02, -1.89763629e-02, -1.85951683e-02, -1.82139736e-02,\n",
       "        -1.78327790e-02, -1.74515843e-02, -1.70703897e-02, -1.66891950e-02,\n",
       "        -1.63080004e-02, -1.59268057e-02, -1.55456111e-02, -1.51644164e-02,\n",
       "        -1.47832218e-02, -1.44020271e-02, -1.40208325e-02, -1.36396378e-02,\n",
       "        -1.32584432e-02, -1.28772485e-02, -1.24960539e-02, -1.21148592e-02,\n",
       "        -1.17336646e-02, -1.13524699e-02, -1.09712753e-02, -1.05900806e-02,\n",
       "        -1.02088860e-02, -9.82769134e-03, -9.44649669e-03, -9.06530204e-03,\n",
       "        -8.68410739e-03, -8.30291274e-03, -7.92171809e-03, -7.54052345e-03,\n",
       "        -7.15932880e-03, -6.77813415e-03, -6.39693950e-03, -6.01574485e-03,\n",
       "        -5.63455020e-03, -5.25335555e-03, -4.87216091e-03, -4.49096626e-03,\n",
       "        -4.10977161e-03, -3.72857696e-03, -3.34738231e-03, -2.96618766e-03,\n",
       "        -2.58499301e-03, -2.20379837e-03, -1.82260372e-03, -1.44140907e-03,\n",
       "        -1.06021442e-03, -6.79019771e-04, -2.97825123e-04,  8.33695258e-05,\n",
       "         4.64564174e-04,  8.45758823e-04,  1.22695347e-03,  1.60814812e-03,\n",
       "         1.98934277e-03,  2.37053742e-03,  2.75173207e-03,  3.13292671e-03,\n",
       "         3.51412136e-03,  3.89531601e-03,  4.27651066e-03,  4.65770531e-03,\n",
       "         5.03889996e-03,  5.42009461e-03,  5.80128925e-03,  6.18248390e-03,\n",
       "         6.56367855e-03,  6.94487320e-03,  7.32606785e-03,  7.70726250e-03,\n",
       "         8.08845715e-03,  8.46965179e-03,  8.85084644e-03,  9.23204109e-03,\n",
       "         9.61323574e-03,  9.99443039e-03,  1.03756250e-02,  1.07568197e-02,\n",
       "         1.11380143e-02,  1.15192090e-02,  1.19004036e-02,  1.22815983e-02,\n",
       "         1.26627929e-02,  1.30439876e-02,  1.34251822e-02,  1.38063769e-02,\n",
       "         1.41875715e-02,  1.45687662e-02,  1.49499608e-02,  1.53311555e-02,\n",
       "         1.57123501e-02,  1.60935448e-02,  1.64747394e-02,  1.68559341e-02,\n",
       "         1.72371287e-02,  1.76183234e-02,  1.79995180e-02,  1.83807127e-02,\n",
       "         1.87619073e-02,  1.91431020e-02,  1.95242966e-02,  1.99054913e-02,\n",
       "         2.02866859e-02,  2.06678805e-02,  2.10490752e-02,  2.14302698e-02,\n",
       "         2.18114645e-02,  2.21926591e-02,  2.25738538e-02,  2.29550484e-02,\n",
       "         2.33362431e-02,  2.37174377e-02,  2.40986324e-02,  2.44798270e-02,\n",
       "         2.48610217e-02,  2.52422163e-02,  2.56234110e-02,  2.60046056e-02,\n",
       "         2.63858003e-02,  2.67669949e-02,  2.71481896e-02,  2.75293842e-02,\n",
       "         2.79105789e-02,  2.82917735e-02,  2.86729682e-02,  2.90541628e-02,\n",
       "         2.94353575e-02,  2.98165521e-02,  3.01977468e-02,  3.05789414e-02,\n",
       "         3.09601361e-02,  3.13413307e-02,  3.17225254e-02,  3.21037200e-02,\n",
       "         3.24849147e-02,  3.28661093e-02,  3.32473040e-02,  3.36284986e-02,\n",
       "         3.40096932e-02,  3.43908879e-02,  3.47720825e-02,  3.51532772e-02,\n",
       "         3.55344718e-02,  3.59156665e-02,  3.62968611e-02,  3.66780558e-02,\n",
       "         3.70592504e-02,  3.74404451e-02,  3.78216397e-02,  3.82028344e-02,\n",
       "         3.85840290e-02,  3.89652237e-02,  3.93464183e-02,  3.97276130e-02,\n",
       "         4.01088076e-02,  4.04900023e-02,  4.08711969e-02,  4.12523916e-02,\n",
       "         4.16335862e-02,  4.20147809e-02,  4.23959755e-02,  4.27771702e-02,\n",
       "         4.31583648e-02,  4.35395595e-02,  4.39207541e-02,  4.43019488e-02,\n",
       "         4.46831434e-02,  4.50643381e-02,  4.54455327e-02,  4.58267274e-02,\n",
       "         4.62079220e-02]),\n",
       " <BarContainer object of 200 artists>)"
      ]
     },
     "execution_count": 9,
     "metadata": {},
     "output_type": "execute_result"
    },
    {
     "data": {
      "image/png": "[encoded data removed]",
      "text/plain": [
       "<Figure size 432x288 with 1 Axes>"
      ]
     },
     "metadata": {
      "needs_background": "light"
     },
     "output_type": "display_data"
    }
   ],
   "source": [
    "plt.hist(EURUSdiff, 200)\n"
   ]
  },
  {
   "cell_type": "code",
   "execution_count": 10,
   "metadata": {},
   "outputs": [
    {
     "data": {
      "text/plain": [
       "<bound method DataFrame.dropna of              0\n",
       "0          NaN\n",
       "1          NaN\n",
       "2    -0.002202\n",
       "3    -0.004524\n",
       "4     0.003894\n",
       "...        ...\n",
       "5914  0.007321\n",
       "5915 -0.011379\n",
       "5916 -0.002273\n",
       "5917  0.002651\n",
       "5918  0.007723\n",
       "\n",
       "[5919 rows x 1 columns]>"
      ]
     },
     "execution_count": 10,
     "metadata": {},
     "output_type": "execute_result"
    }
   ],
   "source": [
    "import pandas as pd\n",
    "EURUSdiff = pd.DataFrame(EURUSdiff)\n",
    "\n",
    "\n",
    "EURUSdiff.replace([np.inf, -np.inf], np.nan)\n",
    "# Drop rows with NaN\n",
    "EURUSdiff.dropna\n",
    "\n",
    "\n"
   ]
  },
  {
   "cell_type": "code",
   "execution_count": 11,
   "metadata": {},
   "outputs": [
    {
     "name": "stdout",
     "output_type": "stream",
     "text": [
      "0    True\n",
      "dtype: bool\n",
      "0    False\n",
      "dtype: bool\n"
     ]
    }
   ],
   "source": [
    "print(np.isnan(EURUSdiff).any())\n",
    "print(np.isinf(EURUSdiff).any())\n",
    "EURUSdiff = EURUSdiff[~np.isnan(EURUSdiff)]\n",
    "EURUSdiff = EURUSdiff[~np.isinf(EURUSdiff)]"
   ]
  },
  {
   "cell_type": "code",
   "execution_count": 12,
   "metadata": {
    "colab": {
     "base_uri": "https://localhost:8080/",
     "height": 282
    },
    "id": "vB9PBaAp0WiC",
    "outputId": "6496f6eb-0fd5-4705-8bf8-b050ef75514f"
   },
   "outputs": [
    {
     "data": {
      "text/plain": [
       "[<matplotlib.lines.Line2D at 0x165e8712370>]"
      ]
     },
     "execution_count": 12,
     "metadata": {},
     "output_type": "execute_result"
    },
    {
     "data": {
      "image/png": "[encoded data removed]",
      "text/plain": [
       "<Figure size 432x288 with 1 Axes>"
      ]
     },
     "metadata": {
      "needs_background": "light"
     },
     "output_type": "display_data"
    }
   ],
   "source": [
    "from scipy import stats\n",
    "EURUSdiff = np.array(EURUSdiff)\n",
    "EURUSdiff = EURUSdiff[~np.isnan(EURUSdiff)]\n",
    "EURUSdiff = EURUSdiff[~np.isinf(EURUSdiff)]\n",
    "\n",
    "kde = stats.gaussian_kde(EURUSdiff)\n",
    "Xe = np.linspace(np.min(EURUSdiff), np.max(EURUSdiff), 100)\n",
    "Fe = kde(Xe)\n",
    "Fe = Fe/np.sum(Fe)\n",
    "\n",
    "plt.plot(Xe, Fe)\n"
   ]
  },
  {
   "cell_type": "markdown",
   "metadata": {},
   "source": [
    "Lets first do a simple Garch model with one lag for the return.\n"
   ]
  },
  {
   "cell_type": "code",
   "execution_count": 13,
   "metadata": {
    "scrolled": true
   },
   "outputs": [
    {
     "name": "stdout",
     "output_type": "stream",
     "text": [
      "Iteration:     10,   Func. Count:     68,   Neg. LLF: 4364.20233877719\n",
      "Optimization terminated successfully    (Exit mode 0)\n",
      "            Current function value: 4364.190744543897\n",
      "            Iterations: 14\n",
      "            Function evaluations: 87\n",
      "            Gradient evaluations: 14\n",
      "                     Constant Mean - GARCH Model Results                      \n",
      "==============================================================================\n",
      "Dep. Variable:                      y   R-squared:                       0.000\n",
      "Mean Model:             Constant Mean   Adj. R-squared:                  0.000\n",
      "Vol Model:                      GARCH   Log-Likelihood:               -4364.19\n",
      "Distribution:                  Normal   AIC:                           8736.38\n",
      "Method:            Maximum Likelihood   BIC:                           8762.80\n",
      "                                        No. Observations:                 5459\n",
      "Date:                Tue, Mar 14 2023   Df Residuals:                     5458\n",
      "Time:                        17:03:47   Df Model:                            1\n",
      "                                  Mean Model                                 \n",
      "=============================================================================\n",
      "                 coef    std err          t      P>|t|       95.0% Conf. Int.\n",
      "-----------------------------------------------------------------------------\n",
      "mu         5.1901e-03  6.662e-03      0.779      0.436 [-7.867e-03,1.825e-02]\n",
      "                              Volatility Model                              \n",
      "============================================================================\n",
      "                 coef    std err          t      P>|t|      95.0% Conf. Int.\n",
      "----------------------------------------------------------------------------\n",
      "omega      1.1964e-03  5.635e-04      2.123  3.375e-02 [9.193e-05,2.301e-03]\n",
      "alpha[1]       0.0350  4.741e-03      7.385  1.522e-13 [2.572e-02,4.430e-02]\n",
      "beta[1]        0.9617  5.334e-03    180.301      0.000     [  0.951,  0.972]\n",
      "============================================================================\n",
      "\n",
      "Covariance estimator: robust\n",
      "Iteration:     10,   Func. Count:     81,   Neg. LLF: 5016.6297973089195\n",
      "Optimization terminated successfully    (Exit mode 0)\n",
      "            Current function value: 4363.434305257917\n",
      "            Iterations: 15\n",
      "            Function evaluations: 111\n",
      "            Gradient evaluations: 15\n",
      "                           AR - GARCH Model Results                           \n",
      "==============================================================================\n",
      "Dep. Variable:                      y   R-squared:                       0.000\n",
      "Mean Model:                        AR   Adj. R-squared:                 -0.000\n",
      "Vol Model:                      GARCH   Log-Likelihood:               -4363.43\n",
      "Distribution:                  Normal   AIC:                           8736.87\n",
      "Method:            Maximum Likelihood   BIC:                           8769.89\n",
      "                                        No. Observations:                 5458\n",
      "Date:                Tue, Mar 14 2023   Df Residuals:                     5456\n",
      "Time:                        17:03:48   Df Model:                            2\n",
      "                                  Mean Model                                 \n",
      "=============================================================================\n",
      "                 coef    std err          t      P>|t|       95.0% Conf. Int.\n",
      "-----------------------------------------------------------------------------\n",
      "Const      5.1878e-03  6.659e-03      0.779      0.436 [-7.863e-03,1.824e-02]\n",
      "y[1]       6.5405e-03  1.349e-02      0.485      0.628 [-1.991e-02,3.299e-02]\n",
      "                              Volatility Model                              \n",
      "============================================================================\n",
      "                 coef    std err          t      P>|t|      95.0% Conf. Int.\n",
      "----------------------------------------------------------------------------\n",
      "omega      1.1974e-03  5.631e-04      2.126  3.347e-02 [9.372e-05,2.301e-03]\n",
      "alpha[1]       0.0350  4.748e-03      7.364  1.785e-13 [2.566e-02,4.427e-02]\n",
      "beta[1]        0.9617  5.340e-03    180.106      0.000     [  0.951,  0.972]\n",
      "============================================================================\n",
      "\n",
      "Covariance estimator: robust\n"
     ]
    }
   ],
   "source": [
    "from arch import arch_model\n",
    "r = EURUSdiff *100\n",
    "garch11 = arch_model(r, p=1, q=1)\n",
    "res = garch11.fit(update_freq=10)\n",
    "print(res.summary())\n",
    "\n",
    "from arch import arch_model\n",
    "\n",
    "r = EURUSdiff*100\n",
    "\n",
    "# Specify the mean model with an AR(1) term\n",
    "mean_model = 'ARX'\n",
    "\n",
    "# Specify the volatility model with a GARCH(1,1) specification\n",
    "vol_model = 'GARCH'\n",
    "\n",
    "# Create the ARCH model\n",
    "model = arch_model(r, mean=mean_model, lags=1, vol=vol_model, p=1, q=1)\n",
    "\n",
    "# Fit the model\n",
    "res = model.fit(update_freq=10)\n",
    "\n",
    "# Print the summary\n",
    "print(res.summary())\n",
    "cond_vol = res.conditional_volatility\n",
    "\n",
    "# Print the conditional volatility\n",
    "\n",
    "\n",
    "\n"
   ]
  },
  {
   "cell_type": "markdown",
   "metadata": {},
   "source": [
    "Let's see how well an SVJD (Stochastic Volatility Jump Diffusion) Process can fit this kernel:\n",
    "\n",
    "$\\textbf{Stochastic Volatility Model}$\n",
    "This model has the following continuous time representation:\n",
    "\n",
    "$ \\Delta S_t = \\alpha + \\beta  \\Delta S_{t_1} + z_{s,t}  \\sigma_{s,t}$\n",
    "\n",
    "$ z_{s,t} \\sim N(0,1)$\n",
    "\n",
    "$ \\sigma^2_{s,t} = \\delta + \\gamma \\sigma^2_{s,t-1} + z_{v,t} \\sigma_v$\n",
    "\n",
    "$ z_{v,t} \\sim N(0,1)$  \n",
    "\n",
    "$\\rho(z_s,z_v)= \\hat{\\rho}$\n",
    "\n",
    "\n",
    "\n",
    "\n",
    "\n",
    "Spedifically we want to feed into an SVJD model the following parameters:\n",
    "\n",
    "$\\Omega = [ \\alpha,  \\beta, \\hat{\\rho},  \\delta, \\gamma,  \\sigma_v ]$\n",
    "\n"
   ]
  },
  {
   "cell_type": "code",
   "execution_count": 14,
   "metadata": {
    "id": "xc3G6pU91HPW"
   },
   "outputs": [],
   "source": [
    "data = Xe.T\n",
    "data1 = Fe.T\n",
    "\n",
    "\n",
    "y = 100 * EURUSdiff\n",
    "\n",
    "betab =[.003,.5,.3, .003,.5, .01]\n",
    "\n"
   ]
  },
  {
   "cell_type": "code",
   "execution_count": 15,
   "metadata": {
    "id": "0QT1gs5Y1W_w"
   },
   "outputs": [],
   "source": [
    "# !pip install tensorflow\n",
    "import math\n",
    "import numpy as np\n",
    "import pandas as pd\n",
    "import scipy\n",
    "from scipy import stats\n",
    "import tensorflow as tf\n",
    "import scipy.special\n",
    "rho = 0\n",
    "seed = 1\n",
    "np.random.seed(seed)\n",
    "rr = len(y)*5\n",
    "vmat = [[1,rho],[rho,1]]\n",
    "zz = np.random.multivariate_normal(np.zeros(2), vmat, size=rr) * 1;\n",
    "rr = len(y)\n",
    "\n",
    "\n",
    "def autocorr(x):\n",
    "    x = np.array(x)\n",
    "    x = x.reshape((-1,))\n",
    "    result = np.correlate(x, x, mode='full')\n",
    "    return result[result.size // 2:]\n",
    "\n",
    "\n",
    "def svmodel(betab, fixedarg1 = \"data\", fixed_arg2 = \"data1\", \n",
    "              fixed_arg3 = \"y\", fixed_arg4 = \"zz\"):\n",
    "   # global fixed_params1, fixed_params2, fixed_params3, fixed_params4, fixed_params5\n",
    "    seed = 0\n",
    "    np.random.seed(seed)\n",
    "    v = np.zeros(rr)\n",
    "    betabb= scipy.special.expit(betab)\n",
    "    v[0] = .0001\n",
    "    alpha = betab[0]\n",
    "    beta = betab[1]\n",
    "    delta = betab[2]\n",
    "    gamma = betab[3]\n",
    "    sigmav = betab[4]\n",
    "    yhat = np.zeros((rr, 1))\n",
    "    vmat = [[1,rho],[rho,1]]\n",
    "    for i in range(1, rr):\n",
    "        yhat[i] = alpha + beta * yhat[i-1] + (math.exp(v[i - 1])**.5) * zz[i, 0]\n",
    "        v[i] =   delta  + gamma*  v[i - 1] + sigmav * zz[i, 1]\n",
    "      \n",
    "    yhat = yhat\n",
    "    kde = stats.gaussian_kde(yhat.T)\n",
    "    yhats = np.linspace(np.min(yhat), np.max(yhat), 100)\n",
    "    f1hat = kde(yhats)\n",
    "    f1hat = f1hat / np.sum(f1hat)\n",
    "    theta = [alpha, rho, delta, gamma, sigmav]\n",
    "    ys = data\n",
    "    f1 = data1\n",
    "    error0 = np.mean(ys) - np.mean(yhats);\n",
    "    error1 = ys - yhats\n",
    "    error2 = f1 - f1hat\n",
    "    error3 = np.var(ys) - np.var(yhats)\n",
    "    error4 = scipy.stats.skew(ys) - scipy.stats.skew(yhats);\n",
    "    error5 = scipy.stats.kurtosis(ys) - scipy.stats.kurtosis(yhats);\n",
    "    junk1 = autocorr(y)\n",
    "    rho1_y = junk1[:3]\n",
    "    junk2 = autocorr(y ** 2);\n",
    "    rho2_y = junk2[:3]\n",
    "    junk3 = autocorr(yhat[:])\n",
    "    rho1_yhat = junk3[:3]\n",
    "    junk4 = autocorr(yhat[:] ** 2)\n",
    "    rho2_yhat = junk4[:3]\n",
    "    error6 = rho1_y - rho1_yhat\n",
    "    error7 = rho2_y - rho2_yhat\n",
    "\n",
    "    ERROR = error0 ** 2 +  np.sum(error1 **2) + np.sum(error2 **2) + error3 ** 2 + error4 ** 2 + error5 ** 2\n",
    "    + np.sum(error6 ** 2) + np.sum(error7 ** 2)\n",
    "    \n",
    "    if ERROR is None:\n",
    "        ERROR = 1000\n",
    "\n",
    "    return ERROR"
   ]
  },
  {
   "cell_type": "code",
   "execution_count": 16,
   "metadata": {},
   "outputs": [],
   "source": [
    "  \n",
    "    \n",
    "def svmodel1(betab, fixedarg1 = \"data\", fixed_arg2 = \"data1\", \n",
    "              fixed_arg3 = \"y\", fixed_arg4 = \"zz\"):\n",
    "   # global fixed_params1, fixed_params2, fixed_params3, fixed_params4, fixed_params5\n",
    "    seed = 0\n",
    "    np.random.seed(seed)\n",
    "    rr = len(y)\n",
    "    v = np.zeros(rr)\n",
    "    betabb= scipy.special.expit(betab)\n",
    "    v[0] = .0001\n",
    "    alpha = betab[0]\n",
    "    beta = betab[1]\n",
    "    delta = betab[2]\n",
    "    gamma = betab[3]\n",
    "    sigmav = betab[4]\n",
    "    yhat = np.zeros((rr, 1))\n",
    "    rr = len(y)\n",
    "    vmat = [[1,rho],[rho,1]]\n",
    "    for i in range(1, rr):\n",
    "        yhat[i] = alpha + beta * yhat[i-1] + (math.exp(v[i - 1])**.5) * zz[i, 0]\n",
    "        v[i] =   delta  + gamma*  v[i - 1] + sigmav * zz[i, 1]\n",
    "      \n",
    "    yhat = yhat\n",
    "    kde = stats.gaussian_kde(yhat.T)\n",
    "    yhats = np.linspace(np.min(yhat), np.max(yhat), 100)\n",
    "    f1hat = kde(yhats)\n",
    "    f1hat = f1hat / np.sum(f1hat)\n",
    "    theta = [alpha, rho, delta, gamma, sigmav]\n",
    "    ys = data\n",
    "    f1 = data1\n",
    "    error0 = np.mean(ys) - np.mean(yhats);\n",
    "    error1 = ys - yhats\n",
    "    error2 = f1 - f1hat\n",
    "    error3 = np.var(ys) - np.var(yhats)\n",
    "    error4 = scipy.stats.skew(ys) - scipy.stats.skew(yhats);\n",
    "    error5 = scipy.stats.kurtosis(ys) - scipy.stats.kurtosis(yhats);\n",
    "    junk1 = autocorr(y)\n",
    "    rho1_y = junk1[:3]\n",
    "    junk2 = autocorr(y ** 2);\n",
    "    rho2_y = junk2[:3]\n",
    "    junk3 = autocorr(yhat[:])\n",
    "    rho1_yhat = junk3[:3]\n",
    "    junk4 = autocorr(yhat[:] ** 2)\n",
    "    rho2_yhat = junk4[:3]\n",
    "    error6 = rho1_y - rho1_yhat\n",
    "    error7 = rho2_y - rho2_yhat\n",
    "\n",
    "    ERROR = error0 ** 2 +  np.sum(error1 **2) + np.sum(error2 **2) + error3 ** 2 + error4 ** 2 + error5 ** 2\n",
    "    + np.sum(error6 ** 2) + np.sum(error7 ** 2)\n",
    "    \n",
    "    if ERROR is None:\n",
    "        ERROR = 1000\n",
    "\n",
    "    return ERROR, theta, ys, f1, yhats, f1hat \n",
    "    "
   ]
  },
  {
   "cell_type": "code",
   "execution_count": 17,
   "metadata": {
    "id": "GETYHeOu8Pl3"
   },
   "outputs": [
    {
     "data": {
      "text/plain": [
       "(631.318532534172,\n",
       " [0.003, 0, 0.003, 0.5, 0.01],\n",
       " array([-3.00310077e-02, -2.92609175e-02, -2.84908273e-02, -2.77207371e-02,\n",
       "        -2.69506469e-02, -2.61805567e-02, -2.54104665e-02, -2.46403763e-02,\n",
       "        -2.38702861e-02, -2.31001959e-02, -2.23301057e-02, -2.15600155e-02,\n",
       "        -2.07899253e-02, -2.00198351e-02, -1.92497449e-02, -1.84796547e-02,\n",
       "        -1.77095645e-02, -1.69394743e-02, -1.61693841e-02, -1.53992939e-02,\n",
       "        -1.46292037e-02, -1.38591135e-02, -1.30890233e-02, -1.23189331e-02,\n",
       "        -1.15488429e-02, -1.07787527e-02, -1.00086625e-02, -9.23857233e-03,\n",
       "        -8.46848214e-03, -7.69839194e-03, -6.92830174e-03, -6.15821154e-03,\n",
       "        -5.38812134e-03, -4.61803114e-03, -3.84794094e-03, -3.07785074e-03,\n",
       "        -2.30776054e-03, -1.53767034e-03, -7.67580144e-04,  2.51005492e-06,\n",
       "         7.72600254e-04,  1.54269045e-03,  2.31278065e-03,  3.08287085e-03,\n",
       "         3.85296105e-03,  4.62305125e-03,  5.39314145e-03,  6.16323165e-03,\n",
       "         6.93332185e-03,  7.70341205e-03,  8.47350225e-03,  9.24359244e-03,\n",
       "         1.00136826e-02,  1.07837728e-02,  1.15538630e-02,  1.23239532e-02,\n",
       "         1.30940434e-02,  1.38641336e-02,  1.46342238e-02,  1.54043140e-02,\n",
       "         1.61744042e-02,  1.69444944e-02,  1.77145846e-02,  1.84846748e-02,\n",
       "         1.92547650e-02,  2.00248552e-02,  2.07949454e-02,  2.15650356e-02,\n",
       "         2.23351258e-02,  2.31052160e-02,  2.38753062e-02,  2.46453964e-02,\n",
       "         2.54154866e-02,  2.61855768e-02,  2.69556670e-02,  2.77257572e-02,\n",
       "         2.84958474e-02,  2.92659376e-02,  3.00360278e-02,  3.08061180e-02,\n",
       "         3.15762082e-02,  3.23462984e-02,  3.31163886e-02,  3.38864788e-02,\n",
       "         3.46565690e-02,  3.54266592e-02,  3.61967494e-02,  3.69668396e-02,\n",
       "         3.77369298e-02,  3.85070200e-02,  3.92771102e-02,  4.00472004e-02,\n",
       "         4.08172906e-02,  4.15873808e-02,  4.23574710e-02,  4.31275612e-02,\n",
       "         4.38976514e-02,  4.46677416e-02,  4.54378318e-02,  4.62079220e-02]),\n",
       " array([5.49142295e-05, 4.79542443e-05, 4.75644437e-05, 7.80981589e-05,\n",
       "        1.07311891e-04, 9.01900033e-05, 4.58591255e-05, 2.40643251e-05,\n",
       "        5.03150794e-05, 1.32780091e-04, 2.58426894e-04, 3.98392945e-04,\n",
       "        5.31766428e-04, 6.52499285e-04, 7.85525853e-04, 9.51544222e-04,\n",
       "        1.14836465e-03, 1.42942912e-03, 1.85146100e-03, 2.37968305e-03,\n",
       "        2.96010027e-03, 3.61815873e-03, 4.50779413e-03, 5.69243737e-03,\n",
       "        6.90791634e-03, 7.93246619e-03, 9.03760573e-03, 1.06484926e-02,\n",
       "        1.29053083e-02, 1.58795154e-02, 1.96696242e-02, 2.40461848e-02,\n",
       "        2.86663200e-02, 3.35457864e-02, 3.90982237e-02, 4.58506752e-02,\n",
       "        5.33834974e-02, 6.04876482e-02, 6.57390327e-02, 6.73526498e-02,\n",
       "        6.48628865e-02, 5.98721624e-02, 5.40815572e-02, 4.78810480e-02,\n",
       "        4.11710277e-02, 3.46328162e-02, 2.91411090e-02, 2.47724756e-02,\n",
       "        2.09950040e-02, 1.74818163e-02, 1.43791202e-02, 1.18997554e-02,\n",
       "        1.00440617e-02, 8.41204470e-03, 6.64922588e-03, 5.06226793e-03,\n",
       "        3.99084350e-03, 3.20890936e-03, 2.45208117e-03, 1.83077187e-03,\n",
       "        1.45131448e-03, 1.18957743e-03, 9.28779851e-04, 7.08403668e-04,\n",
       "        5.89918951e-04, 5.16143702e-04, 4.31457975e-04, 3.61977684e-04,\n",
       "        3.23964455e-04, 2.85572228e-04, 2.08778714e-04, 1.11753562e-04,\n",
       "        5.27909667e-05, 5.26489287e-05, 8.18040487e-05, 1.04081174e-04,\n",
       "        1.11027127e-04, 1.13193474e-04, 1.08698210e-04, 8.41745416e-05,\n",
       "        4.56904843e-05, 1.59758879e-05, 3.42785083e-06, 4.39616004e-07,\n",
       "        4.60056854e-08, 2.02092433e-07, 1.80718588e-06, 9.43286616e-06,\n",
       "        2.85337127e-05, 5.00193196e-05, 5.08138538e-05, 2.99151624e-05,\n",
       "        1.02063161e-05, 2.02085572e-06, 2.90174734e-07, 7.02095933e-07,\n",
       "        4.63578102e-06, 1.81303312e-05, 4.10968123e-05, 5.39853232e-05]),\n",
       " array([-4.25429472, -4.16905976, -4.0838248 , -3.99858983, -3.91335487,\n",
       "        -3.8281199 , -3.74288494, -3.65764997, -3.57241501, -3.48718005,\n",
       "        -3.40194508, -3.31671012, -3.23147515, -3.14624019, -3.06100523,\n",
       "        -2.97577026, -2.8905353 , -2.80530033, -2.72006537, -2.6348304 ,\n",
       "        -2.54959544, -2.46436048, -2.37912551, -2.29389055, -2.20865558,\n",
       "        -2.12342062, -2.03818566, -1.95295069, -1.86771573, -1.78248076,\n",
       "        -1.6972458 , -1.61201084, -1.52677587, -1.44154091, -1.35630594,\n",
       "        -1.27107098, -1.18583601, -1.10060105, -1.01536609, -0.93013112,\n",
       "        -0.84489616, -0.75966119, -0.67442623, -0.58919127, -0.5039563 ,\n",
       "        -0.41872134, -0.33348637, -0.24825141, -0.16301645, -0.07778148,\n",
       "         0.00745348,  0.09268845,  0.17792341,  0.26315838,  0.34839334,\n",
       "         0.4336283 ,  0.51886327,  0.60409823,  0.6893332 ,  0.77456816,\n",
       "         0.85980312,  0.94503809,  1.03027305,  1.11550802,  1.20074298,\n",
       "         1.28597794,  1.37121291,  1.45644787,  1.54168284,  1.6269178 ,\n",
       "         1.71215277,  1.79738773,  1.88262269,  1.96785766,  2.05309262,\n",
       "         2.13832759,  2.22356255,  2.30879751,  2.39403248,  2.47926744,\n",
       "         2.56450241,  2.64973737,  2.73497233,  2.8202073 ,  2.90544226,\n",
       "         2.99067723,  3.07591219,  3.16114716,  3.24638212,  3.33161708,\n",
       "         3.41685205,  3.50208701,  3.58732198,  3.67255694,  3.7577919 ,\n",
       "         3.84302687,  3.92826183,  4.0134968 ,  4.09873176,  4.18396672]),\n",
       " array([6.26228743e-05, 6.54257376e-05, 6.34566972e-05, 6.18757032e-05,\n",
       "        6.68026140e-05, 8.39975381e-05, 1.19031480e-04, 1.76919979e-04,\n",
       "        2.59710296e-04, 3.63636378e-04, 4.79353145e-04, 5.96809805e-04,\n",
       "        7.12013283e-04, 8.30606856e-04, 9.65476992e-04, 1.13040300e-03,\n",
       "        1.33495820e-03, 1.58517132e-03, 1.88949925e-03, 2.26314399e-03,\n",
       "        2.72301010e-03, 3.27465331e-03, 3.90257839e-03, 4.57372827e-03,\n",
       "        5.25258697e-03, 5.91801814e-03, 6.57323028e-03, 7.24600837e-03,\n",
       "        7.97996019e-03, 8.81822787e-03, 9.78320438e-03, 1.08618436e-02,\n",
       "        1.20091102e-02, 1.31714031e-02, 1.43135110e-02, 1.54293184e-02,\n",
       "        1.65339361e-02, 1.76494631e-02, 1.87918324e-02, 1.99580849e-02,\n",
       "        2.11187540e-02, 2.22265663e-02, 2.32426122e-02, 2.41624585e-02,\n",
       "        2.50192755e-02, 2.58568145e-02, 2.66904407e-02, 2.74875883e-02,\n",
       "        2.81836039e-02, 2.87170363e-02, 2.90546351e-02, 2.91924257e-02,\n",
       "        2.91396847e-02, 2.88979296e-02, 2.84469867e-02, 2.77516751e-02,\n",
       "        2.67926161e-02, 2.56014627e-02, 2.42697767e-02, 2.29192831e-02,\n",
       "        2.16517961e-02, 2.05114320e-02, 1.94819369e-02, 1.85171384e-02,\n",
       "        1.75779202e-02, 1.66455335e-02, 1.57069063e-02, 1.47374885e-02,\n",
       "        1.37064111e-02, 1.25999047e-02, 1.14381052e-02, 1.02689525e-02,\n",
       "        9.14564717e-03, 8.10530661e-03, 7.15983656e-03, 6.29889314e-03,\n",
       "        5.50081802e-03, 4.74769281e-03, 4.03774079e-03, 3.38588864e-03,\n",
       "        2.81066707e-03, 2.31887154e-03, 1.90243236e-03, 1.54908351e-03,\n",
       "        1.25396508e-03, 1.01957076e-03, 8.45292350e-04, 7.19239467e-04,\n",
       "        6.21703638e-04, 5.36221461e-04, 4.56638148e-04, 3.84855147e-04,\n",
       "        3.24467490e-04, 2.77141480e-04, 2.42355996e-04, 2.17540499e-04,\n",
       "        1.97915893e-04, 1.77578763e-04, 1.52088512e-04, 1.20771873e-04]))"
      ]
     },
     "execution_count": 17,
     "metadata": {},
     "output_type": "execute_result"
    }
   ],
   "source": [
    "betab =[.003,.5, .003,.5, .01]\n",
    "ERROR = svmodel1(betab)\n",
    "ERROR\n"
   ]
  },
  {
   "cell_type": "markdown",
   "metadata": {},
   "source": [
    "$\\textbf{Local Gradient-Based Search:  The Quasi-Newton Method}$\n",
    "\n",
    "To minimize any non-linear function, we usually begin by ”initializing”  the parameter vector $\\Omega$ at any initial value, $\\Omega_{0}$,perhaps at randomly chosen values. We then ”iterate” on the coefficient set $\\Omega$ until an error metric $ \\Psi$ is minimized, by making use of first and second-order derivatives of the ”error metric” $\\Psi$  with respect to the parameters.  This type of search, called a ”gradient-based search”, is for the optimum ”in the neighborhood” of the initial parameter vector, $\\Omega_{0}$  For this reason, this type of search is a ”local” search.\n",
    "\n",
    "The usual way in which one goes about doing this iteration is through the quasi-Newton algorithm. Starting with the initial set of sum of squared errors, $\\Psi(\\Omega_{0})$, based on the initial coefficient vector $\\Omega_{0}$, a second-order Taylor expansion is used to find $\\Psi(\\Omega_{1})$:\n",
    "\n",
    "$\\Psi(\\Omega_{1})=\\Psi(\\Omega_{0})+\\nabla_{0}(\\Omega_{1}-\\Omega_{0})+.5(\\Omega_{1}-\\Omega_{0})^{\\prime}H_{0}(\\Omega_{1}-\\Omega_{0})$\n",
    "\n",
    "where $\\nabla_{0}$ is the gradient of the error function with respect to the parameter set $\\Omega_{0}$ and $H_{0\\text{ }}$ is the Hessian of the error function.\n",
    "\n",
    "Letting $\\Omega_{0}=[\\Omega_{0,1},...\\Omega_{0,k}]$, be the initial set of k parameters used in the network, the gradient vector $\\nabla_{0}$ is defined as follows:\n",
    "\n",
    "$\\nabla_{0}=\\left(\\begin{array}{c}\n",
    "\\frac{\\Psi(\\Omega_{0,1}+h_{1},...\\Omega_{0,k})-\\Psi(\\Omega_{0,1},...\\Omega_{0,k})}{h_{1}}\\\\\n",
    "\\frac{\\Psi(\\Omega_{0,1}...\\Omega_{0,i}+h_{i}...,\\Omega_{0,k})-\\Psi(\\Omega_{0,1},...\\Omega_{0,k})}{h_{i}}\\\\\n",
    ".\\\\\n",
    ".\\\\\n",
    "\\frac{\\Psi(\\Omega_{0,1},...\\Omega_{0,i}..\\Omega_{0,k}+h_{k})-\\Psi(\\Omega_{0,1},...\\Omega_{0,k})}{h_{k}}\n",
    "\\end{array}\\right)$\n",
    "\n",
    "The denominator $h_{i}$  is usually set at max($\\epsilon$,$\\epsilon$$\\Omega_{0,i})$,with $\\epsilon=10^{-6}$.\n",
    "\n",
    "The Hessian $H_{0}$ is the matrix of second-order partial derivatives of $\\Psi$ with respect to the elements of $\\Omega_{0}$, and are computed in a similar matter as the Jacobian or gradient vector.  The cross-partials or off-diagonal elements of the matrix $H_{0\\text{ }}$ are given by the formula:\n",
    "\n",
    "$\\frac{\\partial^{2}\\Psi}{\\partial\\Omega_{0,i}\\partial\\Omega_{0,j}}=\\frac{1}{h_{j}h_{i}}\\left[\\begin{array}{c}\n",
    "\\{\\Psi(\\Omega_{0,1},...,\\Omega_{0,i}+h_{i},\\Omega_{0,j}+h_{j},...\\Omega_{0,k})-\\Psi(\\Omega_{0,1}...\\Omega_{0,i,...}\\Omega_{0,_{j}}+h_{j}...\\Omega_{0,k})\\}\\\\\n",
    "-\\{\\Psi(\\Omega_{0,1},...,\\Omega_{0,i}+h_{i},\\Omega_{0,j},...\\Omega_{0,k})-\\Psi(\\Omega_{0,1},...\\Omega_{0,k})\\}\n",
    "\\end{array}\\right]$\n",
    "\n",
    "The direct second-order partials or diagonal elements are given by:\n",
    "\n",
    "$\\frac{\\partial^{2}\\Psi}{\\partial\\Omega_{0,i}^{2}}=\\frac{1}{h_{i}^{2}}\\left(\\begin{array}{c}\n",
    "\\Psi(\\Omega_{0,1},...,\\Omega_{0,i}+h_{i},...\\Omega_{0,k})-2\\Psi(\\Omega_{0,1},...\\Omega_{0,k})\\\\\n",
    "+\\Psi(\\Omega_{0,1},...,\\Omega_{0,i}-h_{i},...\\Omega_{0,k})\n",
    "\\end{array}\\right)$\n",
    "\n",
    "Minimizing the loss function with respect to $\\Omega_{1}$, given startin values for $\\Omega_{0}$, we obtain the following law of motion for the parameter set:\n",
    "\n",
    "$\\Omega_1 = \\Omega_0 - \\frac{\\nabla_0}{H_0}$\n",
    "\n",
    "The optimal parameter vector $\\Omega^*$ is found by continue iteration on the above formula until convergence takes place.  \n",
    "\n",
    "$\\textbf{Adaptations of the Quasi Newton Mathod}$\n",
    "\n",
    "Too often the Hessian method blows up during an optimization.  Numerical analysis is basically full of algorithms aimed at overcoming this problem.  The other problem is that the final result may be very sensitive to the starting set of parameters.  One may converge to a local optimum or to a saddle point.  \n",
    "\n",
    "Adam is the most popular in the literature.  It ignores the Hessian and worlds only with the Gradient.\n",
    "\n",
    "It is based on $\\textit{Stochastic Gradient Descent}$.  The algorithm works with learning and momentum hyperparameters.\n",
    "\n",
    "$V_t = \\mu V_{t-1} + \\alpha \\nabla_0$\n",
    "\n",
    "$\\Omega_t = V_{t-1} + \\Omega_{t-1}$\n",
    "\n",
    "with $\\alpha \\in [.01, .1], \\mu \\in [.9, .99]$\n",
    "\n",
    "Nesterov's $\\textit{Acclerated Gradient}$  (NAG) modifies the gradient as a function of the momentum term:\n",
    "\n",
    "$V_t = \\mu V_{t-1} + \\alpha \\nabla(\\Omega_{t-1}+ \\mu V_{t-1})$\n",
    "\n",
    "$\\Omega_t = V_{t-1} + \\Omega_{t-1}$\n",
    "\n",
    "$\\textit{Adaptive Gradient}$ makes a further adjustment, taking the square root of the mean squared gradients:\n",
    "\n",
    "$\\Omega_t = \\Omega_{t-1} - \\alpha \\frac{\\nabla_{t-1}}{\\sqrt{(\\Sigma_1^{t-1}\\nabla_t)^2}}$\n",
    "\n",
    "\n",
    "$\\textit{Root Mean Squared Error Propogation}$ is similar:\n",
    "\n",
    "$R_t = \\gamma R_{t-1} + (1-\\gamma) \\nabla_{t-1}^2$\n",
    "\n",
    "$\\Omega_t = \\Omega_{t-1} + \\alpha \\frac{\\nabla_{t-1}}{\\sqrt{R_t}}$\n",
    "\n",
    "$\\textit{ADAM}$ is a moving average of the grandient and its squared value:\n",
    "\n",
    "$M_0 = R_0 = 0$\n",
    "\n",
    "$M_t = \\beta_1 R_{t-1} + (1-\\beta_1) \\nabla_{t-1}$\n",
    "\n",
    "$R_t = \\beta_2 R_{t-1} + (1-\\beta_2) \\nabla_{t-1}^2$\n",
    "\n",
    "$\\hat{M}_t = \\frac{M_t}{1-\\beta_1^t}$\n",
    "\n",
    "$\\hat{R}_t = \\frac{R_t}{1-\\beta_2^t}$\n",
    "\n",
    "$\\Omega_t = \\Omega_{t-1} + \\alpha \\frac{\\hat{M}_t}{\\sqrt{\\hat{R}_t+\\epsilon}}$\n",
    "\n",
    "\n",
    "An older method, the $\\textit{Boyden-Fletcher-Goldfard_Shano}$ (BFGS) method approximtes the Hessian matrix with a positive definite matrix B and updates it based on the past gradients.  \n",
    "\n",
    "\n",
    "Initially the Hessian at iteration zero is set at the identity matrix, thus $H_0 = I_k$ where k is the number of parameters.\n",
    "We also take an initial guess of the parameter set, $\\Omega_0$ amd compute the gradient, $\\nabla_0$.\n",
    "\n",
    "For this first step we solve for the search direction $p_0$ such that $H_0 p_0 = -\\nabla_0$.  We then solve for the parameter $\\alpha$ to minimize the function $\\Psi(\\Omega_0 + \\alpha p_0)$.\n",
    "\n",
    "We then update the parameter set:  $\\Omega_1 = \\Omega_0  + \\alpha_0 p_0$.   We compute the new gradient, $\\nabla_1.\n",
    "\n",
    "We fine $y_1 = \\nabla_1 -\\nabla_0$  and $s_1 = \\Omega_1 - \\Omega_0$, $\\rho_1 = \\frac{1}{y_1 s_1'}$\n",
    "\n",
    "We update the Hessian:  $H_1 = (1-\\rho_1 s_1 y_1')H_0(1-]\\rho_k y_k s_k') + \\rho_k s_k s_k'$\n",
    "\n",
    "Once the Hessian is updated, we find $\\Omega_2 = \\Omega_1 - \\frac{\\nabla_1}{H_1}$\n",
    "\n",
    "\n",
    "\n",
    "\n",
    "\n",
    "\n",
    "\n",
    "\n",
    "\n",
    "\n",
    "\n",
    "\n",
    "\n",
    "\n",
    "\n"
   ]
  },
  {
   "cell_type": "code",
   "execution_count": 19,
   "metadata": {
    "id": "fzHfoAsc9Dog"
   },
   "outputs": [],
   "source": [
    "from scipy.optimize import minimize\n",
    "bounds = [(0, .1), (0, .9),(0.001,.1),(0,.9),(0,.1)]\n",
    "betab =[.003,.5, .003,.5, .01]\n",
    "\n",
    "# perform the optimization with bounds\n",
    "result = minimize(svmodel,betab ,method = 'Nelder-Mead', bounds=bounds)\n"
   ]
  },
  {
   "cell_type": "code",
   "execution_count": 20,
   "metadata": {},
   "outputs": [],
   "source": [
    "betab = result.x\n",
    "\n",
    "result1 = minimize(svmodel,betab ,method = 'L-BFGS-B',bounds=bounds)\n",
    "betab1 = result1.x\n",
    "\n"
   ]
  },
  {
   "cell_type": "code",
   "execution_count": 21,
   "metadata": {},
   "outputs": [
    {
     "data": {
      "text/plain": [
       "(631.318532534172,\n",
       " [0.003, 0, 0.003, 0.5, 0.01],\n",
       " array([-3.00310077e-02, -2.92609175e-02, -2.84908273e-02, -2.77207371e-02,\n",
       "        -2.69506469e-02, -2.61805567e-02, -2.54104665e-02, -2.46403763e-02,\n",
       "        -2.38702861e-02, -2.31001959e-02, -2.23301057e-02, -2.15600155e-02,\n",
       "        -2.07899253e-02, -2.00198351e-02, -1.92497449e-02, -1.84796547e-02,\n",
       "        -1.77095645e-02, -1.69394743e-02, -1.61693841e-02, -1.53992939e-02,\n",
       "        -1.46292037e-02, -1.38591135e-02, -1.30890233e-02, -1.23189331e-02,\n",
       "        -1.15488429e-02, -1.07787527e-02, -1.00086625e-02, -9.23857233e-03,\n",
       "        -8.46848214e-03, -7.69839194e-03, -6.92830174e-03, -6.15821154e-03,\n",
       "        -5.38812134e-03, -4.61803114e-03, -3.84794094e-03, -3.07785074e-03,\n",
       "        -2.30776054e-03, -1.53767034e-03, -7.67580144e-04,  2.51005492e-06,\n",
       "         7.72600254e-04,  1.54269045e-03,  2.31278065e-03,  3.08287085e-03,\n",
       "         3.85296105e-03,  4.62305125e-03,  5.39314145e-03,  6.16323165e-03,\n",
       "         6.93332185e-03,  7.70341205e-03,  8.47350225e-03,  9.24359244e-03,\n",
       "         1.00136826e-02,  1.07837728e-02,  1.15538630e-02,  1.23239532e-02,\n",
       "         1.30940434e-02,  1.38641336e-02,  1.46342238e-02,  1.54043140e-02,\n",
       "         1.61744042e-02,  1.69444944e-02,  1.77145846e-02,  1.84846748e-02,\n",
       "         1.92547650e-02,  2.00248552e-02,  2.07949454e-02,  2.15650356e-02,\n",
       "         2.23351258e-02,  2.31052160e-02,  2.38753062e-02,  2.46453964e-02,\n",
       "         2.54154866e-02,  2.61855768e-02,  2.69556670e-02,  2.77257572e-02,\n",
       "         2.84958474e-02,  2.92659376e-02,  3.00360278e-02,  3.08061180e-02,\n",
       "         3.15762082e-02,  3.23462984e-02,  3.31163886e-02,  3.38864788e-02,\n",
       "         3.46565690e-02,  3.54266592e-02,  3.61967494e-02,  3.69668396e-02,\n",
       "         3.77369298e-02,  3.85070200e-02,  3.92771102e-02,  4.00472004e-02,\n",
       "         4.08172906e-02,  4.15873808e-02,  4.23574710e-02,  4.31275612e-02,\n",
       "         4.38976514e-02,  4.46677416e-02,  4.54378318e-02,  4.62079220e-02]),\n",
       " array([5.49142295e-05, 4.79542443e-05, 4.75644437e-05, 7.80981589e-05,\n",
       "        1.07311891e-04, 9.01900033e-05, 4.58591255e-05, 2.40643251e-05,\n",
       "        5.03150794e-05, 1.32780091e-04, 2.58426894e-04, 3.98392945e-04,\n",
       "        5.31766428e-04, 6.52499285e-04, 7.85525853e-04, 9.51544222e-04,\n",
       "        1.14836465e-03, 1.42942912e-03, 1.85146100e-03, 2.37968305e-03,\n",
       "        2.96010027e-03, 3.61815873e-03, 4.50779413e-03, 5.69243737e-03,\n",
       "        6.90791634e-03, 7.93246619e-03, 9.03760573e-03, 1.06484926e-02,\n",
       "        1.29053083e-02, 1.58795154e-02, 1.96696242e-02, 2.40461848e-02,\n",
       "        2.86663200e-02, 3.35457864e-02, 3.90982237e-02, 4.58506752e-02,\n",
       "        5.33834974e-02, 6.04876482e-02, 6.57390327e-02, 6.73526498e-02,\n",
       "        6.48628865e-02, 5.98721624e-02, 5.40815572e-02, 4.78810480e-02,\n",
       "        4.11710277e-02, 3.46328162e-02, 2.91411090e-02, 2.47724756e-02,\n",
       "        2.09950040e-02, 1.74818163e-02, 1.43791202e-02, 1.18997554e-02,\n",
       "        1.00440617e-02, 8.41204470e-03, 6.64922588e-03, 5.06226793e-03,\n",
       "        3.99084350e-03, 3.20890936e-03, 2.45208117e-03, 1.83077187e-03,\n",
       "        1.45131448e-03, 1.18957743e-03, 9.28779851e-04, 7.08403668e-04,\n",
       "        5.89918951e-04, 5.16143702e-04, 4.31457975e-04, 3.61977684e-04,\n",
       "        3.23964455e-04, 2.85572228e-04, 2.08778714e-04, 1.11753562e-04,\n",
       "        5.27909667e-05, 5.26489287e-05, 8.18040487e-05, 1.04081174e-04,\n",
       "        1.11027127e-04, 1.13193474e-04, 1.08698210e-04, 8.41745416e-05,\n",
       "        4.56904843e-05, 1.59758879e-05, 3.42785083e-06, 4.39616004e-07,\n",
       "        4.60056854e-08, 2.02092433e-07, 1.80718588e-06, 9.43286616e-06,\n",
       "        2.85337127e-05, 5.00193196e-05, 5.08138538e-05, 2.99151624e-05,\n",
       "        1.02063161e-05, 2.02085572e-06, 2.90174734e-07, 7.02095933e-07,\n",
       "        4.63578102e-06, 1.81303312e-05, 4.10968123e-05, 5.39853232e-05]),\n",
       " array([-4.25429472, -4.16905976, -4.0838248 , -3.99858983, -3.91335487,\n",
       "        -3.8281199 , -3.74288494, -3.65764997, -3.57241501, -3.48718005,\n",
       "        -3.40194508, -3.31671012, -3.23147515, -3.14624019, -3.06100523,\n",
       "        -2.97577026, -2.8905353 , -2.80530033, -2.72006537, -2.6348304 ,\n",
       "        -2.54959544, -2.46436048, -2.37912551, -2.29389055, -2.20865558,\n",
       "        -2.12342062, -2.03818566, -1.95295069, -1.86771573, -1.78248076,\n",
       "        -1.6972458 , -1.61201084, -1.52677587, -1.44154091, -1.35630594,\n",
       "        -1.27107098, -1.18583601, -1.10060105, -1.01536609, -0.93013112,\n",
       "        -0.84489616, -0.75966119, -0.67442623, -0.58919127, -0.5039563 ,\n",
       "        -0.41872134, -0.33348637, -0.24825141, -0.16301645, -0.07778148,\n",
       "         0.00745348,  0.09268845,  0.17792341,  0.26315838,  0.34839334,\n",
       "         0.4336283 ,  0.51886327,  0.60409823,  0.6893332 ,  0.77456816,\n",
       "         0.85980312,  0.94503809,  1.03027305,  1.11550802,  1.20074298,\n",
       "         1.28597794,  1.37121291,  1.45644787,  1.54168284,  1.6269178 ,\n",
       "         1.71215277,  1.79738773,  1.88262269,  1.96785766,  2.05309262,\n",
       "         2.13832759,  2.22356255,  2.30879751,  2.39403248,  2.47926744,\n",
       "         2.56450241,  2.64973737,  2.73497233,  2.8202073 ,  2.90544226,\n",
       "         2.99067723,  3.07591219,  3.16114716,  3.24638212,  3.33161708,\n",
       "         3.41685205,  3.50208701,  3.58732198,  3.67255694,  3.7577919 ,\n",
       "         3.84302687,  3.92826183,  4.0134968 ,  4.09873176,  4.18396672]),\n",
       " array([6.26228743e-05, 6.54257376e-05, 6.34566972e-05, 6.18757032e-05,\n",
       "        6.68026140e-05, 8.39975381e-05, 1.19031480e-04, 1.76919979e-04,\n",
       "        2.59710296e-04, 3.63636378e-04, 4.79353145e-04, 5.96809805e-04,\n",
       "        7.12013283e-04, 8.30606856e-04, 9.65476992e-04, 1.13040300e-03,\n",
       "        1.33495820e-03, 1.58517132e-03, 1.88949925e-03, 2.26314399e-03,\n",
       "        2.72301010e-03, 3.27465331e-03, 3.90257839e-03, 4.57372827e-03,\n",
       "        5.25258697e-03, 5.91801814e-03, 6.57323028e-03, 7.24600837e-03,\n",
       "        7.97996019e-03, 8.81822787e-03, 9.78320438e-03, 1.08618436e-02,\n",
       "        1.20091102e-02, 1.31714031e-02, 1.43135110e-02, 1.54293184e-02,\n",
       "        1.65339361e-02, 1.76494631e-02, 1.87918324e-02, 1.99580849e-02,\n",
       "        2.11187540e-02, 2.22265663e-02, 2.32426122e-02, 2.41624585e-02,\n",
       "        2.50192755e-02, 2.58568145e-02, 2.66904407e-02, 2.74875883e-02,\n",
       "        2.81836039e-02, 2.87170363e-02, 2.90546351e-02, 2.91924257e-02,\n",
       "        2.91396847e-02, 2.88979296e-02, 2.84469867e-02, 2.77516751e-02,\n",
       "        2.67926161e-02, 2.56014627e-02, 2.42697767e-02, 2.29192831e-02,\n",
       "        2.16517961e-02, 2.05114320e-02, 1.94819369e-02, 1.85171384e-02,\n",
       "        1.75779202e-02, 1.66455335e-02, 1.57069063e-02, 1.47374885e-02,\n",
       "        1.37064111e-02, 1.25999047e-02, 1.14381052e-02, 1.02689525e-02,\n",
       "        9.14564717e-03, 8.10530661e-03, 7.15983656e-03, 6.29889314e-03,\n",
       "        5.50081802e-03, 4.74769281e-03, 4.03774079e-03, 3.38588864e-03,\n",
       "        2.81066707e-03, 2.31887154e-03, 1.90243236e-03, 1.54908351e-03,\n",
       "        1.25396508e-03, 1.01957076e-03, 8.45292350e-04, 7.19239467e-04,\n",
       "        6.21703638e-04, 5.36221461e-04, 4.56638148e-04, 3.84855147e-04,\n",
       "        3.24467490e-04, 2.77141480e-04, 2.42355996e-04, 2.17540499e-04,\n",
       "        1.97915893e-04, 1.77578763e-04, 1.52088512e-04, 1.20771873e-04]))"
      ]
     },
     "execution_count": 21,
     "metadata": {},
     "output_type": "execute_result"
    }
   ],
   "source": [
    "ERROR"
   ]
  },
  {
   "cell_type": "code",
   "execution_count": 22,
   "metadata": {},
   "outputs": [
    {
     "data": {
      "text/plain": [
       "440.00116722342347"
      ]
     },
     "execution_count": 22,
     "metadata": {},
     "output_type": "execute_result"
    }
   ],
   "source": [
    "ERROR, theta, ys, f1, yhats, f1hat =svmodel1(betab1)\n",
    "ERROR\n"
   ]
  },
  {
   "cell_type": "markdown",
   "metadata": {},
   "source": [
    "$\\textbf{Simulated  Annealing}$\n",
    "\n",
    "\n",
    "1. Specify  Temperature   and  ”Cooling Schedule”  Parameter,   $\\bar{T}$ \n",
    "\n",
    "1a.Operation:   T(j)= $\\frac{\\bar{T}}{1+\\ln[j]}$\n",
    "\n",
    "2. Start Random Process at j=0, continue till j=(1,2,...$\\bar{T}$)\n",
    "\n",
    "3. Initialize Solution Vector and Error Metric: \n",
    "\n",
    "3a.$\\Omega_{0}, \\Psi_{0}$\n",
    "\n",
    "\n",
    "4.  Randomly Perturbate Solution Vector, Obtain Error Metric for each j: \n",
    "\n",
    "4a. $\\widehat{\\Omega}_{j}, \\widehat{\\Psi}_{j}$\n",
    "\n",
    "5.  Generate P(j) from Uniform Distribution \n",
    "\n",
    "5a  0 $\\leq$ P(j) $\\leq$ 1\n",
    "\n",
    "6.    Compute Metropolis Ratio M(j)  \n",
    "\n",
    "6a    M(j) $=exp{\\left[\\frac{-\\left(\\widehat{\\Psi}_{j}-\\Psi_{j-1}\\right)}{T(j)}\\right]}$\n",
    "\n",
    "7.     Accept New Vector $\\widehat{\\Omega}_{j}$  Unconditionally if\n",
    "\n",
    "7a.   $\\Omega_{j}= \\widehat{\\Omega}_{j}{\\Leftrightarrow}\\left(\\widehat{\\Psi}_{j}-\\Psi_{j-1}\\right) <0$ \n",
    "\n",
    "8.    Accept New Vector $\\Omega_{j}=\\widehat{\\Omega}_{j}$  Conditionally if:\n",
    "\n",
    "8a    P(j) $\\leq$ M(j)\n",
    "\n",
    "9.    Continue process till j= $\\bar{T}$ "
   ]
  },
  {
   "cell_type": "code",
   "execution_count": 23,
   "metadata": {},
   "outputs": [
    {
     "data": {
      "text/plain": [
       "[<matplotlib.lines.Line2D at 0x165ef9da6d0>]"
      ]
     },
     "execution_count": 23,
     "metadata": {},
     "output_type": "execute_result"
    },
    {
     "data": {
      "image/png": "[encoded data removed]",
      "text/plain": [
       "<Figure size 432x288 with 1 Axes>"
      ]
     },
     "metadata": {
      "needs_background": "light"
     },
     "output_type": "display_data"
    }
   ],
   "source": [
    "plt.plot(yhats,f1hat)"
   ]
  },
  {
   "cell_type": "markdown",
   "metadata": {},
   "source": [
    "$\\textbf{Evolutionary Stochastic Search: The Genetic Algorithm}$\n",
    "\n",
    "\n",
    "\n",
    "Both the Newton-based optimization (including backpropagation) and Simulated Annealing (SA) start with one random initialization vector $\\Omega_{0}$.  It should be clear that the usefulness of both of these approaches to optimization crucially depend on how ”good” this initial parameter guess really is.  The genetic algorithm or GA helps us come up with a better ”guess” for using either of these search processes.  \n",
    "\n",
    "The GA reduces the likelihood of landing in a local minimum.  We no longer have to approximate the Hessians. \n",
    "The GA proceeds in the following steps.\n",
    "\n",
    "1. Population creation\n",
    "\n",
    "This method starts not with one random coefficient vector $\\Omega$, but with a population $N^{\\ast}$ (an even number) of random vectors.  \n",
    "\n",
    "Letting p be the size of each column vector, representing the total number of coefficients to be estimated in the neural network, we create a population $N^{\\ast}$ of p by 1 random vectors.  \n",
    "\n",
    "$\\left(\\begin{array}{c}\n",
    "\\begin{array}{c}\n",
    "\\Omega_{1}\\\\\n",
    "\\Omega_{2}\\\\\n",
    "\\Omega_{\\substack{3}\n",
    "}\n",
    "\\end{array}\\\\\n",
    ".\\\\\n",
    ".\\\\\n",
    "\\Omega_{p}\n",
    "\\end{array}\\right)_{1}\\left(\\begin{array}{c}\n",
    "\\begin{array}{c}\n",
    "\\Omega_{1}\\\\\n",
    "\\Omega_{2}\\\\\n",
    "\\Omega_{\\substack{3}\n",
    "}\n",
    "\\end{array}\\\\\n",
    ".\\\\\n",
    ".\\\\\n",
    "\\Omega_{p}\n",
    "\\end{array}\\right)_{2}\\left(\\begin{array}{c}\n",
    "\\begin{array}{c}\n",
    "\\Omega_{1}\\\\\n",
    "\\Omega_{2}\\\\\n",
    "\\Omega_{\\substack{3}\n",
    "}\n",
    "\\end{array}\\\\\n",
    ".\\\\\n",
    ".\\\\\n",
    "\\Omega_{p}\n",
    "\\end{array}\\right)_{i}...\\left(\\begin{array}{c}\n",
    "\\begin{array}{c}\n",
    "\\Omega_{1}\\\\\n",
    "\\Omega_{2}\\\\\n",
    "\\Omega_{\\substack{3}\n",
    "}\n",
    "\\end{array}\\\\\n",
    ".\\\\\n",
    ".\\\\\n",
    "\\Omega_{p}\n",
    "\\end{array}\\right)_{N\\ast}\n",
    "$\n",
    "\n",
    "2 Selection\n",
    "\n",
    "The next step is to select two pairs of coefficients from the population at random, with replacement.  Evaluate the ”fitness” of these four coefficient vectors, in two pair wise combinations, according to the sum of squared error function given above.  Coefficient vectors which come closer to minimizing the sum of squared errors receive ”better” fitness values.\n",
    "\n",
    "This is a simple fitness ”tournament” between the two pairs of vectors: the winner of each tournament is the vector with the best ”fitness”. These two winning vectors (i,j)are retained for ”breeding” purposes.  While not always used, it has proven to be  extremely useful for speeding up the convergence of the genetic search process.   \n",
    "$\\left(\\begin{array}{c}\n",
    "\\begin{array}{c}\n",
    "\\Omega_{1}\\\\\n",
    "\\Omega_{2}\\\\\n",
    "\\Omega_{\\substack{3}\n",
    "}\n",
    "\\end{array}\\\\\n",
    ".\\\\\n",
    ".\\\\\n",
    "\\Omega_{p}\n",
    "\\end{array}\\right)_{i}\\left(\\begin{array}{c}\n",
    "\\begin{array}{c}\n",
    "\\Omega_{1}\\\\\n",
    "\\Omega_{2}\\\\\n",
    "\\Omega_{\\substack{3}\n",
    "}\n",
    "\\end{array}\\\\\n",
    ".\\\\\n",
    ".\\\\\n",
    "\\Omega_{p}\n",
    "\\end{array}\\right)_{j}\n",
    "$\n",
    "\n",
    "3 Crossover\n",
    "\n",
    "The next step is crossover, in which the two parents ”breed” two children.  The algorithm allows ”crossover” to be performed on each pair of coefficient vectors i and j, with a fixed probability p>0.  If crossover is to be performed, the algorithm uses one of three difference crossover operations, with each method having an equal (1/3) probability of being chosen:\n",
    "\n",
    "1. Shuffle crossover.  For each pair of vectors, k random draws are made from a binomial distribution. If the $k^{th}$ draw is equal to 1, the coefficients $\\Omega_{i,p}$ and $\\Omega_{j,p}$ are swapped; otherwise, no change is made.\n",
    "\n",
    "2. Arithmetic crossover. For each pair of vectors, a random number is chosen, $\\omega\\in(0,1)$. This number is used to create two new parameter vectors which are linear combinations of the two parent factors, $\\omega\\Omega_{i,p}+(1-\\omega)\\Omega_{j,p},(1-\\omega\\Omega_{i,p}+\\omega)\\Omega_{j,p}$.\n",
    "\n",
    "3. Single-point crossover. For each pair of vectors, an integer I is randomly chosen from the set [1,k-1].  The two vectors are then cut at integer I and the coefficients to the right of this cut point, $\\Omega_{i,I+1},\\Omega_{j,I+1}$ are swapped. \n",
    "\n",
    "In binary-encoded genetic algorithms, single-point crossover is the standard method.  There is no consensus in the genetic algorithm literature on which method is best for real-valued encoding.  \n",
    "\n",
    "Following the operation of the crossover operation, each pair of ”parent” vectors is associated with two ”children” coefficient vectors, which are denoted C1(i) and C2(j).  If crossover has been applied to the pair of parents, the children vectors will generally differ from the parent vectors.\n",
    "\n",
    "4 Mutation\n",
    "\n",
    "The fifth step is mutation of the children.  With some small probability $\\widetilde{pr}$, which decreases over time, each element or coefficient of the two children's vectors is subjected to a mutation.  The probability of each element is subject to mutation in generation $G=1,2,...G^{\\ast}$, given by the probability $\\widetilde{pr}=.15+.33/G$.\n",
    "\n",
    "If mutation is to be performed on a vector element, we use the following non-uniform mutation operation, due to Michalewicz (1996).  \n",
    "\n",
    "Begin by randomly drawing two real numbers $r_{1}$ and $r_{2}$ from the [0,1] interval and one random number s, from a standard normal distribution.  The mutated coefficient $\\widetilde{\\Omega} _{i,p}$ is given by the following $formula:\\widetilde{\\Omega}_{i,p}=\\left\\{ \\begin{array}{c}\n",
    "\\Omega_{i,p}+s[1-r_{2}^{(1-G/G^{\\ast})^{b}}]\\text{ if }r_{1}>.5\\\\\n",
    "\\Omega_{i,p}-s[1-r_{2}^{(1-G/G^{\\ast})^{b}}]\\text{ if }r_{1}\\leq.5\n",
    "\\end{array}\\right\\} $\n",
    "\n",
    "where G is the generation number, $G^{\\ast}$ is the maximum number of generations, and b is a parameter which governs the degree to which the mutation operation is non-uniform.  Usually we set b= 2.  Note that the probability of creating a new coefficient via mutation which is far from the current coefficient value diminishes as $G\\rightarrow G^{\\ast}$, where $G^{\\ast}$ is the number of generations.  Thus, the mutation probability itself \"evolves\" through time  \n",
    "\n",
    "The mutation operation is non-uniform since, over time, the algorithm is sampling increasingly more intensively in a neighborhood of the existing coefficient values.  This more localized search allows for some fine tuning of the coefficient vector in the later stages of the search, when the vectors should be approaching close to a global optimum.\n",
    "\n",
    "5 Election tournament\n",
    "\n",
    "The last step is the election tournament.  Following the mutation operation, the four members of the ”family” (P1,P2,C1,C2) engage in a fitness tournament.  The children are evaluated by the same fitness criterion used to evaluate the parents.  The two vectors with the best fitness, whether parents or children, survive and pass to the next generation, while the two with the worst fitness value are extinguished.  This election operator is due to Arifovic (1996).  She notes that this election operator \"endogenously controls the realized rate of mutation\" in the genetic search process [Arifovic (1996): p. 525].\n",
    "\n",
    "We repeat the above process, with parents i and j returning to the population pool for possible selection again, until the next generation is populated by N* vectors.\n",
    "\n",
    "6 Elitism\n",
    "\n",
    "Once the next generation is populated, we can introduce elitism (or not)  Evaluate all the members of the new generation and the past generation according to the fitness criterion.  If the ”best” member of the older generation dominated the best member of the new generation, then this member displaces the worst member of the new generation and is thus eligible for selection in the coming generation.\n",
    "\n",
    "7 Convergence\n",
    "\n",
    "One continues this process for $G^{\\ast}$ generations.  Unfortunately, the literature gives us little guidance about selecting a value for $G^{\\ast}$. Since we evaluate convergence by the fitness value of the best member of each generation, $G^{\\ast}$ should be large enough so that we see no changes in the fitness values of the \"best\" for several generations.  \n",
    "\n",
    "8  Evolutionary Genetic Algorithms\n",
    "\n",
    "Just as the genetic algorithm is an \"evolutionary search process\" for finding the best coefficient set $\\Omega$ of p elements, the parameters of the genetic algorithm, such as population size, probability of crossover, initial mutation probability, use of elitism or not, can evolve themselves.  As Fogel and Michalewicz (2002) observe, \"let's admit that finding good parameter values for an evolutionary algorithm is a poorly structured, ill-defined, complex problem. But these are the kinds of problems for which evolutionary algorithms are themselves quite adept\" [Fogel and Michalewicz (2002): p.281].  They suggest two different ways to do make a genetic algorithm evolutionary.  One, as we suggested with the mutation probability, is to use a feedback rule from the state of the system which modifies a parameter during the search process. Alternatively, we can incorporate the training parameters into the solution by modifying $\\Omega$, to include additional elements, such as population size, use of elitism, crossover probability.  These parameters thus become subject to evolutionary search along with the solution set $\\Omega$ itself."
   ]
  },
  {
   "cell_type": "markdown",
   "metadata": {},
   "source": [
    "$\\textbf{The Particle Swarm Algorithm}$\n",
    "\n",
    "The Particle Swarm algorithm is similar to the GA.  Both start out with a wide set of candidate solutions to the parameter sector.   It is take from the social behavior of animal groups foraging for food, who are able to share information within their group or swarm, which gives them survival knowledge.\n",
    "\n",
    "Each parameter $\\Omega_{i}$is a position vector, or particle, in the swarm and consists of K-elements at iteration t: \n",
    "\n",
    "$\\Omega_{i}^{t}$ = $[\\omega_{i,1}^t, \\omega_{i,2}^t ...\\omega_{i,k}^t]$, k=1...K,  for i=1.,,,N position vectors\n",
    "\n",
    "Each position vector tries to optimize a payoff or fitness function $f(\\Omega_{i}^t)$\n",
    "\n",
    "For each position vector, $\\Omega_{i}$ there is a Velocity vector $V_{i}^t$.  Each velocity vector is updated at each iteration t, for each of the N position vectors, in the following way:\n",
    "\n",
    "$V_{i,k}^{t+1} = c_0 V_{i,k}^t + c_1 r_1^t (Pbest_{i,k}-\\Omega_{i,k}^t) + c_2 r_2^t(Gbest_{i,k}^t-\\Omega_{i,k}^t)$\n",
    "\n",
    "Given the law of motion of the Velocity of each position vector in the swarm, each position vector updates in the following way:\n",
    "\n",
    "$\\Omega_{i,k}^{t+1}= \\Omega_{i,k}^t + V_{i,k}^{t+1}$\n",
    "\n",
    "The parameter $c_0$ is the inertia coefficient,and is positive, with 0 $\\le c_0 \\le 1$\n",
    "\n",
    "The individual cognition term is given by $c_1$.  It is related to the difference between the particle's current position and its best.  The parameter $c_1$ is shocked by a uniform random term, $r_1^t$.  This random terms plays an important role for avoiding premature convergence.\n",
    "\n",
    "The term $c_2$ is the social learning term.  Because of it all members of the swarm are able to share the information of the best point, given by $Gbest_{i,k}^t$, regardless of which particle found it.  This parameter is also subject to a uniform shock, $r_1^t$.\n",
    "\n",
    "The parameters for learning are usually set to 2.  The number of particles is usually set between 20 and 40.\n",
    "\n",
    "Like the GA, it is derivative-free and has fewer \"hyper-parameters\".\n"
   ]
  },
  {
   "cell_type": "code",
   "execution_count": 24,
   "metadata": {},
   "outputs": [
    {
     "data": {
      "image/png": "[encoded data removed]",
      "text/plain": [
       "<Figure size 432x288 with 1 Axes>"
      ]
     },
     "metadata": {
      "needs_background": "light"
     },
     "output_type": "display_data"
    }
   ],
   "source": [
    "import matplotlib.pyplot as plt\n",
    "\n",
    "\n",
    "\n",
    "plt.plot(yhats, f1hat, '-', label='Fitted Distribution')\n",
    "plt.plot(Xe, Fe, '--', label='Actual Distribution')\n",
    "plt.legend()\n",
    "plt.show()"
   ]
  },
  {
   "cell_type": "code",
   "execution_count": 25,
   "metadata": {},
   "outputs": [
    {
     "data": {
      "text/plain": [
       "array([0.01645513, 0.        , 0.001     , 0.68177806, 0.09009846])"
      ]
     },
     "execution_count": 25,
     "metadata": {},
     "output_type": "execute_result"
    }
   ],
   "source": [
    "\n",
    "betab"
   ]
  },
  {
   "cell_type": "code",
   "execution_count": 26,
   "metadata": {
    "scrolled": true
   },
   "outputs": [],
   "source": [
    "\n",
    "from multiprocessing import Process\n",
    "from scipy.optimize import differential_evolution\n",
    "import numpy as np\n",
    "from scipy.optimize import optimize \n",
    "#betab = np.abs(betab)\n",
    "bounds = [[-1, 1],\n",
    "          [0,1],\n",
    "          [-1,1],\n",
    "          [0,1],\n",
    "          [-1,1]]\n",
    "\n",
    "\n",
    "\n"
   ]
  },
  {
   "cell_type": "code",
   "execution_count": 27,
   "metadata": {},
   "outputs": [
    {
     "data": {
      "text/plain": [
       "440.00116722342347"
      ]
     },
     "execution_count": 27,
     "metadata": {},
     "output_type": "execute_result"
    }
   ],
   "source": [
    "ERROR1a, theta, ys, f1, yhats, f1hat =svmodel1(betab)\n",
    "ERROR1a"
   ]
  },
  {
   "cell_type": "code",
   "execution_count": 28,
   "metadata": {},
   "outputs": [
    {
     "data": {
      "image/png": "[encoded data removed]",
      "text/plain": [
       "<Figure size 432x288 with 1 Axes>"
      ]
     },
     "metadata": {
      "needs_background": "light"
     },
     "output_type": "display_data"
    }
   ],
   "source": [
    "plt.plot(yhats, f1hat, '-', label='Fitted Distribution')\n",
    "plt.plot(Xe, Fe, '--', label='Actual Distribution')\n",
    "plt.legend()\n",
    "plt.show()"
   ]
  },
  {
   "cell_type": "code",
   "execution_count": null,
   "metadata": {},
   "outputs": [],
   "source": []
  },
  {
   "cell_type": "code",
   "execution_count": null,
   "metadata": {},
   "outputs": [],
   "source": [
    "\n",
    "\n",
    "\n"
   ]
  },
  {
   "cell_type": "code",
   "execution_count": null,
   "metadata": {},
   "outputs": [],
   "source": []
  },
  {
   "cell_type": "code",
   "execution_count": 29,
   "metadata": {},
   "outputs": [
    {
     "name": "stderr",
     "output_type": "stream",
     "text": [
      "C:\\Users\\mcnel\\AppData\\Local\\Temp/ipykernel_10540/1198306925.py:42: RuntimeWarning: overflow encountered in scalar multiply\n",
      "  v[i] =   delta  + gamma*  v[i - 1] + sigmav * zz[i, 1]\n"
     ]
    }
   ],
   "source": [
    "\n",
    "result2 = minimize(svmodel, betab, bounds, method='Nelder-Mead')"
   ]
  },
  {
   "cell_type": "code",
   "execution_count": 30,
   "metadata": {},
   "outputs": [
    {
     "data": {
      "text/plain": [
       "array([0.0391234 , 0.72483735, 0.22083822, 5.79065579, 0.82224313])"
      ]
     },
     "execution_count": 30,
     "metadata": {},
     "output_type": "execute_result"
    }
   ],
   "source": [
    "betab2 = result2.x\n",
    "betab2"
   ]
  },
  {
   "cell_type": "code",
   "execution_count": 31,
   "metadata": {},
   "outputs": [
    {
     "name": "stderr",
     "output_type": "stream",
     "text": [
      "C:\\Users\\mcnel\\AppData\\Local\\Temp/ipykernel_10540/2334269421.py:20: RuntimeWarning: overflow encountered in scalar multiply\n",
      "  v[i] =   delta  + gamma*  v[i - 1] + sigmav * zz[i, 1]\n"
     ]
    },
    {
     "data": {
      "text/plain": [
       "6.225976386909175"
      ]
     },
     "execution_count": 31,
     "metadata": {},
     "output_type": "execute_result"
    }
   ],
   "source": [
    "ERROR2a, theta, ys, f1, yhats, f1hat =svmodel1(betab2)\n",
    "ERROR2a"
   ]
  },
  {
   "cell_type": "code",
   "execution_count": 33,
   "metadata": {},
   "outputs": [],
   "source": [
    "bounds =[[-0.10,0.1],[.10, 0.90],[-0.20, .01],[.1, .95],[0.001, .1]]\n",
    "result3 = scipy.optimize.dual_annealing(svmodel,bounds)"
   ]
  },
  {
   "cell_type": "code",
   "execution_count": 34,
   "metadata": {},
   "outputs": [
    {
     "data": {
      "text/plain": [
       " message: ['Maximum number of iteration reached']\n",
       " success: True\n",
       "  status: 0\n",
       "     fun: 32.56679816483481\n",
       "       x: [-1.000e-01  1.000e-01 -2.000e-01  9.500e-01  1.000e-01]\n",
       "     nit: 1000\n",
       "    nfev: 10043\n",
       "    njev: 7\n",
       "    nhev: 0"
      ]
     },
     "execution_count": 34,
     "metadata": {},
     "output_type": "execute_result"
    }
   ],
   "source": [
    "result3"
   ]
  },
  {
   "cell_type": "code",
   "execution_count": 35,
   "metadata": {},
   "outputs": [
    {
     "data": {
      "text/plain": [
       "array([-0.1 ,  0.1 , -0.2 ,  0.95,  0.1 ])"
      ]
     },
     "execution_count": 35,
     "metadata": {},
     "output_type": "execute_result"
    }
   ],
   "source": [
    "betab3 = result3.x\n",
    "betab3"
   ]
  },
  {
   "cell_type": "code",
   "execution_count": 36,
   "metadata": {},
   "outputs": [
    {
     "data": {
      "text/plain": [
       "32.56679816483481"
      ]
     },
     "execution_count": 36,
     "metadata": {},
     "output_type": "execute_result"
    }
   ],
   "source": [
    "ERROR3a, theta, ys, f1, yhats, f1hat =svmodel1(betab3)\n",
    "ERROR3a"
   ]
  },
  {
   "cell_type": "code",
   "execution_count": 37,
   "metadata": {},
   "outputs": [
    {
     "data": {
      "image/png": "[encoded data removed]",
      "text/plain": [
       "<Figure size 432x288 with 1 Axes>"
      ]
     },
     "metadata": {
      "needs_background": "light"
     },
     "output_type": "display_data"
    }
   ],
   "source": [
    "plt.plot(yhats, f1hat, '-', label='Fitted Distribution')\n",
    "plt.plot(Xe, Fe, '--', label='Actual Distribution')\n",
    "plt.legend()\n",
    "plt.show()"
   ]
  },
  {
   "cell_type": "code",
   "execution_count": 38,
   "metadata": {},
   "outputs": [
    {
     "data": {
      "text/plain": [
       "array([-0.1 ,  0.1 , -0.2 ,  0.95,  0.1 ])"
      ]
     },
     "execution_count": 38,
     "metadata": {},
     "output_type": "execute_result"
    }
   ],
   "source": [
    "betab3"
   ]
  },
  {
   "cell_type": "code",
   "execution_count": null,
   "metadata": {},
   "outputs": [],
   "source": [
    "bounds = [(-0.10,.01),(.1,.8),(-0.01,.1),(.1,.9),(.0000001,.10)]\n",
    "#bounds = [-.9, .95) for i in range(5)]\n",
    "objective_function = svmodel\n",
    "options = {'crossover': (0.5, 1.0), 'mutation': (0.0, 1.0)}\n",
    "#result4 = differential_evolution(svmodel, bounds, x0=betab3, maxiter=30, popsize=40, tol=0.01, \n",
    "#updating='immediate',workers=-1)\n",
    "result4 = differential_evolution(objective_function, bounds, strategy='best1bin', workers= -1,\n",
    "maxiter=50, popsize=50, tol=0.1, mutation=(0.5, 1.0), recombination=0.7, \n",
    "seed=None, callback=None, disp=False, polish=True, updating ='deferred',\n",
    "init='latinhypercube', atol=0)\n",
    "#result4 = differential_evolution(svmodel, bounds)\n"
   ]
  },
  {
   "cell_type": "code",
   "execution_count": null,
   "metadata": {},
   "outputs": [],
   "source": [
    "betab4 = result4.x\n",
    "ERROR3a, theta, ys, f1, yhats, f1hat =svmodel1(betab4)\n"
   ]
  },
  {
   "cell_type": "code",
   "execution_count": null,
   "metadata": {},
   "outputs": [],
   "source": []
  },
  {
   "cell_type": "code",
   "execution_count": null,
   "metadata": {},
   "outputs": [],
   "source": [
    "plt.plot(yhats, f1hat, '-', label='Fitted Distribution')\n",
    "plt.plot(Xe, Fe, '--', label='Actual Distribution')\n",
    "plt.legend()\n",
    "plt.show()"
   ]
  },
  {
   "cell_type": "code",
   "execution_count": null,
   "metadata": {},
   "outputs": [],
   "source": [
    "import numpy as np\n",
    "#import pyswarms as ps\n",
    "import pyswarm\n",
    "#from pyswarms.utils.functions import single_obj as fx\n",
    "\n",
    "\n",
    "bounds = [(-0.1,.01),(.1,.8),(-0.3,.1),(.1,.9),(.0000001,.10)]\n",
    "# Set the lower and upper bounds for each variable\n",
    "lb = [-0.1, 0.1, -0.3,0.1, .0000001]\n",
    "ub = [.01, .8,.1, .9,.10]\n",
    "bounds = (lb, ub)\n",
    "\n",
    "# Set the parameters for the PSO algorithm\n",
    "options = {'c1': 0.5, 'c2': 0.3, 'w': 0.9}\n",
    "fixed_arg1 = data \n",
    "fixed_arg2 = data1 \n",
    "fixed_arg3 = y\n",
    "fixed_arg4 = zz\n",
    "\n",
    "objective = lambda betab: svmodel(betab, fixed_arg1, \n",
    "fixed_arg2, fixed_arg3, fixed_arg4)\n",
    "\n",
    "\n",
    "\n",
    "# Create an instance of the PSO optimizer\n",
    "optimizer = pyswarm.pso(func=objective, lb=lb, ub=ub, ieqcons=[], f_ieqcons=None, args=(), kwargs={},\n",
    "                        swarmsize=100, omega=0.5, phip=0.5, phig=0.5, maxiter=1000, minstep=1e-8, minfunc=1e-8,\n",
    "                        debug=False)\n",
    "\n",
    "#print('Initial swarm:', optimizer.swarm)\n",
    "\n",
    "# Run the optimizer\n",
    "#cost, pos = optimizer.optimize()\n",
    "\n"
   ]
  },
  {
   "cell_type": "code",
   "execution_count": null,
   "metadata": {},
   "outputs": [],
   "source": [
    "junk =optimizer\n",
    "betab4 = junk[0][:5]\n",
    "print(betab4)\n",
    "ERROR = junk[0][1]\n",
    "print(ERROR)\n",
    "\n"
   ]
  },
  {
   "cell_type": "code",
   "execution_count": null,
   "metadata": {},
   "outputs": [],
   "source": []
  },
  {
   "cell_type": "code",
   "execution_count": null,
   "metadata": {},
   "outputs": [],
   "source": [
    "import pyswarm\n",
    "\n",
    "# Define your objective function that takes a decision variable array x and four fixed argument vectors\n",
    "def svmodel(betab, fixed_arg1, fixed_arg2, fixed_arg3, fixed_arg4):\n",
    "    ...\n",
    "\n",
    "# Define the fixed arguments\n",
    "fixed_arg1 = ...\n",
    "fixed_arg2 = ...\n",
    "fixed_arg3 = ...\n",
    "fixed_arg4 = ...\n",
    "\n",
    "# Define the lambda function that calls your svmodel() function with fixed arguments\n",
    "objective = lambda betab: svmodel(betab, fixed_arg1, fixed_arg2, fixed_arg3, fixed_arg4)\n",
    "\n",
    "# Set the optimization options\n",
    "options = {'c1': 0.5, 'c2': 0.3, 'w':0.9}\n",
    "\n",
    "# Define the lower and upper bounds of the decision variable array\n",
    "lb = [0, 0, 0, 0, 0]\n",
    "ub = [1, 1, 1, 1, 1]\n",
    "bounds = (lb, ub)\n",
    "\n",
    "# Create an instance of the PSO optimizer\n",
    "optimizer = pyswarm.pso(func=objective, lb=lb, ub=ub, ieqcons=[], f_ieqcons=None, args=(), kwargs={},\n",
    "                        swarmsize=10, omega=0.5, phip=0.5, phig=0.5, maxiter=100, minstep=1e-8, minfunc=1e-8,\n",
    "                        debug=False)\n",
    "\n",
    "# Run the optimizer\n",
    "xopt, fopt = optimizer.optimize()\n"
   ]
  },
  {
   "cell_type": "code",
   "execution_count": null,
   "metadata": {},
   "outputs": [],
   "source": [
    "import pandas as pd\n",
    "import arch\n",
    "\n",
    "# Load the data\n",
    "\n",
    "yy = 100 * y\n",
    "# Specify the GARCH model with AR process for the mean\n",
    "am = arch.arch_model(yy, mean='AR', lags=1, vol='GARCH', p=1, q=1)\n",
    "\n",
    "# Estimate the model\n",
    "res = am.fit()\n",
    "\n",
    "# Print the summary of the results\n",
    "print(res.summary())\n"
   ]
  },
  {
   "cell_type": "code",
   "execution_count": null,
   "metadata": {},
   "outputs": [],
   "source": []
  }
 ],
 "metadata": {
  "colab": {
   "name": "EuroUSD1.ipynb",
   "provenance": []
  },
  "kernelspec": {
   "display_name": "Python 3 (ipykernel)",
   "language": "python",
   "name": "python3"
  },
  "language_info": {
   "codemirror_mode": {
    "name": "ipython",
    "version": 3
   },
   "file_extension": ".py",
   "mimetype": "text/x-python",
   "name": "python",
   "nbconvert_exporter": "python",
   "pygments_lexer": "ipython3",
   "version": "3.9.7"
  }
 },
 "nbformat": 4,
 "nbformat_minor": 1
}
