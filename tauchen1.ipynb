{
 "cells": [
  {
   "cell_type": "code",
   "execution_count": 6,
   "id": "6cd87722",
   "metadata": {},
   "outputs": [
    {
     "name": "stdout",
     "output_type": "stream",
     "text": [
      "[*********************100%%**********************]  1 of 1 completed\n",
      "                                 OLS Regression Results                                \n",
      "=======================================================================================\n",
      "Dep. Variable:                  Close   R-squared (uncentered):                   0.002\n",
      "Model:                            OLS   Adj. R-squared (uncentered):             -0.001\n",
      "Method:                 Least Squares   F-statistic:                             0.8143\n",
      "Date:                Tue, 17 Oct 2023   Prob (F-statistic):                       0.663\n",
      "Time:                        17:59:43   Log-Likelihood:                          15151.\n",
      "No. Observations:                4969   AIC:                                 -3.027e+04\n",
      "Df Residuals:                    4954   BIC:                                 -3.017e+04\n",
      "Df Model:                          15                                                  \n",
      "Covariance Type:            nonrobust                                                  \n",
      "==============================================================================\n",
      "                 coef    std err          t      P>|t|      [0.025      0.975]\n",
      "------------------------------------------------------------------------------\n",
      "day_0       3.926e-05      0.000      0.081      0.935      -0.001       0.001\n",
      "day_1          0.0006      0.000      1.204      0.228      -0.000       0.001\n",
      "day_2          0.0002      0.000      0.364      0.716      -0.001       0.001\n",
      "day_3       1.552e-05      0.000      0.033      0.974      -0.001       0.001\n",
      "month_1       -0.0004      0.001     -0.677      0.498      -0.002       0.001\n",
      "month_2       -0.0003      0.001     -0.507      0.612      -0.002       0.001\n",
      "month_3        0.0001      0.001      0.215      0.830      -0.001       0.001\n",
      "month_4        0.0008      0.001      1.213      0.225      -0.000       0.002\n",
      "month_5       -0.0004      0.001     -0.589      0.556      -0.002       0.001\n",
      "month_6       -0.0004      0.001     -0.582      0.560      -0.002       0.001\n",
      "month_7        0.0008      0.001      1.285      0.199      -0.000       0.002\n",
      "month_8       -0.0003      0.001     -0.529      0.596      -0.002       0.001\n",
      "month_9       -0.0003      0.001     -0.548      0.584      -0.002       0.001\n",
      "month_10       0.0004      0.001      0.582      0.561      -0.001       0.002\n",
      "month_11       0.0008      0.001      1.247      0.213      -0.000       0.002\n",
      "==============================================================================\n",
      "Omnibus:                     1287.988   Durbin-Watson:                   2.255\n",
      "Prob(Omnibus):                  0.000   Jarque-Bera (JB):            53997.516\n",
      "Skew:                          -0.481   Prob(JB):                         0.00\n",
      "Kurtosis:                      19.121   Cond. No.                         4.02\n",
      "==============================================================================\n",
      "\n",
      "Warnings:\n",
      "[1] Standard Errors assume that the covariance matrix of the errors is correctly specified.\n"
     ]
    },
    {
     "data": {
      "text/plain": [
       "[<matplotlib.lines.Line2D at 0x1940a028748>]"
      ]
     },
     "execution_count": 6,
     "metadata": {},
     "output_type": "execute_result"
    },
    {
     "data": {
      "image/png": "[encoded data removed]",
      "text/plain": [
       "<Figure size 432x288 with 1 Axes>"
      ]
     },
     "metadata": {
      "needs_background": "light"
     },
     "output_type": "display_data"
    }
   ],
   "source": [
    "import pandas as pd\n",
    "import statsmodels.api as sm\n",
    "import yfinance as yf\n",
    "import numpy as np\n",
    "import matplotlib.pyplot as plt\n",
    "\n",
    "# Define the ticker symbol for the DJIA (Dow Jones Industrial Average)\n",
    "ticker_symbol = \"^DJI\"\n",
    "\n",
    "# Set the start and end dates for the data you want to retrieve\n",
    "start_date = \"2004-01-01\"\n",
    "end_date = \"2023-09-30\"\n",
    "\n",
    "# Fetch the historical data\n",
    "data = yf.download(ticker_symbol, start=start_date, end=end_date)\n",
    "\n",
    "# Create dummy variables for days of the week and months\n",
    "data['day_of_week'] = data.index.dayofweek\n",
    "data['month'] = data.index.month\n",
    "\n",
    "day_dummies = pd.get_dummies(data['day_of_week'], prefix='day')\n",
    "month_dummies = pd.get_dummies(data['month'], prefix='month')\n",
    "day_dummies = day_dummies.iloc[:,:-1]\n",
    "month_dummies = month_dummies.iloc[:,:-1]\n",
    "\n",
    "# Calculate the first difference of the logarithm of the 'Close' column\n",
    "y = np.log(data['Close']).diff()\n",
    "date = y.index[1:]\n",
    "\n",
    "# Combine the data with dummy variables\n",
    "x= pd.concat([day_dummies, month_dummies], axis=1)\n",
    "x1 = x.iloc[1:,:]\n",
    "\n",
    "common_index = x1.index.intersection(y.index)\n",
    "x1 = x1.loc[common_index]\n",
    "y = y.loc[common_index]\n",
    "\n",
    "# Now, x1 and y should have the same aligned indices\n",
    "model = sm.OLS(y, x1).fit()\n",
    "print(model.summary())\n",
    "yhat = model.predict(x1)\n",
    "y1 = y - yhat\n",
    "plt.plot(date,y1)\n"
   ]
  },
  {
   "cell_type": "code",
   "execution_count": null,
   "id": "ed4f7d09",
   "metadata": {},
   "outputs": [],
   "source": []
  },
  {
   "cell_type": "code",
   "execution_count": null,
   "id": "327ce47d",
   "metadata": {},
   "outputs": [],
   "source": []
  },
  {
   "cell_type": "code",
   "execution_count": null,
   "id": "78683a0f",
   "metadata": {},
   "outputs": [],
   "source": []
  }
 ],
 "metadata": {
  "kernelspec": {
   "display_name": "Python 3",
   "language": "python",
   "name": "python3"
  },
  "language_info": {
   "codemirror_mode": {
    "name": "ipython",
    "version": 3
   },
   "file_extension": ".py",
   "mimetype": "text/x-python",
   "name": "python",
   "nbconvert_exporter": "python",
   "pygments_lexer": "ipython3",
   "version": "3.7.6"
  }
 },
 "nbformat": 4,
 "nbformat_minor": 5
}
